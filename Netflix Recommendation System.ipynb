{
 "cells": [
  {
   "cell_type": "markdown",
   "metadata": {
    "_cell_guid": "637b34e2-b123-4b2d-8e70-97631b0321f9",
    "_uuid": "1f60257741c703435318df7e05e2a46c6e11af63"
   },
   "source": [
    "# Importing the Required Libraries"
   ]
  },
  {
   "cell_type": "code",
   "execution_count": 105,
   "metadata": {
    "_cell_guid": "046298b9-7ef7-4e68-aef2-a1fe316be5a0",
    "_uuid": "3bc39967a41f9ec3989f971c49916b822b0806b7"
   },
   "outputs": [],
   "source": [
    "import pandas as pd\n",
    "import os\n",
    "import numpy as np\n",
    "import math\n",
    "import re\n",
    "from scipy.sparse import csr_matrix\n",
    "import matplotlib.pyplot as plt\n",
    "import seaborn as sns\n",
    "from surprise import Reader, Dataset, SVD, KNNWithMeans, accuracy\n",
    "from surprise.model_selection import cross_validate, train_test_split\n",
    "sns.set_style(\"darkgrid\")"
   ]
  },
  {
   "cell_type": "markdown",
   "metadata": {
    "_cell_guid": "be4477f1-7a11-48f4-8147-262a6198609f",
    "_uuid": "665b9a4bceca7bb318e39f1a5825170b18c6cc63"
   },
   "source": [
    "Understanding the quantity of data ( Skipping the Date Column)"
   ]
  },
  {
   "cell_type": "code",
   "execution_count": 3,
   "metadata": {
    "_cell_guid": "0343ba37-0654-469c-98e5-812ecbaca528",
    "_uuid": "2a5476e11ee4539c129f2da35fccdacf2c296765"
   },
   "outputs": [
    {
     "data": {
      "text/plain": [
       "Cust_Id     object\n",
       "Rating     float64\n",
       "dtype: object"
      ]
     },
     "execution_count": 3,
     "metadata": {},
     "output_type": "execute_result"
    }
   ],
   "source": [
    "\n",
    "df1 = pd.read_csv('D:\\\\My Works\\\\Netflix Recommendation System\\\\Dataset\\\\combined_data_1.txt', header = None, names = ['Cust_Id', 'Rating'], usecols = [0,1])\n",
    "\n",
    "df1.dtypes"
   ]
  },
  {
   "cell_type": "code",
   "execution_count": 4,
   "metadata": {},
   "outputs": [
    {
     "data": {
      "text/html": [
       "<div>\n",
       "<style scoped>\n",
       "    .dataframe tbody tr th:only-of-type {\n",
       "        vertical-align: middle;\n",
       "    }\n",
       "\n",
       "    .dataframe tbody tr th {\n",
       "        vertical-align: top;\n",
       "    }\n",
       "\n",
       "    .dataframe thead th {\n",
       "        text-align: right;\n",
       "    }\n",
       "</style>\n",
       "<table border=\"1\" class=\"dataframe\">\n",
       "  <thead>\n",
       "    <tr style=\"text-align: right;\">\n",
       "      <th></th>\n",
       "      <th>Cust_Id</th>\n",
       "      <th>Rating</th>\n",
       "    </tr>\n",
       "  </thead>\n",
       "  <tbody>\n",
       "    <tr>\n",
       "      <th>0</th>\n",
       "      <td>1:</td>\n",
       "      <td>NaN</td>\n",
       "    </tr>\n",
       "    <tr>\n",
       "      <th>1</th>\n",
       "      <td>1488844</td>\n",
       "      <td>3.0</td>\n",
       "    </tr>\n",
       "    <tr>\n",
       "      <th>2</th>\n",
       "      <td>822109</td>\n",
       "      <td>5.0</td>\n",
       "    </tr>\n",
       "    <tr>\n",
       "      <th>3</th>\n",
       "      <td>885013</td>\n",
       "      <td>4.0</td>\n",
       "    </tr>\n",
       "    <tr>\n",
       "      <th>4</th>\n",
       "      <td>30878</td>\n",
       "      <td>4.0</td>\n",
       "    </tr>\n",
       "  </tbody>\n",
       "</table>\n",
       "</div>"
      ],
      "text/plain": [
       "   Cust_Id  Rating\n",
       "0       1:     NaN\n",
       "1  1488844     3.0\n",
       "2   822109     5.0\n",
       "3   885013     4.0\n",
       "4    30878     4.0"
      ]
     },
     "execution_count": 4,
     "metadata": {},
     "output_type": "execute_result"
    }
   ],
   "source": [
    "df1.head()"
   ]
  },
  {
   "cell_type": "code",
   "execution_count": 5,
   "metadata": {},
   "outputs": [
    {
     "data": {
      "text/plain": [
       "(24058263, 2)"
      ]
     },
     "execution_count": 5,
     "metadata": {},
     "output_type": "execute_result"
    }
   ],
   "source": [
    "df1.shape"
   ]
  },
  {
   "cell_type": "code",
   "execution_count": 6,
   "metadata": {},
   "outputs": [
    {
     "name": "stdout",
     "output_type": "stream",
     "text": [
      "          Cust_Id  Rating\n",
      "0              1:     NaN\n",
      "2500000   2560487     4.0\n",
      "5000000   2560324     4.0\n",
      "7500000   2297074     3.0\n",
      "10000000  2271935     2.0\n",
      "12500000  2076253     3.0\n",
      "15000000  1921803     2.0\n",
      "17500000  1127091     4.0\n",
      "20000000  1933327     3.0\n",
      "22500000  1646238     5.0\n"
     ]
    }
   ],
   "source": [
    "print(df1.iloc[::2500000, :])"
   ]
  },
  {
   "cell_type": "markdown",
   "metadata": {
    "_cell_guid": "b5d0ced5-5376-4ff5-86f9-e642a7adbd92",
    "_uuid": "3509640b273342e38c2635d1bb003e0d33de9e8c"
   },
   "source": [
    "Combining all 4 Datasets into a sinle Dataframe"
   ]
  },
  {
   "cell_type": "code",
   "execution_count": 7,
   "metadata": {
    "_cell_guid": "4a093a49-8a80-4afd-bc13-17b84b284142",
    "_uuid": "a6ca9915b92abd2681ae9a355d446e73b6fbe795"
   },
   "outputs": [],
   "source": [
    "df2 = pd.read_csv('D:\\\\My Works\\\\Netflix Recommendation System\\\\Dataset\\\\combined_data_2.txt', header = None, names = ['Cust_Id', 'Rating'], usecols = [0,1])\n",
    "df3 = pd.read_csv('D:\\\\My Works\\\\Netflix Recommendation System\\\\Dataset\\\\combined_data_3.txt', header = None, names = ['Cust_Id', 'Rating'], usecols = [0,1])\n",
    "df4 = pd.read_csv('D:\\\\My Works\\\\Netflix Recommendation System\\\\Dataset\\\\combined_data_4.txt', header = None, names = ['Cust_Id', 'Rating'], usecols = [0,1])\n",
    "df = df1\n",
    "df = df1.append(df2)\n",
    "df = df.append(df3)\n",
    "df = df.append(df4)\n"
   ]
  },
  {
   "cell_type": "code",
   "execution_count": 8,
   "metadata": {
    "_cell_guid": "ded88177-b586-48f2-bf3d-e1a892aca10e",
    "_uuid": "4ea5a28d0108d2b272f1d30cf749080c4e94e66d"
   },
   "outputs": [
    {
     "name": "stdout",
     "output_type": "stream",
     "text": [
      "           Cust_Id  Rating\n",
      "0               1:     NaN\n",
      "10000000   2271935     2.0\n",
      "20000000   1933327     3.0\n",
      "30000000    961023     4.0\n",
      "40000000    854274     5.0\n",
      "50000000    768483     3.0\n",
      "60000000   1609324     2.0\n",
      "70000000   1776418     4.0\n",
      "80000000    932047     4.0\n",
      "90000000    932191     4.0\n",
      "100000000   872339     4.0\n"
     ]
    }
   ],
   "source": [
    "\n",
    "df.index = np.arange(0,len(df))\n",
    "print(df.iloc[::10000000, :])"
   ]
  },
  {
   "cell_type": "markdown",
   "metadata": {
    "_cell_guid": "78a857d7-1ab1-4d93-b750-9c14b4ba2c9a",
    "_uuid": "5bfa706c8f28f965b669dcfb285c9c32c1478bad"
   },
   "source": [
    "## Data Visualization"
   ]
  },
  {
   "cell_type": "markdown",
   "metadata": {
    "_cell_guid": "48f3f057-706a-4667-b58e-79d70893cbb1",
    "_uuid": "b96e6aebfe14e3be18722b759654b732b8fa4d51"
   },
   "source": [
    "Getting Movie Counts, Rating Counts and User Counts"
   ]
  },
  {
   "cell_type": "code",
   "execution_count": 10,
   "metadata": {
    "_cell_guid": "0d82d7df-6c77-44f2-a0bc-70ae0324329f",
    "_uuid": "7e8780821d463af5bdcee9ec2662cf27d89745e4"
   },
   "outputs": [],
   "source": [
    "p = df.groupby('Rating')['Rating'].agg(['count'])\n",
    "\n",
    "movie_count = df.isnull().sum()[1]\n",
    "\n",
    "cust_count = df['Cust_Id'].nunique() - movie_count\n",
    "\n",
    "rating_count = df['Cust_Id'].count() - movie_count\n",
    "\n"
   ]
  },
  {
   "cell_type": "markdown",
   "metadata": {
    "_cell_guid": "48f3f057-706a-4667-b58e-79d70893cbb1",
    "_uuid": "b96e6aebfe14e3be18722b759654b732b8fa4d51"
   },
   "source": [
    "Visualizing the whole data in a horizontal bar diagram"
   ]
  },
  {
   "cell_type": "code",
   "execution_count": 12,
   "metadata": {},
   "outputs": [
    {
     "data": {
      "image/png": "[encoded data removed]",
      "text/plain": [
       "<Figure size 720x1080 with 1 Axes>"
      ]
     },
     "metadata": {},
     "output_type": "display_data"
    }
   ],
   "source": [
    "ax = p.plot(kind = 'barh', legend = False, figsize = (10,15))\n",
    "plt.title('Total Data: {:,} Movies, {:,} customers, {:,} ratings given'.format(movie_count, cust_count, rating_count), fontsize=20)\n",
    "\n",
    "for i in range(1,6):\n",
    "    ax.text(p.iloc[i-1][0]/4, i-1, 'Rating {}: {:.0f}%'.format(i, p.iloc[i-1][0]*100 / p.sum()[0]), color = 'black', weight = 'bold')\n",
    "\n"
   ]
  },
  {
   "cell_type": "markdown",
   "metadata": {
    "_cell_guid": "48f3f057-706a-4667-b58e-79d70893cbb1",
    "_uuid": "b96e6aebfe14e3be18722b759654b732b8fa4d51"
   },
   "source": [
    "Outhere, we can see that the ratings are tend to be more positive. This doesn't mean that the feature films in the platforms are mostly good. As i can understand this, people tend to rate the film mostly if it is particularly good"
   ]
  },
  {
   "cell_type": "markdown",
   "metadata": {
    "_cell_guid": "581427e0-87df-46b1-a0af-7eb06932b1a3",
    "_uuid": "bf7bd867b322b3e40c4eb1204d345029b4eb31b6"
   },
   "source": [
    "## Data Modification\n"
   ]
  },
  {
   "cell_type": "markdown",
   "metadata": {
    "_cell_guid": "48f3f057-706a-4667-b58e-79d70893cbb1",
    "_uuid": "b96e6aebfe14e3be18722b759654b732b8fa4d51"
   },
   "source": [
    "We are creating a new column named Movie ID for the sake of construction of recommendation system. Outhere we can't loop it till the end due to its size. So we will use the numpy approach"
   ]
  },
  {
   "cell_type": "code",
   "execution_count": 13,
   "metadata": {
    "_cell_guid": "d06e0993-d5ff-4f75-87a7-7659f5427ebf",
    "_uuid": "498476341fad8d25d24090c07ea4b48299f9424a"
   },
   "outputs": [
    {
     "name": "stdout",
     "output_type": "stream",
     "text": [
      "Movie numpy: [1.000e+00 1.000e+00 1.000e+00 ... 1.777e+04 1.777e+04 1.777e+04]\n",
      "Length: 100480507\n"
     ]
    }
   ],
   "source": [
    "df_nan = pd.DataFrame(pd.isnull(df.Rating))\n",
    "df_nan = df_nan[df_nan['Rating'] == True]\n",
    "df_nan = df_nan.reset_index()\n",
    "\n",
    "movie_np = []\n",
    "movie_id = 1\n",
    "\n",
    "for i,j in zip(df_nan['index'][1:],df_nan['index'][:-1]):\n",
    "    # numpy approach\n",
    "    temp = np.full((1,i-j-1), movie_id)\n",
    "    movie_np = np.append(movie_np, temp)\n",
    "    movie_id += 1\n",
    "\n",
    "# Account for last record and corresponding length\n",
    "# numpy approach\n",
    "last_record = np.full((1,len(df) - df_nan.iloc[-1, 0] - 1),movie_id)\n",
    "movie_np = np.append(movie_np, last_record)\n",
    "\n",
    "print('Movie numpy: {}'.format(movie_np))\n",
    "print('Length: {}'.format(len(movie_np)))"
   ]
  },
  {
   "cell_type": "code",
   "execution_count": 14,
   "metadata": {
    "_cell_guid": "e7da935d-a055-4ce6-9509-9c0439fda1de",
    "_uuid": "73c7888f9cf7e1d0f705c6a14019d9371eaa9bf3"
   },
   "outputs": [
    {
     "name": "stdout",
     "output_type": "stream",
     "text": [
      "-Dataset examples-\n",
      "           Cust_Id  Rating  Movie_Id\n",
      "1          1488844     3.0         1\n",
      "5000996     501954     2.0       996\n",
      "10001962    404654     5.0      1962\n",
      "15002876    886608     2.0      2876\n",
      "20003825   1193835     2.0      3825\n",
      "25004661   1899206     3.0      4661\n",
      "30005496    154804     4.0      5496\n",
      "35006274   2078749     5.0      6274\n",
      "40007057    450763     5.0      7057\n",
      "45007991    102092     3.0      7991\n",
      "50009023    220298     5.0      9023\n",
      "55010042    550530     5.0     10042\n",
      "60011038    222570     3.0     11038\n",
      "65011875   1273080     5.0     11875\n",
      "70012676   2026970     5.0     12676\n",
      "75013582    506044     4.0     13582\n",
      "80014453    353605     2.0     14453\n",
      "85015116    664606     3.0     15116\n",
      "90016008   2213715     3.0     16008\n",
      "95016879   1589401     5.0     16879\n",
      "100017627  2314006     4.0     17627\n"
     ]
    }
   ],
   "source": [
    "\n",
    "# remove those Movie ID rows\n",
    "df = df[pd.notnull(df['Rating'])]\n",
    "\n",
    "df['Movie_Id'] = movie_np.astype(int)\n",
    "df['Cust_Id'] = df['Cust_Id'].astype(int)\n",
    "print('-Dataset examples-')\n",
    "print(df.iloc[::5000000, :])\n"
   ]
  },
  {
   "cell_type": "markdown",
   "metadata": {
    "_cell_guid": "fd1a2d66-78b0-4191-8ca2-0caef60e91fa",
    "_uuid": "7abf85f047576e1c8fe7742e28bd2a55d33c366c"
   },
   "source": [
    "## Data Reduction"
   ]
  },
  {
   "cell_type": "markdown",
   "metadata": {
    "_cell_guid": "6532819a-7b08-45c4-8b25-952568d7d465",
    "_uuid": "b0107145609698c552ad9e74fd192cbbe93c4bb3"
   },
   "source": [
    "The data is now in cleaned and modified according to the convenience. But still the data is still super huge . So we have to reduce it without compromising much on the quality. So i decided to eliminate the less active users and less popular movies from the data. I used the basic concept of 'mean' and 'quantile' for this purpose"
   ]
  },
  {
   "cell_type": "code",
   "execution_count": 15,
   "metadata": {
    "_cell_guid": "1db45c46-ee82-4db5-be2c-919258c09d47",
    "_uuid": "b8987bf7e2cfcdc2a69fb767c4033d05240cc5a3"
   },
   "outputs": [
    {
     "name": "stdout",
     "output_type": "stream",
     "text": [
      "Movie minimum times of review: 1948.0\n",
      "Customer minimum times of review: 211.0\n"
     ]
    }
   ],
   "source": [
    "f = ['count','mean']\n",
    "\n",
    "df_movie_summary = df.groupby('Movie_Id')['Rating'].agg(f)\n",
    "df_movie_summary.index = df_movie_summary.index.map(int)\n",
    "movie_benchmark = round(df_movie_summary['count'].quantile(0.7),0)\n",
    "drop_movie_list = df_movie_summary[df_movie_summary['count'] < movie_benchmark].index\n",
    "\n",
    "print('Movie minimum times of review: {}'.format(movie_benchmark))\n",
    "\n",
    "df_cust_summary = df.groupby('Cust_Id')['Rating'].agg(f)\n",
    "df_cust_summary.index = df_cust_summary.index.map(int)\n",
    "cust_benchmark = round(df_cust_summary['count'].quantile(0.7),0)\n",
    "drop_cust_list = df_cust_summary[df_cust_summary['count'] < cust_benchmark].index\n",
    "\n",
    "print('Customer minimum times of review: {}'.format(cust_benchmark))"
   ]
  },
  {
   "cell_type": "markdown",
   "metadata": {
    "_cell_guid": "bebeaf19-b3a0-45d9-8a91-deaff2881d71",
    "_uuid": "bc6022b8d87bfb7679984bcbd4b928a54ef19be8"
   },
   "source": [
    "Now we get into a conclusion that except the above mentioned movies and users, the rest of them are 'short times' or doesn't have much impact on the generalization factor. By removing these , we could also boost the efficiency"
   ]
  },
  {
   "cell_type": "code",
   "execution_count": 16,
   "metadata": {
    "_cell_guid": "61f85e6a-3438-456b-b169-f42c0270a752",
    "_uuid": "f09c53f0e7b7fea039437c43e5163a5a59250b70"
   },
   "outputs": [
    {
     "name": "stdout",
     "output_type": "stream",
     "text": [
      "Original Shape: (100480507, 3)\n",
      "After Trim Shape: (71833509, 3)\n",
      "-Data Examples-\n",
      "          Cust_Id  Rating  Movie_Id\n",
      "696        712664     5.0         3\n",
      "6959351   1973032     4.0      1395\n",
      "13901827   412139     5.0      2660\n",
      "20826547  1503396     4.0      3925\n",
      "27788420  2417320     2.0      5121\n",
      "34830730  2551271     5.0      6240\n",
      "41872703  2406150     4.0      7399\n",
      "48692662  1305391     2.0      8782\n",
      "55551262   528496     3.0     10158\n",
      "62650465   599678     2.0     11376\n",
      "69655550   964493     5.0     12612\n",
      "76741354   829466     5.0     13923\n",
      "83765399  2255251     4.0     14953\n",
      "90860581  1097827     4.0     16169\n",
      "97938791  1463885     5.0     17321\n"
     ]
    }
   ],
   "source": [
    "print('Original Shape: {}'.format(df.shape))\n",
    "df = df[~df['Movie_Id'].isin(drop_movie_list)]\n",
    "df = df[~df['Cust_Id'].isin(drop_cust_list)]\n",
    "print('After Trim Shape: {}'.format(df.shape))\n",
    "print('-Data Examples-')\n",
    "print(df.iloc[::5000000, :])"
   ]
  },
  {
   "cell_type": "markdown",
   "metadata": {
    "_cell_guid": "7f10cc54-4021-4748-9f2f-933d541acee4",
    "_uuid": "ea0da55846a3795aead5d0365d5fcf91b03636ab"
   },
   "source": [
    "Now we are going to Pivot the Dataframe for making the Model Based Collaberative Recommendation System"
   ]
  },
  {
   "cell_type": "code",
   "execution_count": 17,
   "metadata": {
    "_cell_guid": "9e5a21fd-ccff-4fd3-aebe-cd82e5734ba9",
    "_uuid": "528c8ecb8bbd94130e38e68362184087dcc39f83"
   },
   "outputs": [
    {
     "name": "stdout",
     "output_type": "stream",
     "text": [
      "(144380, 5332)\n"
     ]
    }
   ],
   "source": [
    "df_p = pd.pivot_table(df,values='Rating',index='Cust_Id',columns='Movie_Id')\n",
    "\n",
    "print(df_p.shape)\n",
    "\n",
    "# Below is another way I used to sparse the dataframe...doesn't seem to work better\n",
    "\n",
    "#Cust_Id_u = list(sorted(df['Cust_Id'].unique()))\n",
    "#Movie_Id_u = list(sorted(df['Movie_Id'].unique()))\n",
    "#data = df['Rating'].tolist()\n",
    "#row = df['Cust_Id'].astype('category', categories=Cust_Id_u).cat.codes\n",
    "#col = df['Movie_Id'].astype('category', categories=Movie_Id_u).cat.codes\n",
    "#sparse_matrix = csr_matrix((data, (row, col)), shape=(len(Cust_Id_u), len(Movie_Id_u)))\n",
    "#df_p = pd.DataFrame(sparse_matrix.todense(), index=Cust_Id_u, columns=Movie_Id_u)\n",
    "#df_p = df_p.replace(0, np.NaN)\n"
   ]
  },
  {
   "cell_type": "markdown",
   "metadata": {
    "_cell_guid": "62ba3943-5369-4df9-b33e-3a5a8b47e9f9",
    "_uuid": "598d5c85304513168b871257f5c3bd810a7a8da4"
   },
   "source": [
    "## Data mapping"
   ]
  },
  {
   "cell_type": "markdown",
   "metadata": {
    "_cell_guid": "7768ffa2-e387-4b15-8ef1-c808229f4dc0",
    "_uuid": "ab718ba4d0e6b3b95d03c25b577884e88af77b93"
   },
   "source": [
    "Now we will use the mapping file available in the data to replace name with movie ID column"
   ]
  },
  {
   "cell_type": "code",
   "execution_count": 18,
   "metadata": {
    "_cell_guid": "cec6d42b-adff-49c0-939c-2f92adae15a4",
    "_uuid": "d971e5a1ccd038f9a08e126daeb8995d30f9e014"
   },
   "outputs": [
    {
     "name": "stdout",
     "output_type": "stream",
     "text": [
      "            Year                          Name\n",
      "Movie_Id                                      \n",
      "1         2003.0               Dinosaur Planet\n",
      "2         2004.0    Isle of Man TT 2004 Review\n",
      "3         1997.0                     Character\n",
      "4         1994.0  Paula Abdul's Get Up & Dance\n",
      "5         2004.0      The Rise and Fall of ECW\n",
      "6         1997.0                          Sick\n",
      "7         1992.0                         8 Man\n",
      "8         2004.0    What the #$*! Do We Know!?\n",
      "9         1991.0      Class of Nuke 'Em High 2\n",
      "10        2001.0                       Fighter\n"
     ]
    }
   ],
   "source": [
    "df_title = pd.read_csv('D:\\\\My Works\\\\Netflix Recommendation System\\\\movie_titles.csv', encoding = \"ISO-8859-1\", header = None, names = ['Movie_Id', 'Year', 'Name'])\n",
    "df_title.set_index('Movie_Id', inplace = True)\n",
    "print (df_title.head(10))"
   ]
  },
  {
   "cell_type": "code",
   "execution_count": 19,
   "metadata": {},
   "outputs": [
    {
     "data": {
      "text/plain": [
       "(71833509, 3)"
      ]
     },
     "execution_count": 19,
     "metadata": {},
     "output_type": "execute_result"
    }
   ],
   "source": [
    "df.shape"
   ]
  },
  {
   "cell_type": "code",
   "execution_count": 20,
   "metadata": {},
   "outputs": [
    {
     "data": {
      "text/html": [
       "<div>\n",
       "<style scoped>\n",
       "    .dataframe tbody tr th:only-of-type {\n",
       "        vertical-align: middle;\n",
       "    }\n",
       "\n",
       "    .dataframe tbody tr th {\n",
       "        vertical-align: top;\n",
       "    }\n",
       "\n",
       "    .dataframe thead th {\n",
       "        text-align: right;\n",
       "    }\n",
       "</style>\n",
       "<table border=\"1\" class=\"dataframe\">\n",
       "  <thead>\n",
       "    <tr style=\"text-align: right;\">\n",
       "      <th></th>\n",
       "      <th>Cust_Id</th>\n",
       "      <th>Rating</th>\n",
       "      <th>Movie_Id</th>\n",
       "    </tr>\n",
       "  </thead>\n",
       "  <tbody>\n",
       "    <tr>\n",
       "      <th>696</th>\n",
       "      <td>712664</td>\n",
       "      <td>5.0</td>\n",
       "      <td>3</td>\n",
       "    </tr>\n",
       "    <tr>\n",
       "      <th>697</th>\n",
       "      <td>1331154</td>\n",
       "      <td>4.0</td>\n",
       "      <td>3</td>\n",
       "    </tr>\n",
       "    <tr>\n",
       "      <th>698</th>\n",
       "      <td>2632461</td>\n",
       "      <td>3.0</td>\n",
       "      <td>3</td>\n",
       "    </tr>\n",
       "    <tr>\n",
       "      <th>699</th>\n",
       "      <td>44937</td>\n",
       "      <td>5.0</td>\n",
       "      <td>3</td>\n",
       "    </tr>\n",
       "    <tr>\n",
       "      <th>700</th>\n",
       "      <td>656399</td>\n",
       "      <td>4.0</td>\n",
       "      <td>3</td>\n",
       "    </tr>\n",
       "  </tbody>\n",
       "</table>\n",
       "</div>"
      ],
      "text/plain": [
       "     Cust_Id  Rating  Movie_Id\n",
       "696   712664     5.0         3\n",
       "697  1331154     4.0         3\n",
       "698  2632461     3.0         3\n",
       "699    44937     5.0         3\n",
       "700   656399     4.0         3"
      ]
     },
     "execution_count": 20,
     "metadata": {},
     "output_type": "execute_result"
    }
   ],
   "source": [
    "df.head()"
   ]
  },
  {
   "cell_type": "markdown",
   "metadata": {
    "_cell_guid": "c1b464a7-3c69-4acb-adcb-00d8b3ec9c93",
    "_uuid": "c6becd707a3c14a5c76887789e21e9fbf150e9f8"
   },
   "source": [
    "# Recommendation models"
   ]
  },
  {
   "cell_type": "markdown",
   "metadata": {
    "_cell_guid": "a73d197f-1700-40ae-b20c-cab9b8e0c008",
    "_uuid": "bd73e13a984d412908272360c701c15b58f412df"
   },
   "source": [
    "Now, all the data is been cleaned and modified for constructing the recommendation system"
   ]
  },
  {
   "cell_type": "markdown",
   "metadata": {
    "_cell_guid": "fa6ad634-5c47-41e1-adeb-47fe2bd8f1b9",
    "_uuid": "523277beb220f90b2f7fb58dab680e22db2aa325"
   },
   "source": [
    "## 1) Model Based Recommendation System"
   ]
  },
  {
   "cell_type": "markdown",
   "metadata": {
    "_cell_guid": "1ca487dc-253b-4a5e-ab00-516ee846306a",
    "_uuid": "5fb7d8cd461f7ab0b279acdfc135bfb3c302c3e8"
   },
   "source": [
    "We are ready to construct a recommendation system and at first we would be framing an item-item, user-user recommendation system(Collaborative Filtering) "
   ]
  },
  {
   "cell_type": "code",
   "execution_count": 23,
   "metadata": {
    "_cell_guid": "fa414c7c-f908-40fa-bc99-9b221748c923",
    "_uuid": "a59aaac88ca121b93fcd8807e462dc7f0b609254",
    "scrolled": true
   },
   "outputs": [
    {
     "data": {
      "text/plain": [
       "{'test_rmse': array([1.00254907, 1.00154605, 0.98941065, 0.99548491, 0.9996524 ]),\n",
       " 'test_mae': array([0.79853881, 0.79733593, 0.79219048, 0.796048  , 0.79450093]),\n",
       " 'fit_time': (4.027758836746216,\n",
       "  4.128763437271118,\n",
       "  4.084498405456543,\n",
       "  4.141396999359131,\n",
       "  4.054544925689697),\n",
       " 'test_time': (0.0909428596496582,\n",
       "  0.09873676300048828,\n",
       "  0.10187077522277832,\n",
       "  0.09943437576293945,\n",
       "  0.15335559844970703)}"
      ]
     },
     "execution_count": 23,
     "metadata": {},
     "output_type": "execute_result"
    }
   ],
   "source": [
    "reader = Reader()\n",
    "\n",
    "data = Dataset.load_from_df(df[['Cust_Id', 'Movie_Id', 'Rating']][:100000], reader)\n",
    "\n",
    "svd = SVD()\n",
    "cross_validate(svd, data, measures=['RMSE', 'MAE'])"
   ]
  },
  {
   "cell_type": "markdown",
   "metadata": {
    "_cell_guid": "c02b147f-b163-4a67-897e-881fbe2d69cd",
    "_uuid": "9c519e55ef4ae222556048f22bb55e4c8885d864"
   },
   "source": [
    "Lets consider a random customer, say 712664. Now at first we are going to understand the taste of this customer on this domain by analyzing his past activities"
   ]
  },
  {
   "cell_type": "code",
   "execution_count": 59,
   "metadata": {
    "_cell_guid": "dca8773e-5a63-4ac8-9691-77d6a50e1485",
    "_uuid": "7b832da6358dc5ad2b3c4c2a60e73cacdfe0fe75"
   },
   "outputs": [
    {
     "name": "stdout",
     "output_type": "stream",
     "text": [
      "Movie_Id\n",
      "3                                        Character\n",
      "79                                     The Killing\n",
      "175                                 Reservoir Dogs\n",
      "199                                The Deer Hunter\n",
      "241                             North by Northwest\n",
      "                           ...                    \n",
      "17560                                 Ghostbusters\n",
      "17578                          Reversal of Fortune\n",
      "17589                                     The Cell\n",
      "17591    Dr. Seuss' How the Grinch Stole Christmas\n",
      "17619                              Out of the Past\n",
      "Name: Name, Length: 412, dtype: object\n"
     ]
    }
   ],
   "source": [
    "df_712664 = df[(df['Cust_Id'] == 712664) & (df['Rating'] == 5)]\n",
    "df_712664 = df_712664.set_index('Movie_Id')\n",
    "df_712664 = df_712664.join(df_title)['Name']\n",
    "print(df_712664)"
   ]
  },
  {
   "cell_type": "markdown",
   "metadata": {
    "_cell_guid": "c02b147f-b163-4a67-897e-881fbe2d69cd",
    "_uuid": "9c519e55ef4ae222556048f22bb55e4c8885d864"
   },
   "source": [
    "Lets make a recommendation system based on user-user similarity. Here we are going to predict some feature films for customer 712664 based on his past activities"
   ]
  },
  {
   "cell_type": "code",
   "execution_count": 60,
   "metadata": {
    "_cell_guid": "7da1d4f5-ef96-4f33-96ae-a66028f8926d",
    "_uuid": "6f47935958ad57c568fa58253a83452abe83fbed"
   },
   "outputs": [
    {
     "name": "stdout",
     "output_type": "stream",
     "text": [
      "         Year                        Name  Estimate_Score\n",
      "2      1997.0                   Character        4.169960\n",
      "7      2004.0  What the #$*! Do We Know!?        3.718862\n",
      "15     1996.0                   Screamers        3.165854\n",
      "16     2005.0                   7 Seconds        2.824775\n",
      "17     1994.0            Immortal Beloved        3.897567\n",
      "...       ...                         ...             ...\n",
      "17760  2003.0                      Levity        3.747034\n",
      "17761  1997.0                     Gattaca        3.747034\n",
      "17762  1978.0                   Interiors        3.747034\n",
      "17763  1998.0         Shakespeare in Love        3.747034\n",
      "17768  2003.0                 The Company        3.747034\n",
      "\n",
      "[5332 rows x 3 columns]\n"
     ]
    }
   ],
   "source": [
    "user_712664 = df_title.copy()\n",
    "user_712664 = user_712664.reset_index()\n",
    "user_712664 = user_712664[~user_712664['Movie_Id'].isin(drop_movie_list)]\n",
    "\n",
    "# getting full dataset\n",
    "data = Dataset.load_from_df(df[['Cust_Id', 'Movie_Id', 'Rating']][:100000], reader)\n",
    "\n",
    "trainset = data.build_full_trainset()\n",
    "svd.fit(trainset)\n",
    "\n",
    "user_712664['Estimate_Score'] = user_712664['Movie_Id'].apply(lambda x: svd.predict(712664, x).est)\n",
    "\n",
    "user_712664 = user_712664.drop('Movie_Id', axis = 1)\n",
    "\n",
    "user_712664 = user_712664.sort_values('Estimate_Score', ascending=False)\n",
    "print(user_712664.head(10))\n"
   ]
  },
  {
   "cell_type": "markdown",
   "metadata": {
    "_cell_guid": "25d88f52-36a2-4c62-bdc5-fee174b1aab7",
    "_uuid": "f24caa335865e13f5e0feb47bfb0b47996c69570"
   },
   "source": [
    "## Recommendation based on Popularity"
   ]
  },
  {
   "cell_type": "markdown",
   "metadata": {
    "_cell_guid": "25d88f52-36a2-4c62-bdc5-fee174b1aab7",
    "_uuid": "f24caa335865e13f5e0feb47bfb0b47996c69570"
   },
   "source": [
    "Popularity based recommendation system works with the trend. It basically uses the items which are in trend right now. For example, if any product which is usually bought by every new user then there are chances that it may suggest that item to the user who just signed up. As you can see , the recommendation or the content is not personalised but still this recommendation is blended in the hybrid version by many giants."
   ]
  },
  {
   "cell_type": "code",
   "execution_count": 36,
   "metadata": {},
   "outputs": [
    {
     "data": {
      "image/png": "[encoded data removed]",
      "text/plain": [
       "<Figure size 576x288 with 1 Axes>"
      ]
     },
     "metadata": {},
     "output_type": "display_data"
    }
   ],
   "source": [
    "no_of_ratings_per_movie = df.groupby(by='Movie_Id')['Rating'].count().sort_values(ascending=False)\n",
    "\n",
    "fig = plt.figure(figsize=plt.figaspect(.5))\n",
    "ax = plt.gca()\n",
    "plt.plot(no_of_ratings_per_movie.values)\n",
    "plt.title('# RATINGS per Movie')\n",
    "plt.xlabel('Movie')\n",
    "plt.ylabel('No of ratings per Movie')\n",
    "ax.set_xticklabels([])\n",
    "\n",
    "plt.show()"
   ]
  },
  {
   "cell_type": "code",
   "execution_count": 38,
   "metadata": {},
   "outputs": [
    {
     "data": {
      "text/plain": [
       "Movie_Id\n",
       "3     3.620228\n",
       "8     3.140967\n",
       "16    3.080652\n",
       "17    2.914113\n",
       "18    3.768554\n",
       "Name: Rating, dtype: float64"
      ]
     },
     "execution_count": 38,
     "metadata": {},
     "output_type": "execute_result"
    }
   ],
   "source": [
    "df.groupby('Movie_Id')['Rating'].mean().head()"
   ]
  },
  {
   "cell_type": "code",
   "execution_count": 74,
   "metadata": {},
   "outputs": [
    {
     "name": "stdout",
     "output_type": "stream",
     "text": [
      "            Rating\n",
      "Movie_Id          \n",
      "14961     4.716273\n",
      "7230      4.710813\n",
      "7057      4.696930\n",
      "3456      4.664190\n",
      "2102      4.588516\n",
      "...            ...\n",
      "8489      2.074835\n",
      "3021      1.963604\n",
      "13607     1.945808\n",
      "12517     1.943105\n",
      "15044     1.863087\n",
      "\n",
      "[5332 rows x 1 columns]\n"
     ]
    }
   ],
   "source": [
    "lar_rating_mean=df.groupby('Movie_Id')['Rating'].mean().sort_values(ascending=False)\n",
    "lar_rating_mean=lar_rating_mean.to_frame() \n",
    "print(lar_rating_mean)"
   ]
  },
  {
   "cell_type": "code",
   "execution_count": 73,
   "metadata": {
    "scrolled": true
   },
   "outputs": [
    {
     "name": "stdout",
     "output_type": "stream",
     "text": [
      "Movie_Id\n",
      "14961    Lord of the Rings: The Return of the King: Ext...\n",
      "7230     The Lord of the Rings: The Fellowship of the R...\n",
      "7057     Lord of the Rings: The Two Towers: Extended Ed...\n",
      "3456                                        Lost: Season 1\n",
      "2102                                The Simpsons: Season 6\n",
      "                               ...                        \n",
      "8489                                       The Brown Bunny\n",
      "3021                                     House of the Dead\n",
      "13607                           Stop! Or My Mom Will Shoot\n",
      "12517                                                Gigli\n",
      "15044                                              Glitter\n",
      "Name: Name, Length: 5332, dtype: object\n"
     ]
    }
   ],
   "source": [
    "\n",
    "lar_rating_mean = lar_rating_mean.join(df_title)['Name']\n",
    "print(lar_rating_mean)\n"
   ]
  },
  {
   "cell_type": "markdown",
   "metadata": {
    "_cell_guid": "25d88f52-36a2-4c62-bdc5-fee174b1aab7",
    "_uuid": "f24caa335865e13f5e0feb47bfb0b47996c69570"
   },
   "source": [
    "As you can see outhere, these are the best rated features in our dataset and these would be useful when we are building a hybrid recommendation model."
   ]
  },
  {
   "cell_type": "code",
   "execution_count": 75,
   "metadata": {},
   "outputs": [
    {
     "data": {
      "text/html": [
       "<div>\n",
       "<style scoped>\n",
       "    .dataframe tbody tr th:only-of-type {\n",
       "        vertical-align: middle;\n",
       "    }\n",
       "\n",
       "    .dataframe tbody tr th {\n",
       "        vertical-align: top;\n",
       "    }\n",
       "\n",
       "    .dataframe thead th {\n",
       "        text-align: right;\n",
       "    }\n",
       "</style>\n",
       "<table border=\"1\" class=\"dataframe\">\n",
       "  <thead>\n",
       "    <tr style=\"text-align: right;\">\n",
       "      <th></th>\n",
       "      <th>Rating</th>\n",
       "      <th>rating_counts</th>\n",
       "    </tr>\n",
       "    <tr>\n",
       "      <th>Movie_Id</th>\n",
       "      <th></th>\n",
       "      <th></th>\n",
       "    </tr>\n",
       "  </thead>\n",
       "  <tbody>\n",
       "    <tr>\n",
       "      <th>3</th>\n",
       "      <td>3.620228</td>\n",
       "      <td>1493</td>\n",
       "    </tr>\n",
       "    <tr>\n",
       "      <th>8</th>\n",
       "      <td>3.140967</td>\n",
       "      <td>9222</td>\n",
       "    </tr>\n",
       "    <tr>\n",
       "      <th>16</th>\n",
       "      <td>3.080652</td>\n",
       "      <td>2517</td>\n",
       "    </tr>\n",
       "    <tr>\n",
       "      <th>17</th>\n",
       "      <td>2.914113</td>\n",
       "      <td>4145</td>\n",
       "    </tr>\n",
       "    <tr>\n",
       "      <th>18</th>\n",
       "      <td>3.768554</td>\n",
       "      <td>9432</td>\n",
       "    </tr>\n",
       "  </tbody>\n",
       "</table>\n",
       "</div>"
      ],
      "text/plain": [
       "            Rating  rating_counts\n",
       "Movie_Id                         \n",
       "3         3.620228           1493\n",
       "8         3.140967           9222\n",
       "16        3.080652           2517\n",
       "17        2.914113           4145\n",
       "18        3.768554           9432"
      ]
     },
     "execution_count": 75,
     "metadata": {},
     "output_type": "execute_result"
    }
   ],
   "source": [
    "ratings_mean_count = pd.DataFrame(df.groupby('Movie_Id')['Rating'].mean())\n",
    "ratings_mean_count['rating_counts'] = pd.DataFrame(df.groupby('Movie_Id')['Rating'].count())\n",
    "ratings_mean_count.head()"
   ]
  },
  {
   "cell_type": "code",
   "execution_count": 76,
   "metadata": {},
   "outputs": [
    {
     "data": {
      "text/plain": [
       "117148"
      ]
     },
     "execution_count": 76,
     "metadata": {},
     "output_type": "execute_result"
    }
   ],
   "source": [
    "ratings_mean_count['rating_counts'].max()"
   ]
  },
  {
   "cell_type": "code",
   "execution_count": 77,
   "metadata": {},
   "outputs": [
    {
     "data": {
      "text/plain": [
       "1121"
      ]
     },
     "execution_count": 77,
     "metadata": {},
     "output_type": "execute_result"
    }
   ],
   "source": [
    "ratings_mean_count['rating_counts'].min()"
   ]
  },
  {
   "cell_type": "code",
   "execution_count": 78,
   "metadata": {},
   "outputs": [
    {
     "data": {
      "text/plain": [
       "<AxesSubplot:>"
      ]
     },
     "execution_count": 78,
     "metadata": {},
     "output_type": "execute_result"
    },
    {
     "data": {
      "image/png": "[encoded data removed]",
      "text/plain": [
       "<Figure size 576x432 with 1 Axes>"
      ]
     },
     "metadata": {},
     "output_type": "display_data"
    }
   ],
   "source": [
    "plt.figure(figsize=(8,6))\n",
    "plt.rcParams['patch.force_edgecolor'] = True\n",
    "ratings_mean_count['rating_counts'].hist(bins=50)"
   ]
  },
  {
   "cell_type": "code",
   "execution_count": 86,
   "metadata": {},
   "outputs": [
    {
     "name": "stdout",
     "output_type": "stream",
     "text": [
      "          Rating\n",
      "Movie_Id        \n",
      "1905      117148\n",
      "11283     110135\n",
      "15124     109636\n",
      "15107     106978\n",
      "5317      105124\n",
      "...          ...\n",
      "17096       1195\n",
      "761         1187\n",
      "9044        1184\n",
      "717         1182\n",
      "11819       1121\n",
      "\n",
      "[5332 rows x 1 columns]\n"
     ]
    }
   ],
   "source": [
    "popular_movies = pd.DataFrame(df.groupby('Movie_Id')['Rating'].count())\n",
    "most_popular = popular_movies.sort_values('Rating', ascending=False)\n",
    "print(most_popular)\n"
   ]
  },
  {
   "cell_type": "code",
   "execution_count": 87,
   "metadata": {},
   "outputs": [],
   "source": [
    "most_popular_fig=most_popular"
   ]
  },
  {
   "cell_type": "code",
   "execution_count": 88,
   "metadata": {},
   "outputs": [
    {
     "name": "stdout",
     "output_type": "stream",
     "text": [
      "Movie_Id\n",
      "1905     Pirates of the Caribbean: The Curse of the Bla...\n",
      "11283                                         Forrest Gump\n",
      "15124                                     Independence Day\n",
      "15107                                       Ocean's Eleven\n",
      "5317                                     Miss Congeniality\n",
      "                               ...                        \n",
      "17096                         Carlito's Way: Rise to Power\n",
      "761                                             O Fantasma\n",
      "9044                                                 Fidel\n",
      "717                                           Testosterone\n",
      "11819                                            Locked Up\n",
      "Name: Name, Length: 5332, dtype: object\n"
     ]
    }
   ],
   "source": [
    "most_popular = most_popular.join(df_title)['Name']\n",
    "print(most_popular)"
   ]
  },
  {
   "cell_type": "code",
   "execution_count": 89,
   "metadata": {
    "scrolled": true
   },
   "outputs": [
    {
     "data": {
      "text/plain": [
       "Movie_Id\n",
       "1905     Pirates of the Caribbean: The Curse of the Bla...\n",
       "11283                                         Forrest Gump\n",
       "15124                                     Independence Day\n",
       "15107                                       Ocean's Eleven\n",
       "5317                                     Miss Congeniality\n",
       "4306                                       The Sixth Sense\n",
       "2452         Lord of the Rings: The Fellowship of the Ring\n",
       "571                                        American Beauty\n",
       "14691                                           The Matrix\n",
       "11521                    Lord of the Rings: The Two Towers\n",
       "6037                                   The Bourne Identity\n",
       "13728                                            Gladiator\n",
       "6287                                          Pretty Woman\n",
       "11064                                         Pulp Fiction\n",
       "3860                                        Bruce Almighty\n",
       "14410                                           Spider-Man\n",
       "6206                              My Big Fat Greek Wedding\n",
       "16377                                       The Green Mile\n",
       "2862                              The Silence of the Lambs\n",
       "6971                              Ferris Bueller's Day Off\n",
       "14313                                          The Patriot\n",
       "7624                                               Top Gun\n",
       "14550            The Shawshank Redemption: Special Edition\n",
       "8644                                   Catch Me If You Can\n",
       "12918                                         Men in Black\n",
       "3962                             Finding Nemo (Widescreen)\n",
       "4432                                       The Italian Job\n",
       "16879                                              Titanic\n",
       "2782                                            Braveheart\n",
       "3938                                               Shrek 2\n",
       "Name: Name, dtype: object"
      ]
     },
     "execution_count": 89,
     "metadata": {},
     "output_type": "execute_result"
    }
   ],
   "source": [
    "most_popular.head(30)"
   ]
  },
  {
   "cell_type": "code",
   "execution_count": 92,
   "metadata": {},
   "outputs": [
    {
     "name": "stdout",
     "output_type": "stream",
     "text": [
      "          Rating                                         Movie_Name\n",
      "Movie_Id                                                           \n",
      "1905      117148  Pirates of the Caribbean: The Curse of the Bla...\n",
      "11283     110135                                       Forrest Gump\n",
      "15124     109636                                   Independence Day\n",
      "15107     106978                                     Ocean's Eleven\n",
      "5317      105124                                  Miss Congeniality\n",
      "...          ...                                                ...\n",
      "17096       1195                       Carlito's Way: Rise to Power\n",
      "761         1187                                         O Fantasma\n",
      "9044        1184                                              Fidel\n",
      "717         1182                                       Testosterone\n",
      "11819       1121                                          Locked Up\n",
      "\n",
      "[5332 rows x 2 columns]\n"
     ]
    }
   ],
   "source": [
    "most_popular_fig['Movie_Name']=most_popular\n",
    "print(most_popular_fig)"
   ]
  },
  {
   "cell_type": "code",
   "execution_count": 98,
   "metadata": {},
   "outputs": [],
   "source": [
    "most_popular_fig= most_popular_fig.set_index('Movie_Name')"
   ]
  },
  {
   "cell_type": "code",
   "execution_count": 99,
   "metadata": {},
   "outputs": [
    {
     "data": {
      "text/plain": [
       "<AxesSubplot:xlabel='Movie_Name'>"
      ]
     },
     "execution_count": 99,
     "metadata": {},
     "output_type": "execute_result"
    },
    {
     "data": {
      "image/png": "[encoded data removed]",
      "text/plain": [
       "<Figure size 432x288 with 1 Axes>"
      ]
     },
     "metadata": {},
     "output_type": "display_data"
    }
   ],
   "source": [
    "most_popular_fig.head(30).plot(kind=\"bar\")"
   ]
  },
  {
   "cell_type": "markdown",
   "metadata": {
    "_cell_guid": "25d88f52-36a2-4c62-bdc5-fee174b1aab7",
    "_uuid": "f24caa335865e13f5e0feb47bfb0b47996c69570"
   },
   "source": [
    "The bar graph above shows the most popular feature films in the dataset and these would also be clubed in the hybrid system"
   ]
  },
  {
   "cell_type": "markdown",
   "metadata": {
    "_cell_guid": "25d88f52-36a2-4c62-bdc5-fee174b1aab7",
    "_uuid": "f24caa335865e13f5e0feb47bfb0b47996c69570"
   },
   "source": [
    "## Collaberative Filtering (Not Model Based) "
   ]
  },
  {
   "cell_type": "code",
   "execution_count": 106,
   "metadata": {},
   "outputs": [
    {
     "data": {
      "text/plain": [
       "<surprise.dataset.DatasetAutoFolds at 0x243862a6988>"
      ]
     },
     "execution_count": 106,
     "metadata": {},
     "output_type": "execute_result"
    }
   ],
   "source": [
    "reader = Reader(rating_scale=(1, 5))\n",
    "data"
   ]
  },
  {
   "cell_type": "code",
   "execution_count": 107,
   "metadata": {},
   "outputs": [],
   "source": [
    "trainset, testset = train_test_split(data, test_size=0.3,random_state=10)"
   ]
  },
  {
   "cell_type": "code",
   "execution_count": 109,
   "metadata": {},
   "outputs": [
    {
     "name": "stdout",
     "output_type": "stream",
     "text": [
      "Estimating biases using als...\n",
      "Computing the pearson_baseline similarity matrix...\n",
      "Done computing similarity matrix.\n"
     ]
    },
    {
     "data": {
      "text/plain": [
       "<surprise.prediction_algorithms.knns.KNNWithMeans at 0x243ed86fa88>"
      ]
     },
     "execution_count": 109,
     "metadata": {},
     "output_type": "execute_result"
    }
   ],
   "source": [
    "algo = KNNWithMeans(k=5, sim_options={'name': 'pearson_baseline', 'user_based': False})\n",
    "algo.fit(trainset)"
   ]
  },
  {
   "cell_type": "code",
   "execution_count": 110,
   "metadata": {},
   "outputs": [
    {
     "data": {
      "text/plain": [
       "[Prediction(uid=2517669, iid=28, r_ui=4.0, est=3.6046285714285715, details={'was_impossible': True, 'reason': 'User and/or item is unknown.'}),\n",
       " Prediction(uid=2629402, iid=28, r_ui=5.0, est=3.6046285714285715, details={'was_impossible': True, 'reason': 'User and/or item is unknown.'}),\n",
       " Prediction(uid=890968, iid=8, r_ui=2.0, est=3.6046285714285715, details={'was_impossible': True, 'reason': 'User and/or item is unknown.'}),\n",
       " Prediction(uid=846883, iid=28, r_ui=4.0, est=5, details={'actual_k': 1, 'was_impossible': False}),\n",
       " Prediction(uid=1390512, iid=30, r_ui=5.0, est=3.6046285714285715, details={'was_impossible': True, 'reason': 'User and/or item is unknown.'}),\n",
       " Prediction(uid=1524021, iid=28, r_ui=3.0, est=3.6046285714285715, details={'was_impossible': True, 'reason': 'User and/or item is unknown.'}),\n",
       " Prediction(uid=1036360, iid=28, r_ui=4.0, est=3.6046285714285715, details={'was_impossible': True, 'reason': 'User and/or item is unknown.'}),\n",
       " Prediction(uid=922375, iid=30, r_ui=3.0, est=2.9137875819769223, details={'actual_k': 1, 'was_impossible': False}),\n",
       " Prediction(uid=524707, iid=30, r_ui=3.0, est=3.6046285714285715, details={'was_impossible': True, 'reason': 'User and/or item is unknown.'}),\n",
       " Prediction(uid=2389141, iid=28, r_ui=4.0, est=3.6046285714285715, details={'was_impossible': True, 'reason': 'User and/or item is unknown.'}),\n",
       " Prediction(uid=1861095, iid=28, r_ui=4.0, est=3.6046285714285715, details={'was_impossible': True, 'reason': 'User and/or item is unknown.'}),\n",
       " Prediction(uid=1265106, iid=8, r_ui=2.0, est=3.6046285714285715, details={'was_impossible': True, 'reason': 'User and/or item is unknown.'}),\n",
       " Prediction(uid=18106, iid=30, r_ui=3.0, est=3.6046285714285715, details={'was_impossible': True, 'reason': 'User and/or item is unknown.'}),\n",
       " Prediction(uid=1271668, iid=28, r_ui=3.0, est=3.0862124180230777, details={'actual_k': 1, 'was_impossible': False}),\n",
       " Prediction(uid=783862, iid=17, r_ui=2.0, est=1, details={'actual_k': 1, 'was_impossible': False}),\n",
       " Prediction(uid=2047094, iid=30, r_ui=3.0, est=2.9137875819769223, details={'actual_k': 1, 'was_impossible': False}),\n",
       " Prediction(uid=1905465, iid=17, r_ui=3.0, est=3.1583780330628044, details={'actual_k': 3, 'was_impossible': False}),\n",
       " Prediction(uid=183151, iid=28, r_ui=5.0, est=3.6046285714285715, details={'was_impossible': True, 'reason': 'User and/or item is unknown.'}),\n",
       " Prediction(uid=1584352, iid=30, r_ui=4.0, est=3.6046285714285715, details={'was_impossible': True, 'reason': 'User and/or item is unknown.'}),\n",
       " Prediction(uid=1648978, iid=30, r_ui=3.0, est=3.6046285714285715, details={'was_impossible': True, 'reason': 'User and/or item is unknown.'}),\n",
       " Prediction(uid=2348258, iid=30, r_ui=4.0, est=3.6046285714285715, details={'was_impossible': True, 'reason': 'User and/or item is unknown.'}),\n",
       " Prediction(uid=1742530, iid=30, r_ui=4.0, est=3.9137875819769223, details={'actual_k': 1, 'was_impossible': False}),\n",
       " Prediction(uid=2542148, iid=8, r_ui=2.0, est=3.6046285714285715, details={'was_impossible': True, 'reason': 'User and/or item is unknown.'}),\n",
       " Prediction(uid=352380, iid=28, r_ui=4.0, est=3.6046285714285715, details={'was_impossible': True, 'reason': 'User and/or item is unknown.'}),\n",
       " Prediction(uid=1520095, iid=30, r_ui=3.0, est=3.6046285714285715, details={'was_impossible': True, 'reason': 'User and/or item is unknown.'}),\n",
       " Prediction(uid=44807, iid=16, r_ui=1.0, est=3.6046285714285715, details={'was_impossible': True, 'reason': 'User and/or item is unknown.'}),\n",
       " Prediction(uid=1717732, iid=30, r_ui=4.0, est=3.6046285714285715, details={'was_impossible': True, 'reason': 'User and/or item is unknown.'}),\n",
       " Prediction(uid=965652, iid=30, r_ui=1.0, est=3.6046285714285715, details={'was_impossible': True, 'reason': 'User and/or item is unknown.'}),\n",
       " Prediction(uid=911270, iid=28, r_ui=4.0, est=3.6046285714285715, details={'was_impossible': True, 'reason': 'User and/or item is unknown.'}),\n",
       " Prediction(uid=1999728, iid=30, r_ui=4.0, est=3.6046285714285715, details={'was_impossible': True, 'reason': 'User and/or item is unknown.'}),\n",
       " Prediction(uid=1514069, iid=30, r_ui=5.0, est=3.6046285714285715, details={'was_impossible': True, 'reason': 'User and/or item is unknown.'}),\n",
       " Prediction(uid=1026505, iid=30, r_ui=4.0, est=3.8109214199478867, details={'actual_k': 1, 'was_impossible': False}),\n",
       " Prediction(uid=1805788, iid=30, r_ui=4.0, est=3.6046285714285715, details={'was_impossible': True, 'reason': 'User and/or item is unknown.'}),\n",
       " Prediction(uid=2267897, iid=30, r_ui=2.0, est=1, details={'actual_k': 1, 'was_impossible': False}),\n",
       " Prediction(uid=1096353, iid=28, r_ui=5.0, est=5, details={'actual_k': 1, 'was_impossible': False}),\n",
       " Prediction(uid=343055, iid=28, r_ui=5.0, est=3.6046285714285715, details={'was_impossible': True, 'reason': 'User and/or item is unknown.'}),\n",
       " Prediction(uid=512690, iid=28, r_ui=3.0, est=3.6046285714285715, details={'was_impossible': True, 'reason': 'User and/or item is unknown.'}),\n",
       " Prediction(uid=1721862, iid=30, r_ui=4.0, est=3.6046285714285715, details={'was_impossible': True, 'reason': 'User and/or item is unknown.'}),\n",
       " Prediction(uid=239592, iid=28, r_ui=2.0, est=3.6046285714285715, details={'was_impossible': True, 'reason': 'User and/or item is unknown.'}),\n",
       " Prediction(uid=1142291, iid=3, r_ui=4.0, est=3.4980393294682623, details={'actual_k': 1, 'was_impossible': False}),\n",
       " Prediction(uid=183516, iid=8, r_ui=3.0, est=3.6046285714285715, details={'was_impossible': True, 'reason': 'User and/or item is unknown.'}),\n",
       " Prediction(uid=2086298, iid=30, r_ui=3.0, est=3.6046285714285715, details={'was_impossible': True, 'reason': 'User and/or item is unknown.'}),\n",
       " Prediction(uid=2428018, iid=18, r_ui=4.0, est=3.6046285714285715, details={'was_impossible': True, 'reason': 'User and/or item is unknown.'}),\n",
       " Prediction(uid=1787526, iid=26, r_ui=4.0, est=3.954063529304634, details={'actual_k': 1, 'was_impossible': False}),\n",
       " Prediction(uid=40845, iid=30, r_ui=3.0, est=3.6046285714285715, details={'was_impossible': True, 'reason': 'User and/or item is unknown.'}),\n",
       " Prediction(uid=1437166, iid=30, r_ui=3.0, est=3.7150359101088886, details={'actual_k': 0, 'was_impossible': False}),\n",
       " Prediction(uid=746913, iid=30, r_ui=4.0, est=3.6046285714285715, details={'was_impossible': True, 'reason': 'User and/or item is unknown.'}),\n",
       " Prediction(uid=846618, iid=30, r_ui=3.0, est=3.6046285714285715, details={'was_impossible': True, 'reason': 'User and/or item is unknown.'}),\n",
       " Prediction(uid=1318560, iid=28, r_ui=5.0, est=3.6046285714285715, details={'was_impossible': True, 'reason': 'User and/or item is unknown.'}),\n",
       " Prediction(uid=909744, iid=28, r_ui=5.0, est=4.086212418023077, details={'actual_k': 1, 'was_impossible': False}),\n",
       " Prediction(uid=1672117, iid=28, r_ui=5.0, est=3.6046285714285715, details={'was_impossible': True, 'reason': 'User and/or item is unknown.'}),\n",
       " Prediction(uid=1362065, iid=30, r_ui=3.0, est=3.6046285714285715, details={'was_impossible': True, 'reason': 'User and/or item is unknown.'}),\n",
       " Prediction(uid=1761195, iid=28, r_ui=5.0, est=5, details={'actual_k': 1, 'was_impossible': False}),\n",
       " Prediction(uid=780444, iid=28, r_ui=5.0, est=3.6046285714285715, details={'was_impossible': True, 'reason': 'User and/or item is unknown.'}),\n",
       " Prediction(uid=1488844, iid=8, r_ui=4.0, est=2.235239948076118, details={'actual_k': 1, 'was_impossible': False}),\n",
       " Prediction(uid=507082, iid=18, r_ui=5.0, est=4.960287843347641, details={'actual_k': 1, 'was_impossible': False}),\n",
       " Prediction(uid=818804, iid=8, r_ui=3.0, est=2.5019606705317377, details={'actual_k': 1, 'was_impossible': False}),\n",
       " Prediction(uid=2549926, iid=3, r_ui=5.0, est=3.6046285714285715, details={'was_impossible': True, 'reason': 'User and/or item is unknown.'}),\n",
       " Prediction(uid=2127722, iid=30, r_ui=4.0, est=4.913787581976923, details={'actual_k': 1, 'was_impossible': False}),\n",
       " Prediction(uid=842252, iid=28, r_ui=5.0, est=3.6046285714285715, details={'was_impossible': True, 'reason': 'User and/or item is unknown.'}),\n",
       " Prediction(uid=1247902, iid=30, r_ui=3.0, est=3.7150359101088886, details={'actual_k': 0, 'was_impossible': False}),\n",
       " Prediction(uid=1237926, iid=30, r_ui=5.0, est=3.6046285714285715, details={'was_impossible': True, 'reason': 'User and/or item is unknown.'}),\n",
       " Prediction(uid=2204299, iid=8, r_ui=5.0, est=3.377818266757513, details={'actual_k': 1, 'was_impossible': False}),\n",
       " Prediction(uid=1769057, iid=17, r_ui=3.0, est=3.1488026327244016, details={'actual_k': 1, 'was_impossible': False}),\n",
       " Prediction(uid=2306379, iid=28, r_ui=5.0, est=4.045936470695366, details={'actual_k': 1, 'was_impossible': False}),\n",
       " Prediction(uid=474539, iid=8, r_ui=2.0, est=3.13935443823712, details={'actual_k': 0, 'was_impossible': False}),\n",
       " Prediction(uid=1695109, iid=28, r_ui=1.0, est=2.0862124180230777, details={'actual_k': 1, 'was_impossible': False}),\n",
       " Prediction(uid=908057, iid=28, r_ui=5.0, est=4.086212418023077, details={'actual_k': 1, 'was_impossible': False}),\n",
       " Prediction(uid=1836648, iid=28, r_ui=5.0, est=3.6046285714285715, details={'was_impossible': True, 'reason': 'User and/or item is unknown.'}),\n",
       " Prediction(uid=1511744, iid=17, r_ui=3.0, est=3.1028661620290356, details={'actual_k': 1, 'was_impossible': False}),\n",
       " Prediction(uid=342928, iid=30, r_ui=1.0, est=3.6046285714285715, details={'was_impossible': True, 'reason': 'User and/or item is unknown.'}),\n",
       " Prediction(uid=2283989, iid=26, r_ui=2.0, est=3.6046285714285715, details={'was_impossible': True, 'reason': 'User and/or item is unknown.'}),\n",
       " Prediction(uid=1021392, iid=30, r_ui=4.0, est=3.9137875819769223, details={'actual_k': 1, 'was_impossible': False}),\n",
       " Prediction(uid=787554, iid=30, r_ui=4.0, est=3.6046285714285715, details={'was_impossible': True, 'reason': 'User and/or item is unknown.'}),\n",
       " Prediction(uid=794480, iid=28, r_ui=2.0, est=3.6046285714285715, details={'was_impossible': True, 'reason': 'User and/or item is unknown.'}),\n",
       " Prediction(uid=1172913, iid=30, r_ui=5.0, est=3.6046285714285715, details={'was_impossible': True, 'reason': 'User and/or item is unknown.'}),\n",
       " Prediction(uid=1509682, iid=26, r_ui=2.0, est=3.6046285714285715, details={'was_impossible': True, 'reason': 'User and/or item is unknown.'}),\n",
       " Prediction(uid=2222482, iid=8, r_ui=5.0, est=3.13935443823712, details={'actual_k': 0, 'was_impossible': False}),\n",
       " Prediction(uid=794525, iid=28, r_ui=2.0, est=3.6046285714285715, details={'was_impossible': True, 'reason': 'User and/or item is unknown.'}),\n",
       " Prediction(uid=2306970, iid=17, r_ui=3.0, est=3.6046285714285715, details={'was_impossible': True, 'reason': 'User and/or item is unknown.'}),\n",
       " Prediction(uid=2125852, iid=28, r_ui=5.0, est=3.6046285714285715, details={'was_impossible': True, 'reason': 'User and/or item is unknown.'}),\n",
       " Prediction(uid=1116838, iid=28, r_ui=5.0, est=3.6046285714285715, details={'was_impossible': True, 'reason': 'User and/or item is unknown.'}),\n",
       " Prediction(uid=1179782, iid=28, r_ui=4.0, est=3.6046285714285715, details={'was_impossible': True, 'reason': 'User and/or item is unknown.'}),\n",
       " Prediction(uid=826107, iid=28, r_ui=2.0, est=3.6046285714285715, details={'was_impossible': True, 'reason': 'User and/or item is unknown.'}),\n",
       " Prediction(uid=2623563, iid=28, r_ui=2.0, est=3.6046285714285715, details={'was_impossible': True, 'reason': 'User and/or item is unknown.'}),\n",
       " Prediction(uid=743636, iid=28, r_ui=3.0, est=3.0862124180230777, details={'actual_k': 1, 'was_impossible': False}),\n",
       " Prediction(uid=382932, iid=30, r_ui=3.0, est=3.9597240526722883, details={'actual_k': 1, 'was_impossible': False}),\n",
       " Prediction(uid=402677, iid=30, r_ui=3.0, est=3.6046285714285715, details={'was_impossible': True, 'reason': 'User and/or item is unknown.'}),\n",
       " Prediction(uid=122509, iid=30, r_ui=3.0, est=3.6046285714285715, details={'was_impossible': True, 'reason': 'User and/or item is unknown.'}),\n",
       " Prediction(uid=2631700, iid=28, r_ui=5.0, est=3.6046285714285715, details={'was_impossible': True, 'reason': 'User and/or item is unknown.'}),\n",
       " Prediction(uid=100864, iid=28, r_ui=4.0, est=3.6046285714285715, details={'was_impossible': True, 'reason': 'User and/or item is unknown.'}),\n",
       " Prediction(uid=1659248, iid=30, r_ui=4.0, est=3.6046285714285715, details={'was_impossible': True, 'reason': 'User and/or item is unknown.'}),\n",
       " Prediction(uid=2175787, iid=8, r_ui=3.0, est=3.6046285714285715, details={'was_impossible': True, 'reason': 'User and/or item is unknown.'}),\n",
       " Prediction(uid=606249, iid=28, r_ui=2.0, est=3.6046285714285715, details={'was_impossible': True, 'reason': 'User and/or item is unknown.'}),\n",
       " Prediction(uid=786492, iid=18, r_ui=3.0, est=3.6046285714285715, details={'was_impossible': True, 'reason': 'User and/or item is unknown.'}),\n",
       " Prediction(uid=214018, iid=30, r_ui=3.0, est=3.7150359101088886, details={'actual_k': 0, 'was_impossible': False}),\n",
       " Prediction(uid=2549746, iid=18, r_ui=3.0, est=4.046500261370719, details={'actual_k': 1, 'was_impossible': False}),\n",
       " Prediction(uid=1617200, iid=30, r_ui=4.0, est=3.6046285714285715, details={'was_impossible': True, 'reason': 'User and/or item is unknown.'}),\n",
       " Prediction(uid=869693, iid=28, r_ui=4.0, est=3.6046285714285715, details={'was_impossible': True, 'reason': 'User and/or item is unknown.'}),\n",
       " Prediction(uid=282088, iid=30, r_ui=3.0, est=3.6046285714285715, details={'was_impossible': True, 'reason': 'User and/or item is unknown.'}),\n",
       " Prediction(uid=182016, iid=30, r_ui=4.0, est=3.6046285714285715, details={'was_impossible': True, 'reason': 'User and/or item is unknown.'}),\n",
       " Prediction(uid=1455234, iid=18, r_ui=4.0, est=3.6046285714285715, details={'was_impossible': True, 'reason': 'User and/or item is unknown.'}),\n",
       " Prediction(uid=1756427, iid=8, r_ui=1.0, est=3.6046285714285715, details={'was_impossible': True, 'reason': 'User and/or item is unknown.'}),\n",
       " Prediction(uid=2467283, iid=28, r_ui=3.0, est=3.6046285714285715, details={'was_impossible': True, 'reason': 'User and/or item is unknown.'}),\n",
       " Prediction(uid=324403, iid=28, r_ui=5.0, est=4.086212418023077, details={'actual_k': 1, 'was_impossible': False}),\n",
       " Prediction(uid=463899, iid=28, r_ui=3.0, est=3.6046285714285715, details={'was_impossible': True, 'reason': 'User and/or item is unknown.'}),\n",
       " Prediction(uid=1562953, iid=30, r_ui=2.0, est=2.9137875819769223, details={'actual_k': 1, 'was_impossible': False}),\n",
       " Prediction(uid=2214218, iid=16, r_ui=4.0, est=3.6046285714285715, details={'was_impossible': True, 'reason': 'User and/or item is unknown.'}),\n",
       " Prediction(uid=862592, iid=28, r_ui=3.0, est=2.0862124180230777, details={'actual_k': 1, 'was_impossible': False}),\n",
       " Prediction(uid=2080549, iid=16, r_ui=5.0, est=3.3580365870142415, details={'actual_k': 1, 'was_impossible': False}),\n",
       " Prediction(uid=977606, iid=16, r_ui=4.0, est=3.6046285714285715, details={'was_impossible': True, 'reason': 'User and/or item is unknown.'}),\n",
       " Prediction(uid=695396, iid=8, r_ui=3.0, est=3.13935443823712, details={'actual_k': 0, 'was_impossible': False}),\n",
       " Prediction(uid=1336700, iid=28, r_ui=3.0, est=3.045936470695366, details={'actual_k': 1, 'was_impossible': False}),\n",
       " Prediction(uid=1426811, iid=28, r_ui=4.0, est=3.6046285714285715, details={'was_impossible': True, 'reason': 'User and/or item is unknown.'}),\n",
       " Prediction(uid=546161, iid=30, r_ui=4.0, est=3.7150359101088886, details={'actual_k': 0, 'was_impossible': False}),\n",
       " Prediction(uid=2283516, iid=8, r_ui=4.0, est=3.13935443823712, details={'actual_k': 0, 'was_impossible': False}),\n",
       " Prediction(uid=2340846, iid=28, r_ui=5.0, est=3.6046285714285715, details={'was_impossible': True, 'reason': 'User and/or item is unknown.'}),\n",
       " Prediction(uid=326810, iid=30, r_ui=3.0, est=2.9137875819769223, details={'actual_k': 1, 'was_impossible': False}),\n",
       " Prediction(uid=1222811, iid=26, r_ui=4.0, est=3.6046285714285715, details={'was_impossible': True, 'reason': 'User and/or item is unknown.'}),\n",
       " Prediction(uid=667438, iid=18, r_ui=5.0, est=3.6046285714285715, details={'was_impossible': True, 'reason': 'User and/or item is unknown.'}),\n",
       " Prediction(uid=178312, iid=30, r_ui=5.0, est=1.9137875819769226, details={'actual_k': 1, 'was_impossible': False}),\n",
       " Prediction(uid=1941368, iid=28, r_ui=4.0, est=4.039712156652359, details={'actual_k': 1, 'was_impossible': False}),\n",
       " Prediction(uid=994405, iid=8, r_ui=5.0, est=3.6046285714285715, details={'was_impossible': True, 'reason': 'User and/or item is unknown.'}),\n",
       " Prediction(uid=79745, iid=30, r_ui=4.0, est=4.810921419947887, details={'actual_k': 1, 'was_impossible': False}),\n",
       " Prediction(uid=1668648, iid=28, r_ui=2.0, est=3.067498769248965, details={'actual_k': 2, 'was_impossible': False}),\n",
       " Prediction(uid=1617159, iid=28, r_ui=5.0, est=3.6046285714285715, details={'was_impossible': True, 'reason': 'User and/or item is unknown.'}),\n",
       " Prediction(uid=1949275, iid=30, r_ui=3.0, est=3.6046285714285715, details={'was_impossible': True, 'reason': 'User and/or item is unknown.'}),\n",
       " Prediction(uid=265699, iid=8, r_ui=4.0, est=3.6046285714285715, details={'was_impossible': True, 'reason': 'User and/or item is unknown.'}),\n",
       " Prediction(uid=946517, iid=16, r_ui=5.0, est=4.311536325643523, details={'actual_k': 1, 'was_impossible': False}),\n",
       " Prediction(uid=2254872, iid=8, r_ui=3.0, est=4.38404258080052, details={'actual_k': 1, 'was_impossible': False}),\n",
       " Prediction(uid=1750740, iid=30, r_ui=3.0, est=2.9137875819769223, details={'actual_k': 1, 'was_impossible': False}),\n",
       " Prediction(uid=934677, iid=30, r_ui=4.0, est=3.6046285714285715, details={'was_impossible': True, 'reason': 'User and/or item is unknown.'}),\n",
       " Prediction(uid=173292, iid=28, r_ui=2.0, est=3.6046285714285715, details={'was_impossible': True, 'reason': 'User and/or item is unknown.'}),\n",
       " Prediction(uid=612562, iid=30, r_ui=4.0, est=3.6046285714285715, details={'was_impossible': True, 'reason': 'User and/or item is unknown.'}),\n",
       " Prediction(uid=1006958, iid=30, r_ui=4.0, est=4.913787581976923, details={'actual_k': 1, 'was_impossible': False}),\n",
       " Prediction(uid=2285825, iid=30, r_ui=4.0, est=3.6046285714285715, details={'was_impossible': True, 'reason': 'User and/or item is unknown.'}),\n",
       " Prediction(uid=2572361, iid=30, r_ui=4.0, est=3.6046285714285715, details={'was_impossible': True, 'reason': 'User and/or item is unknown.'}),\n",
       " Prediction(uid=1504010, iid=28, r_ui=5.0, est=4.086212418023077, details={'actual_k': 1, 'was_impossible': False}),\n",
       " Prediction(uid=1721709, iid=30, r_ui=3.0, est=3.7150359101088886, details={'actual_k': 0, 'was_impossible': False}),\n",
       " Prediction(uid=1124753, iid=28, r_ui=2.0, est=3.0397121566523593, details={'actual_k': 1, 'was_impossible': False}),\n",
       " Prediction(uid=1769018, iid=28, r_ui=4.0, est=3.6046285714285715, details={'was_impossible': True, 'reason': 'User and/or item is unknown.'}),\n",
       " Prediction(uid=950078, iid=28, r_ui=5.0, est=3.6046285714285715, details={'was_impossible': True, 'reason': 'User and/or item is unknown.'}),\n",
       " Prediction(uid=147428, iid=30, r_ui=5.0, est=3.6046285714285715, details={'was_impossible': True, 'reason': 'User and/or item is unknown.'}),\n",
       " Prediction(uid=469943, iid=30, r_ui=2.0, est=3.6046285714285715, details={'was_impossible': True, 'reason': 'User and/or item is unknown.'}),\n",
       " Prediction(uid=621775, iid=28, r_ui=4.0, est=3.6046285714285715, details={'was_impossible': True, 'reason': 'User and/or item is unknown.'}),\n",
       " Prediction(uid=1285230, iid=30, r_ui=4.0, est=3.6046285714285715, details={'was_impossible': True, 'reason': 'User and/or item is unknown.'}),\n",
       " Prediction(uid=1919296, iid=17, r_ui=3.0, est=2.1488026327244016, details={'actual_k': 1, 'was_impossible': False}),\n",
       " Prediction(uid=1416857, iid=30, r_ui=5.0, est=3.6046285714285715, details={'was_impossible': True, 'reason': 'User and/or item is unknown.'}),\n",
       " Prediction(uid=2578440, iid=30, r_ui=2.0, est=3.6046285714285715, details={'was_impossible': True, 'reason': 'User and/or item is unknown.'}),\n",
       " Prediction(uid=2411628, iid=30, r_ui=3.0, est=3.6046285714285715, details={'was_impossible': True, 'reason': 'User and/or item is unknown.'}),\n",
       " Prediction(uid=776850, iid=28, r_ui=3.0, est=3.6046285714285715, details={'was_impossible': True, 'reason': 'User and/or item is unknown.'}),\n",
       " Prediction(uid=543515, iid=30, r_ui=2.0, est=3.6046285714285715, details={'was_impossible': True, 'reason': 'User and/or item is unknown.'}),\n",
       " Prediction(uid=2032055, iid=28, r_ui=5.0, est=3.6046285714285715, details={'was_impossible': True, 'reason': 'User and/or item is unknown.'}),\n",
       " Prediction(uid=1324460, iid=18, r_ui=4.0, est=3.0465002613707184, details={'actual_k': 1, 'was_impossible': False}),\n",
       " Prediction(uid=1221336, iid=30, r_ui=3.0, est=2.9534997386292816, details={'actual_k': 1, 'was_impossible': False}),\n",
       " Prediction(uid=210117, iid=26, r_ui=2.0, est=2.773550912658975, details={'actual_k': 2, 'was_impossible': False}),\n",
       " Prediction(uid=1756098, iid=18, r_ui=5.0, est=3.6046285714285715, details={'was_impossible': True, 'reason': 'User and/or item is unknown.'}),\n",
       " Prediction(uid=782482, iid=30, r_ui=4.0, est=3.7150359101088886, details={'actual_k': 0, 'was_impossible': False}),\n",
       " Prediction(uid=838950, iid=17, r_ui=4.0, est=3.6046285714285715, details={'was_impossible': True, 'reason': 'User and/or item is unknown.'}),\n",
       " Prediction(uid=1954410, iid=8, r_ui=5.0, est=3.6046285714285715, details={'was_impossible': True, 'reason': 'User and/or item is unknown.'}),\n",
       " Prediction(uid=1814632, iid=28, r_ui=3.0, est=2.0862124180230777, details={'actual_k': 1, 'was_impossible': False}),\n",
       " Prediction(uid=453625, iid=28, r_ui=3.0, est=3.6046285714285715, details={'was_impossible': True, 'reason': 'User and/or item is unknown.'}),\n",
       " Prediction(uid=482868, iid=30, r_ui=4.0, est=3.6046285714285715, details={'was_impossible': True, 'reason': 'User and/or item is unknown.'}),\n",
       " Prediction(uid=871350, iid=30, r_ui=4.0, est=3.6046285714285715, details={'was_impossible': True, 'reason': 'User and/or item is unknown.'}),\n",
       " Prediction(uid=2400286, iid=28, r_ui=4.0, est=3.6046285714285715, details={'was_impossible': True, 'reason': 'User and/or item is unknown.'}),\n",
       " Prediction(uid=2118461, iid=16, r_ui=5.0, est=3.219213479935634, details={'actual_k': 4, 'was_impossible': False}),\n",
       " Prediction(uid=2633489, iid=17, r_ui=2.0, est=2.7224560453591082, details={'actual_k': 2, 'was_impossible': False}),\n",
       " Prediction(uid=308809, iid=30, r_ui=4.0, est=3.7150359101088886, details={'actual_k': 0, 'was_impossible': False}),\n",
       " Prediction(uid=1902434, iid=30, r_ui=1.0, est=3.6046285714285715, details={'was_impossible': True, 'reason': 'User and/or item is unknown.'}),\n",
       " Prediction(uid=1596762, iid=28, r_ui=3.0, est=3.6046285714285715, details={'was_impossible': True, 'reason': 'User and/or item is unknown.'}),\n",
       " Prediction(uid=2063764, iid=30, r_ui=4.0, est=3.6046285714285715, details={'was_impossible': True, 'reason': 'User and/or item is unknown.'}),\n",
       " Prediction(uid=2471531, iid=30, r_ui=2.0, est=3.6046285714285715, details={'was_impossible': True, 'reason': 'User and/or item is unknown.'}),\n",
       " Prediction(uid=2090861, iid=28, r_ui=5.0, est=3.6046285714285715, details={'was_impossible': True, 'reason': 'User and/or item is unknown.'}),\n",
       " Prediction(uid=1669092, iid=30, r_ui=4.0, est=2.9137875819769223, details={'actual_k': 1, 'was_impossible': False}),\n",
       " Prediction(uid=292339, iid=30, r_ui=4.0, est=3.6046285714285715, details={'was_impossible': True, 'reason': 'User and/or item is unknown.'}),\n",
       " Prediction(uid=1132373, iid=30, r_ui=2.0, est=3.7150359101088886, details={'actual_k': 0, 'was_impossible': False}),\n",
       " Prediction(uid=2177221, iid=30, r_ui=3.0, est=3.9534997386292816, details={'actual_k': 1, 'was_impossible': False}),\n",
       " Prediction(uid=160786, iid=28, r_ui=5.0, est=3.6046285714285715, details={'was_impossible': True, 'reason': 'User and/or item is unknown.'}),\n",
       " Prediction(uid=2423752, iid=30, r_ui=4.0, est=3.9137875819769223, details={'actual_k': 1, 'was_impossible': False}),\n",
       " Prediction(uid=2080189, iid=30, r_ui=4.0, est=3.6046285714285715, details={'was_impossible': True, 'reason': 'User and/or item is unknown.'}),\n",
       " Prediction(uid=1540750, iid=30, r_ui=4.0, est=3.6046285714285715, details={'was_impossible': True, 'reason': 'User and/or item is unknown.'}),\n",
       " Prediction(uid=76947, iid=18, r_ui=4.0, est=3.6046285714285715, details={'was_impossible': True, 'reason': 'User and/or item is unknown.'}),\n",
       " Prediction(uid=694791, iid=30, r_ui=4.0, est=3.6046285714285715, details={'was_impossible': True, 'reason': 'User and/or item is unknown.'}),\n",
       " Prediction(uid=994614, iid=30, r_ui=3.0, est=3.6046285714285715, details={'was_impossible': True, 'reason': 'User and/or item is unknown.'}),\n",
       " Prediction(uid=4057, iid=30, r_ui=4.0, est=3.9137875819769223, details={'actual_k': 1, 'was_impossible': False}),\n",
       " Prediction(uid=2460211, iid=28, r_ui=3.0, est=3.6046285714285715, details={'was_impossible': True, 'reason': 'User and/or item is unknown.'}),\n",
       " Prediction(uid=1074718, iid=28, r_ui=2.0, est=3.0862124180230777, details={'actual_k': 1, 'was_impossible': False}),\n",
       " Prediction(uid=40174, iid=28, r_ui=5.0, est=3.6046285714285715, details={'was_impossible': True, 'reason': 'User and/or item is unknown.'}),\n",
       " Prediction(uid=2180451, iid=28, r_ui=2.0, est=5, details={'actual_k': 1, 'was_impossible': False}),\n",
       " Prediction(uid=2173581, iid=28, r_ui=3.0, est=3.6046285714285715, details={'was_impossible': True, 'reason': 'User and/or item is unknown.'}),\n",
       " Prediction(uid=457661, iid=8, r_ui=3.0, est=3.6046285714285715, details={'was_impossible': True, 'reason': 'User and/or item is unknown.'}),\n",
       " Prediction(uid=120065, iid=28, r_ui=4.0, est=3.6046285714285715, details={'was_impossible': True, 'reason': 'User and/or item is unknown.'}),\n",
       " Prediction(uid=701379, iid=30, r_ui=3.0, est=3.6046285714285715, details={'was_impossible': True, 'reason': 'User and/or item is unknown.'}),\n",
       " Prediction(uid=2130888, iid=8, r_ui=3.0, est=4.377818266757513, details={'actual_k': 1, 'was_impossible': False}),\n",
       " Prediction(uid=546619, iid=18, r_ui=4.0, est=3.6046285714285715, details={'was_impossible': True, 'reason': 'User and/or item is unknown.'}),\n",
       " Prediction(uid=1800511, iid=8, r_ui=4.0, est=3.6046285714285715, details={'was_impossible': True, 'reason': 'User and/or item is unknown.'}),\n",
       " Prediction(uid=2256611, iid=30, r_ui=3.0, est=3.6046285714285715, details={'was_impossible': True, 'reason': 'User and/or item is unknown.'}),\n",
       " Prediction(uid=920088, iid=16, r_ui=3.0, est=3.311536325643523, details={'actual_k': 1, 'was_impossible': False}),\n",
       " Prediction(uid=678384, iid=16, r_ui=4.0, est=3.6046285714285715, details={'was_impossible': True, 'reason': 'User and/or item is unknown.'}),\n",
       " Prediction(uid=364513, iid=28, r_ui=4.0, est=3.6046285714285715, details={'was_impossible': True, 'reason': 'User and/or item is unknown.'}),\n",
       " Prediction(uid=466462, iid=8, r_ui=4.0, est=3.6046285714285715, details={'was_impossible': True, 'reason': 'User and/or item is unknown.'}),\n",
       " Prediction(uid=558678, iid=28, r_ui=5.0, est=3.6046285714285715, details={'was_impossible': True, 'reason': 'User and/or item is unknown.'}),\n",
       " Prediction(uid=96743, iid=30, r_ui=4.0, est=3.6046285714285715, details={'was_impossible': True, 'reason': 'User and/or item is unknown.'}),\n",
       " Prediction(uid=1880993, iid=28, r_ui=4.0, est=3.8971338379709644, details={'actual_k': 1, 'was_impossible': False}),\n",
       " Prediction(uid=56449, iid=30, r_ui=4.0, est=3.6046285714285715, details={'was_impossible': True, 'reason': 'User and/or item is unknown.'}),\n",
       " Prediction(uid=2384526, iid=30, r_ui=4.0, est=1.9137875819769226, details={'actual_k': 1, 'was_impossible': False}),\n",
       " Prediction(uid=1819462, iid=28, r_ui=4.0, est=2.0397121566523593, details={'actual_k': 1, 'was_impossible': False}),\n",
       " Prediction(uid=1171091, iid=28, r_ui=4.0, est=3.6046285714285715, details={'was_impossible': True, 'reason': 'User and/or item is unknown.'}),\n",
       " Prediction(uid=2583311, iid=26, r_ui=3.0, est=3.5884870918376564, details={'actual_k': 2, 'was_impossible': False}),\n",
       " Prediction(uid=2271686, iid=30, r_ui=3.0, est=2.9137875819769223, details={'actual_k': 1, 'was_impossible': False}),\n",
       " Prediction(uid=1505979, iid=30, r_ui=4.0, est=3.6046285714285715, details={'was_impossible': True, 'reason': 'User and/or item is unknown.'}),\n",
       " Prediction(uid=907609, iid=28, r_ui=3.0, est=3.6046285714285715, details={'was_impossible': True, 'reason': 'User and/or item is unknown.'}),\n",
       " Prediction(uid=2532787, iid=28, r_ui=2.0, est=3.6046285714285715, details={'was_impossible': True, 'reason': 'User and/or item is unknown.'}),\n",
       " Prediction(uid=320111, iid=28, r_ui=5.0, est=3.6046285714285715, details={'was_impossible': True, 'reason': 'User and/or item is unknown.'}),\n",
       " Prediction(uid=1330537, iid=30, r_ui=5.0, est=2.9137875819769223, details={'actual_k': 1, 'was_impossible': False}),\n",
       " Prediction(uid=2542255, iid=30, r_ui=3.0, est=3.6046285714285715, details={'was_impossible': True, 'reason': 'User and/or item is unknown.'}),\n",
       " Prediction(uid=1935228, iid=30, r_ui=2.0, est=3.6046285714285715, details={'was_impossible': True, 'reason': 'User and/or item is unknown.'}),\n",
       " Prediction(uid=2219243, iid=28, r_ui=4.0, est=3.6046285714285715, details={'was_impossible': True, 'reason': 'User and/or item is unknown.'}),\n",
       " Prediction(uid=2336290, iid=30, r_ui=3.0, est=3.6046285714285715, details={'was_impossible': True, 'reason': 'User and/or item is unknown.'}),\n",
       " Prediction(uid=1755612, iid=28, r_ui=4.0, est=4.349615914310689, details={'actual_k': 3, 'was_impossible': False}),\n",
       " Prediction(uid=2186659, iid=30, r_ui=4.0, est=3.6046285714285715, details={'was_impossible': True, 'reason': 'User and/or item is unknown.'}),\n",
       " Prediction(uid=1333598, iid=30, r_ui=3.0, est=3.6046285714285715, details={'was_impossible': True, 'reason': 'User and/or item is unknown.'}),\n",
       " Prediction(uid=2453926, iid=30, r_ui=4.0, est=3.9137875819769223, details={'actual_k': 1, 'was_impossible': False}),\n",
       " Prediction(uid=2068217, iid=28, r_ui=4.0, est=3.0862124180230777, details={'actual_k': 1, 'was_impossible': False}),\n",
       " Prediction(uid=1365662, iid=28, r_ui=4.0, est=3.6046285714285715, details={'was_impossible': True, 'reason': 'User and/or item is unknown.'}),\n",
       " Prediction(uid=162026, iid=30, r_ui=3.0, est=3.6046285714285715, details={'was_impossible': True, 'reason': 'User and/or item is unknown.'}),\n",
       " Prediction(uid=552356, iid=18, r_ui=4.0, est=3.280887827320454, details={'actual_k': 2, 'was_impossible': False}),\n",
       " Prediction(uid=2350917, iid=18, r_ui=3.0, est=3.622181733242487, details={'actual_k': 1, 'was_impossible': False}),\n",
       " Prediction(uid=184514, iid=28, r_ui=3.0, est=5, details={'actual_k': 1, 'was_impossible': False}),\n",
       " Prediction(uid=2435028, iid=30, r_ui=5.0, est=3.6046285714285715, details={'was_impossible': True, 'reason': 'User and/or item is unknown.'}),\n",
       " Prediction(uid=1262327, iid=28, r_ui=3.0, est=5, details={'actual_k': 1, 'was_impossible': False}),\n",
       " Prediction(uid=2026118, iid=30, r_ui=3.0, est=3.9137875819769223, details={'actual_k': 1, 'was_impossible': False}),\n",
       " Prediction(uid=1813486, iid=28, r_ui=4.0, est=4.086212418023077, details={'actual_k': 1, 'was_impossible': False}),\n",
       " Prediction(uid=1808985, iid=30, r_ui=4.0, est=3.6046285714285715, details={'was_impossible': True, 'reason': 'User and/or item is unknown.'}),\n",
       " Prediction(uid=1824459, iid=28, r_ui=5.0, est=3.6046285714285715, details={'was_impossible': True, 'reason': 'User and/or item is unknown.'}),\n",
       " Prediction(uid=939000, iid=30, r_ui=1.0, est=3.6046285714285715, details={'was_impossible': True, 'reason': 'User and/or item is unknown.'}),\n",
       " Prediction(uid=1650068, iid=17, r_ui=2.0, est=4.102866162029036, details={'actual_k': 1, 'was_impossible': False}),\n",
       " Prediction(uid=408200, iid=30, r_ui=4.0, est=2.9137875819769223, details={'actual_k': 1, 'was_impossible': False}),\n",
       " Prediction(uid=1796481, iid=17, r_ui=5.0, est=4.102866162029036, details={'actual_k': 1, 'was_impossible': False}),\n",
       " Prediction(uid=782666, iid=8, r_ui=1.0, est=4.38404258080052, details={'actual_k': 1, 'was_impossible': False}),\n",
       " Prediction(uid=797898, iid=18, r_ui=5.0, est=3.622181733242487, details={'actual_k': 1, 'was_impossible': False}),\n",
       " Prediction(uid=956194, iid=30, r_ui=4.0, est=3.6046285714285715, details={'was_impossible': True, 'reason': 'User and/or item is unknown.'}),\n",
       " Prediction(uid=1236713, iid=28, r_ui=5.0, est=3.6046285714285715, details={'was_impossible': True, 'reason': 'User and/or item is unknown.'}),\n",
       " Prediction(uid=2572696, iid=30, r_ui=4.0, est=3.6046285714285715, details={'was_impossible': True, 'reason': 'User and/or item is unknown.'}),\n",
       " Prediction(uid=826541, iid=17, r_ui=3.0, est=3.6046285714285715, details={'was_impossible': True, 'reason': 'User and/or item is unknown.'}),\n",
       " Prediction(uid=582722, iid=18, r_ui=5.0, est=3.6046285714285715, details={'was_impossible': True, 'reason': 'User and/or item is unknown.'}),\n",
       " Prediction(uid=1270970, iid=28, r_ui=4.0, est=4.086212418023077, details={'actual_k': 1, 'was_impossible': False}),\n",
       " Prediction(uid=315080, iid=8, r_ui=5.0, est=3.6046285714285715, details={'was_impossible': True, 'reason': 'User and/or item is unknown.'}),\n",
       " Prediction(uid=1024854, iid=17, r_ui=3.0, est=3.6046285714285715, details={'was_impossible': True, 'reason': 'User and/or item is unknown.'}),\n",
       " Prediction(uid=2608587, iid=8, r_ui=4.0, est=3.6046285714285715, details={'was_impossible': True, 'reason': 'User and/or item is unknown.'}),\n",
       " Prediction(uid=1899086, iid=26, r_ui=2.0, est=3.6046285714285715, details={'was_impossible': True, 'reason': 'User and/or item is unknown.'}),\n",
       " Prediction(uid=2350917, iid=28, r_ui=4.0, est=3.8012483281319662, details={'actual_k': 0, 'was_impossible': False}),\n",
       " Prediction(uid=519365, iid=28, r_ui=3.0, est=3.6046285714285715, details={'was_impossible': True, 'reason': 'User and/or item is unknown.'}),\n",
       " Prediction(uid=641468, iid=30, r_ui=5.0, est=3.6046285714285715, details={'was_impossible': True, 'reason': 'User and/or item is unknown.'}),\n",
       " Prediction(uid=589847, iid=30, r_ui=5.0, est=3.7150359101088886, details={'actual_k': 0, 'was_impossible': False}),\n",
       " Prediction(uid=2295156, iid=28, r_ui=5.0, est=3.6046285714285715, details={'was_impossible': True, 'reason': 'User and/or item is unknown.'}),\n",
       " Prediction(uid=2009145, iid=28, r_ui=4.0, est=3.6046285714285715, details={'was_impossible': True, 'reason': 'User and/or item is unknown.'}),\n",
       " Prediction(uid=2382660, iid=30, r_ui=4.0, est=3.6046285714285715, details={'was_impossible': True, 'reason': 'User and/or item is unknown.'}),\n",
       " Prediction(uid=1252110, iid=30, r_ui=5.0, est=3.6046285714285715, details={'was_impossible': True, 'reason': 'User and/or item is unknown.'}),\n",
       " Prediction(uid=2637831, iid=8, r_ui=4.0, est=3.6046285714285715, details={'was_impossible': True, 'reason': 'User and/or item is unknown.'}),\n",
       " Prediction(uid=2151618, iid=28, r_ui=5.0, est=3.6046285714285715, details={'was_impossible': True, 'reason': 'User and/or item is unknown.'}),\n",
       " Prediction(uid=2065126, iid=30, r_ui=5.0, est=4.953499738629281, details={'actual_k': 1, 'was_impossible': False}),\n",
       " Prediction(uid=229737, iid=8, r_ui=5.0, est=3.6046285714285715, details={'was_impossible': True, 'reason': 'User and/or item is unknown.'}),\n",
       " Prediction(uid=1308634, iid=28, r_ui=4.0, est=3.6046285714285715, details={'was_impossible': True, 'reason': 'User and/or item is unknown.'}),\n",
       " Prediction(uid=1494569, iid=28, r_ui=5.0, est=3.8012483281319662, details={'actual_k': 0, 'was_impossible': False}),\n",
       " Prediction(uid=334292, iid=30, r_ui=1.0, est=3.6046285714285715, details={'was_impossible': True, 'reason': 'User and/or item is unknown.'}),\n",
       " Prediction(uid=413166, iid=26, r_ui=3.0, est=3.6046285714285715, details={'was_impossible': True, 'reason': 'User and/or item is unknown.'}),\n",
       " Prediction(uid=2475883, iid=30, r_ui=4.0, est=2.9534997386292816, details={'actual_k': 1, 'was_impossible': False}),\n",
       " Prediction(uid=1345801, iid=8, r_ui=3.0, est=3.13935443823712, details={'actual_k': 0, 'was_impossible': False}),\n",
       " Prediction(uid=650771, iid=28, r_ui=3.0, est=3.6046285714285715, details={'was_impossible': True, 'reason': 'User and/or item is unknown.'}),\n",
       " Prediction(uid=571277, iid=18, r_ui=4.0, est=3.6046285714285715, details={'was_impossible': True, 'reason': 'User and/or item is unknown.'}),\n",
       " Prediction(uid=1041757, iid=28, r_ui=4.0, est=4.086212418023077, details={'actual_k': 1, 'was_impossible': False}),\n",
       " Prediction(uid=1311346, iid=18, r_ui=2.0, est=3.361976015571715, details={'actual_k': 2, 'was_impossible': False}),\n",
       " Prediction(uid=1573289, iid=28, r_ui=4.0, est=4.0674987692489655, details={'actual_k': 2, 'was_impossible': False}),\n",
       " Prediction(uid=1388216, iid=28, r_ui=4.0, est=3.445123884098188, details={'actual_k': 2, 'was_impossible': False}),\n",
       " Prediction(uid=719213, iid=30, r_ui=2.0, est=3.6046285714285715, details={'was_impossible': True, 'reason': 'User and/or item is unknown.'}),\n",
       " Prediction(uid=648186, iid=30, r_ui=3.0, est=3.6046285714285715, details={'was_impossible': True, 'reason': 'User and/or item is unknown.'}),\n",
       " Prediction(uid=1774590, iid=28, r_ui=3.0, est=3.6046285714285715, details={'was_impossible': True, 'reason': 'User and/or item is unknown.'}),\n",
       " Prediction(uid=513285, iid=18, r_ui=3.0, est=2.622181733242487, details={'actual_k': 1, 'was_impossible': False}),\n",
       " Prediction(uid=2289798, iid=18, r_ui=2.0, est=3.2587035499982187, details={'actual_k': 2, 'was_impossible': False}),\n",
       " Prediction(uid=278713, iid=8, r_ui=5.0, est=3.6046285714285715, details={'was_impossible': True, 'reason': 'User and/or item is unknown.'}),\n",
       " Prediction(uid=1391800, iid=30, r_ui=3.0, est=3.6046285714285715, details={'was_impossible': True, 'reason': 'User and/or item is unknown.'}),\n",
       " Prediction(uid=242099, iid=30, r_ui=2.0, est=3.6046285714285715, details={'was_impossible': True, 'reason': 'User and/or item is unknown.'}),\n",
       " Prediction(uid=1990732, iid=30, r_ui=5.0, est=3.6046285714285715, details={'was_impossible': True, 'reason': 'User and/or item is unknown.'}),\n",
       " Prediction(uid=2527611, iid=30, r_ui=4.0, est=3.6046285714285715, details={'was_impossible': True, 'reason': 'User and/or item is unknown.'}),\n",
       " Prediction(uid=26338, iid=28, r_ui=4.0, est=3.6046285714285715, details={'was_impossible': True, 'reason': 'User and/or item is unknown.'}),\n",
       " Prediction(uid=929374, iid=8, r_ui=1.0, est=3.6046285714285715, details={'was_impossible': True, 'reason': 'User and/or item is unknown.'}),\n",
       " Prediction(uid=1684471, iid=18, r_ui=3.0, est=3.6046285714285715, details={'was_impossible': True, 'reason': 'User and/or item is unknown.'}),\n",
       " Prediction(uid=1646405, iid=28, r_ui=4.0, est=5, details={'actual_k': 1, 'was_impossible': False}),\n",
       " Prediction(uid=1018364, iid=30, r_ui=4.0, est=3.6046285714285715, details={'was_impossible': True, 'reason': 'User and/or item is unknown.'}),\n",
       " Prediction(uid=967997, iid=30, r_ui=2.0, est=3.6046285714285715, details={'was_impossible': True, 'reason': 'User and/or item is unknown.'}),\n",
       " Prediction(uid=2244002, iid=30, r_ui=2.0, est=3.6046285714285715, details={'was_impossible': True, 'reason': 'User and/or item is unknown.'}),\n",
       " Prediction(uid=366891, iid=28, r_ui=5.0, est=3.6046285714285715, details={'was_impossible': True, 'reason': 'User and/or item is unknown.'}),\n",
       " Prediction(uid=38514, iid=16, r_ui=3.0, est=3.6046285714285715, details={'was_impossible': True, 'reason': 'User and/or item is unknown.'}),\n",
       " Prediction(uid=1500, iid=30, r_ui=4.0, est=1, details={'actual_k': 1, 'was_impossible': False}),\n",
       " Prediction(uid=931475, iid=28, r_ui=4.0, est=3.6046285714285715, details={'was_impossible': True, 'reason': 'User and/or item is unknown.'}),\n",
       " Prediction(uid=2153146, iid=8, r_ui=4.0, est=3.13935443823712, details={'actual_k': 0, 'was_impossible': False}),\n",
       " Prediction(uid=2522831, iid=28, r_ui=3.0, est=3.6046285714285715, details={'was_impossible': True, 'reason': 'User and/or item is unknown.'}),\n",
       " Prediction(uid=2468740, iid=28, r_ui=4.0, est=3.6046285714285715, details={'was_impossible': True, 'reason': 'User and/or item is unknown.'}),\n",
       " Prediction(uid=660837, iid=17, r_ui=2.0, est=2.1028661620290356, details={'actual_k': 1, 'was_impossible': False}),\n",
       " Prediction(uid=2156559, iid=18, r_ui=3.0, est=3.6046285714285715, details={'was_impossible': True, 'reason': 'User and/or item is unknown.'}),\n",
       " Prediction(uid=245884, iid=30, r_ui=3.0, est=3.6046285714285715, details={'was_impossible': True, 'reason': 'User and/or item is unknown.'}),\n",
       " Prediction(uid=2493713, iid=17, r_ui=3.0, est=3.6046285714285715, details={'was_impossible': True, 'reason': 'User and/or item is unknown.'}),\n",
       " Prediction(uid=2253737, iid=18, r_ui=5.0, est=3.6046285714285715, details={'was_impossible': True, 'reason': 'User and/or item is unknown.'}),\n",
       " Prediction(uid=682873, iid=28, r_ui=5.0, est=3.6046285714285715, details={'was_impossible': True, 'reason': 'User and/or item is unknown.'}),\n",
       " Prediction(uid=2451128, iid=28, r_ui=5.0, est=5, details={'actual_k': 1, 'was_impossible': False}),\n",
       " Prediction(uid=196494, iid=28, r_ui=3.0, est=3.6046285714285715, details={'was_impossible': True, 'reason': 'User and/or item is unknown.'}),\n",
       " Prediction(uid=1010690, iid=17, r_ui=1.0, est=3.6046285714285715, details={'was_impossible': True, 'reason': 'User and/or item is unknown.'}),\n",
       " Prediction(uid=47965, iid=30, r_ui=3.0, est=3.6046285714285715, details={'was_impossible': True, 'reason': 'User and/or item is unknown.'}),\n",
       " Prediction(uid=2625327, iid=18, r_ui=4.0, est=3.1241424037742247, details={'actual_k': 1, 'was_impossible': False}),\n",
       " Prediction(uid=1825707, iid=30, r_ui=5.0, est=3.9137875819769223, details={'actual_k': 1, 'was_impossible': False}),\n",
       " Prediction(uid=2122718, iid=28, r_ui=3.0, est=3.6046285714285715, details={'was_impossible': True, 'reason': 'User and/or item is unknown.'}),\n",
       " Prediction(uid=2531590, iid=28, r_ui=5.0, est=3.6046285714285715, details={'was_impossible': True, 'reason': 'User and/or item is unknown.'}),\n",
       " Prediction(uid=44540, iid=30, r_ui=5.0, est=3.6046285714285715, details={'was_impossible': True, 'reason': 'User and/or item is unknown.'}),\n",
       " Prediction(uid=1457793, iid=28, r_ui=5.0, est=3.6046285714285715, details={'was_impossible': True, 'reason': 'User and/or item is unknown.'}),\n",
       " Prediction(uid=1820992, iid=30, r_ui=5.0, est=3.9137875819769223, details={'actual_k': 1, 'was_impossible': False}),\n",
       " Prediction(uid=568194, iid=17, r_ui=4.0, est=4.148802632724402, details={'actual_k': 1, 'was_impossible': False}),\n",
       " Prediction(uid=650797, iid=28, r_ui=2.0, est=3.6046285714285715, details={'was_impossible': True, 'reason': 'User and/or item is unknown.'}),\n",
       " Prediction(uid=863138, iid=30, r_ui=4.0, est=3.6046285714285715, details={'was_impossible': True, 'reason': 'User and/or item is unknown.'}),\n",
       " Prediction(uid=2002224, iid=30, r_ui=5.0, est=4.913787581976923, details={'actual_k': 1, 'was_impossible': False}),\n",
       " Prediction(uid=1231889, iid=30, r_ui=2.0, est=3.6046285714285715, details={'was_impossible': True, 'reason': 'User and/or item is unknown.'}),\n",
       " Prediction(uid=165821, iid=26, r_ui=1.0, est=3.6046285714285715, details={'was_impossible': True, 'reason': 'User and/or item is unknown.'}),\n",
       " Prediction(uid=1489474, iid=28, r_ui=3.0, est=3.6046285714285715, details={'was_impossible': True, 'reason': 'User and/or item is unknown.'}),\n",
       " Prediction(uid=560909, iid=26, r_ui=3.0, est=3.6046285714285715, details={'was_impossible': True, 'reason': 'User and/or item is unknown.'}),\n",
       " Prediction(uid=563447, iid=30, r_ui=3.0, est=2.9137875819769223, details={'actual_k': 1, 'was_impossible': False}),\n",
       " Prediction(uid=2510168, iid=30, r_ui=4.0, est=3.6046285714285715, details={'was_impossible': True, 'reason': 'User and/or item is unknown.'}),\n",
       " Prediction(uid=1181795, iid=17, r_ui=1.0, est=3.6046285714285715, details={'was_impossible': True, 'reason': 'User and/or item is unknown.'}),\n",
       " Prediction(uid=1101769, iid=8, r_ui=1.0, est=3.13935443823712, details={'actual_k': 0, 'was_impossible': False}),\n",
       " Prediction(uid=784477, iid=30, r_ui=4.0, est=3.6046285714285715, details={'was_impossible': True, 'reason': 'User and/or item is unknown.'}),\n",
       " Prediction(uid=302479, iid=28, r_ui=4.0, est=3.6046285714285715, details={'was_impossible': True, 'reason': 'User and/or item is unknown.'}),\n",
       " Prediction(uid=1339657, iid=28, r_ui=2.0, est=3.6046285714285715, details={'was_impossible': True, 'reason': 'User and/or item is unknown.'}),\n",
       " Prediction(uid=1403420, iid=28, r_ui=4.0, est=3.6046285714285715, details={'was_impossible': True, 'reason': 'User and/or item is unknown.'}),\n",
       " Prediction(uid=2111335, iid=17, r_ui=5.0, est=3.6046285714285715, details={'was_impossible': True, 'reason': 'User and/or item is unknown.'}),\n",
       " Prediction(uid=431602, iid=28, r_ui=4.0, est=3.6046285714285715, details={'was_impossible': True, 'reason': 'User and/or item is unknown.'}),\n",
       " Prediction(uid=585578, iid=30, r_ui=5.0, est=2.9137875819769223, details={'actual_k': 1, 'was_impossible': False}),\n",
       " Prediction(uid=12007, iid=30, r_ui=5.0, est=3.6046285714285715, details={'was_impossible': True, 'reason': 'User and/or item is unknown.'}),\n",
       " Prediction(uid=758528, iid=30, r_ui=4.0, est=3.6046285714285715, details={'was_impossible': True, 'reason': 'User and/or item is unknown.'}),\n",
       " Prediction(uid=1005165, iid=18, r_ui=3.0, est=2.9602878433476407, details={'actual_k': 1, 'was_impossible': False}),\n",
       " Prediction(uid=1075450, iid=30, r_ui=3.0, est=3.6046285714285715, details={'was_impossible': True, 'reason': 'User and/or item is unknown.'}),\n",
       " Prediction(uid=2204513, iid=28, r_ui=5.0, est=3.6046285714285715, details={'was_impossible': True, 'reason': 'User and/or item is unknown.'}),\n",
       " Prediction(uid=26049, iid=30, r_ui=3.0, est=3.9534997386292816, details={'actual_k': 1, 'was_impossible': False}),\n",
       " Prediction(uid=1029578, iid=28, r_ui=3.0, est=3.8012483281319662, details={'actual_k': 0, 'was_impossible': False}),\n",
       " Prediction(uid=1581837, iid=30, r_ui=5.0, est=3.6046285714285715, details={'was_impossible': True, 'reason': 'User and/or item is unknown.'}),\n",
       " Prediction(uid=2392436, iid=17, r_ui=4.0, est=3.6046285714285715, details={'was_impossible': True, 'reason': 'User and/or item is unknown.'}),\n",
       " Prediction(uid=14690, iid=18, r_ui=4.0, est=3.6046285714285715, details={'was_impossible': True, 'reason': 'User and/or item is unknown.'}),\n",
       " Prediction(uid=2546997, iid=17, r_ui=3.0, est=3.1488026327244016, details={'actual_k': 1, 'was_impossible': False}),\n",
       " Prediction(uid=1766823, iid=8, r_ui=4.0, est=3.13935443823712, details={'actual_k': 0, 'was_impossible': False}),\n",
       " Prediction(uid=2648056, iid=8, r_ui=4.0, est=3.13935443823712, details={'actual_k': 0, 'was_impossible': False}),\n",
       " Prediction(uid=1485178, iid=18, r_ui=3.0, est=3.6046285714285715, details={'was_impossible': True, 'reason': 'User and/or item is unknown.'}),\n",
       " Prediction(uid=505488, iid=17, r_ui=3.0, est=2.1890785800521133, details={'actual_k': 1, 'was_impossible': False}),\n",
       " Prediction(uid=259516, iid=30, r_ui=3.0, est=3.6046285714285715, details={'was_impossible': True, 'reason': 'User and/or item is unknown.'}),\n",
       " Prediction(uid=1194148, iid=30, r_ui=3.0, est=3.6046285714285715, details={'was_impossible': True, 'reason': 'User and/or item is unknown.'}),\n",
       " Prediction(uid=1086803, iid=30, r_ui=5.0, est=3.6046285714285715, details={'was_impossible': True, 'reason': 'User and/or item is unknown.'}),\n",
       " Prediction(uid=2592894, iid=3, r_ui=4.0, est=3.9223578575964937, details={'actual_k': 1, 'was_impossible': False}),\n",
       " Prediction(uid=1599996, iid=30, r_ui=3.0, est=3.6046285714285715, details={'was_impossible': True, 'reason': 'User and/or item is unknown.'}),\n",
       " Prediction(uid=2576855, iid=30, r_ui=3.0, est=3.6046285714285715, details={'was_impossible': True, 'reason': 'User and/or item is unknown.'}),\n",
       " Prediction(uid=295296, iid=30, r_ui=2.0, est=3.6046285714285715, details={'was_impossible': True, 'reason': 'User and/or item is unknown.'}),\n",
       " Prediction(uid=2631815, iid=18, r_ui=5.0, est=3.6046285714285715, details={'was_impossible': True, 'reason': 'User and/or item is unknown.'}),\n",
       " Prediction(uid=1168000, iid=28, r_ui=5.0, est=3.6046285714285715, details={'was_impossible': True, 'reason': 'User and/or item is unknown.'}),\n",
       " Prediction(uid=1467966, iid=28, r_ui=4.0, est=3.6046285714285715, details={'was_impossible': True, 'reason': 'User and/or item is unknown.'}),\n",
       " Prediction(uid=998502, iid=16, r_ui=5.0, est=2.279007561392837, details={'actual_k': 2, 'was_impossible': False}),\n",
       " Prediction(uid=1759835, iid=17, r_ui=3.0, est=1.1488026327244016, details={'actual_k': 1, 'was_impossible': False}),\n",
       " Prediction(uid=1092189, iid=28, r_ui=3.0, est=3.6046285714285715, details={'was_impossible': True, 'reason': 'User and/or item is unknown.'}),\n",
       " Prediction(uid=2345009, iid=28, r_ui=4.0, est=3.6046285714285715, details={'was_impossible': True, 'reason': 'User and/or item is unknown.'}),\n",
       " Prediction(uid=22994, iid=28, r_ui=4.0, est=4.086212418023077, details={'actual_k': 1, 'was_impossible': False}),\n",
       " Prediction(uid=532207, iid=18, r_ui=4.0, est=3.6046285714285715, details={'was_impossible': True, 'reason': 'User and/or item is unknown.'}),\n",
       " Prediction(uid=2419258, iid=18, r_ui=5.0, est=4.622181733242487, details={'actual_k': 1, 'was_impossible': False}),\n",
       " Prediction(uid=478253, iid=28, r_ui=5.0, est=3.6046285714285715, details={'was_impossible': True, 'reason': 'User and/or item is unknown.'}),\n",
       " Prediction(uid=815043, iid=30, r_ui=2.0, est=2.9137875819769223, details={'actual_k': 1, 'was_impossible': False}),\n",
       " Prediction(uid=1698211, iid=18, r_ui=4.0, est=3.9602878433476407, details={'actual_k': 1, 'was_impossible': False}),\n",
       " Prediction(uid=1843143, iid=30, r_ui=5.0, est=3.6046285714285715, details={'was_impossible': True, 'reason': 'User and/or item is unknown.'}),\n",
       " Prediction(uid=1366350, iid=8, r_ui=4.0, est=3.6046285714285715, details={'was_impossible': True, 'reason': 'User and/or item is unknown.'}),\n",
       " Prediction(uid=1798307, iid=28, r_ui=3.0, est=3.6046285714285715, details={'was_impossible': True, 'reason': 'User and/or item is unknown.'}),\n",
       " Prediction(uid=1678173, iid=30, r_ui=5.0, est=3.6046285714285715, details={'was_impossible': True, 'reason': 'User and/or item is unknown.'}),\n",
       " Prediction(uid=1057665, iid=30, r_ui=3.0, est=3.6046285714285715, details={'was_impossible': True, 'reason': 'User and/or item is unknown.'}),\n",
       " Prediction(uid=2187218, iid=30, r_ui=4.0, est=1.9534997386292816, details={'actual_k': 1, 'was_impossible': False}),\n",
       " Prediction(uid=2065442, iid=30, r_ui=3.0, est=3.6046285714285715, details={'was_impossible': True, 'reason': 'User and/or item is unknown.'}),\n",
       " Prediction(uid=732122, iid=26, r_ui=1.0, est=2.954063529304634, details={'actual_k': 1, 'was_impossible': False}),\n",
       " Prediction(uid=152807, iid=28, r_ui=5.0, est=4.0747509825352, details={'actual_k': 2, 'was_impossible': False}),\n",
       " Prediction(uid=1287807, iid=30, r_ui=4.0, est=3.6046285714285715, details={'was_impossible': True, 'reason': 'User and/or item is unknown.'}),\n",
       " Prediction(uid=1328118, iid=3, r_ui=4.0, est=3.6046285714285715, details={'was_impossible': True, 'reason': 'User and/or item is unknown.'}),\n",
       " Prediction(uid=1630361, iid=28, r_ui=3.0, est=3.6046285714285715, details={'was_impossible': True, 'reason': 'User and/or item is unknown.'}),\n",
       " Prediction(uid=45675, iid=28, r_ui=3.0, est=3.6046285714285715, details={'was_impossible': True, 'reason': 'User and/or item is unknown.'}),\n",
       " Prediction(uid=1305384, iid=30, r_ui=4.0, est=3.9137875819769223, details={'actual_k': 1, 'was_impossible': False}),\n",
       " Prediction(uid=753841, iid=30, r_ui=5.0, est=3.6046285714285715, details={'was_impossible': True, 'reason': 'User and/or item is unknown.'}),\n",
       " Prediction(uid=1164940, iid=17, r_ui=4.0, est=3.6046285714285715, details={'was_impossible': True, 'reason': 'User and/or item is unknown.'}),\n",
       " Prediction(uid=964453, iid=28, r_ui=3.0, est=4.086212418023077, details={'actual_k': 1, 'was_impossible': False}),\n",
       " Prediction(uid=1391743, iid=30, r_ui=5.0, est=3.6046285714285715, details={'was_impossible': True, 'reason': 'User and/or item is unknown.'}),\n",
       " Prediction(uid=577476, iid=30, r_ui=4.0, est=3.6046285714285715, details={'was_impossible': True, 'reason': 'User and/or item is unknown.'}),\n",
       " Prediction(uid=2602410, iid=30, r_ui=4.0, est=3.6046285714285715, details={'was_impossible': True, 'reason': 'User and/or item is unknown.'}),\n",
       " Prediction(uid=1007809, iid=8, r_ui=4.0, est=3.5019606705317377, details={'actual_k': 1, 'was_impossible': False}),\n",
       " Prediction(uid=2211298, iid=18, r_ui=5.0, est=5, details={'actual_k': 1, 'was_impossible': False}),\n",
       " Prediction(uid=1523735, iid=28, r_ui=3.0, est=4.086212418023077, details={'actual_k': 1, 'was_impossible': False}),\n",
       " Prediction(uid=1337026, iid=26, r_ui=2.0, est=2.9448918450339874, details={'actual_k': 3, 'was_impossible': False}),\n",
       " Prediction(uid=1451893, iid=30, r_ui=3.0, est=3.6046285714285715, details={'was_impossible': True, 'reason': 'User and/or item is unknown.'}),\n",
       " Prediction(uid=640542, iid=30, r_ui=5.0, est=3.6046285714285715, details={'was_impossible': True, 'reason': 'User and/or item is unknown.'}),\n",
       " Prediction(uid=1857774, iid=26, r_ui=2.0, est=3.6046285714285715, details={'was_impossible': True, 'reason': 'User and/or item is unknown.'}),\n",
       " Prediction(uid=2189967, iid=30, r_ui=3.0, est=3.6046285714285715, details={'was_impossible': True, 'reason': 'User and/or item is unknown.'}),\n",
       " Prediction(uid=1518145, iid=30, r_ui=4.0, est=3.6046285714285715, details={'was_impossible': True, 'reason': 'User and/or item is unknown.'}),\n",
       " Prediction(uid=1989863, iid=28, r_ui=4.0, est=3.0862124180230777, details={'actual_k': 1, 'was_impossible': False}),\n",
       " Prediction(uid=1906979, iid=26, r_ui=3.0, est=3.6046285714285715, details={'was_impossible': True, 'reason': 'User and/or item is unknown.'}),\n",
       " Prediction(uid=1766217, iid=18, r_ui=3.0, est=3.761536171479607, details={'actual_k': 0, 'was_impossible': False}),\n",
       " Prediction(uid=339616, iid=28, r_ui=4.0, est=4.946797048922797, details={'actual_k': 2, 'was_impossible': False}),\n",
       " Prediction(uid=1400271, iid=30, r_ui=4.0, est=3.6046285714285715, details={'was_impossible': True, 'reason': 'User and/or item is unknown.'}),\n",
       " Prediction(uid=2363401, iid=30, r_ui=3.0, est=3.6046285714285715, details={'was_impossible': True, 'reason': 'User and/or item is unknown.'}),\n",
       " Prediction(uid=1367443, iid=30, r_ui=4.0, est=3.6046285714285715, details={'was_impossible': True, 'reason': 'User and/or item is unknown.'}),\n",
       " Prediction(uid=635915, iid=28, r_ui=3.0, est=3.6046285714285715, details={'was_impossible': True, 'reason': 'User and/or item is unknown.'}),\n",
       " Prediction(uid=329651, iid=30, r_ui=5.0, est=3.6046285714285715, details={'was_impossible': True, 'reason': 'User and/or item is unknown.'}),\n",
       " Prediction(uid=473758, iid=18, r_ui=2.0, est=3.6046285714285715, details={'was_impossible': True, 'reason': 'User and/or item is unknown.'}),\n",
       " Prediction(uid=467885, iid=26, r_ui=1.0, est=3.954063529304634, details={'actual_k': 1, 'was_impossible': False}),\n",
       " Prediction(uid=363401, iid=18, r_ui=4.0, est=3.6046285714285715, details={'was_impossible': True, 'reason': 'User and/or item is unknown.'}),\n",
       " Prediction(uid=1211551, iid=30, r_ui=3.0, est=3.6046285714285715, details={'was_impossible': True, 'reason': 'User and/or item is unknown.'}),\n",
       " Prediction(uid=24614, iid=28, r_ui=5.0, est=3.6046285714285715, details={'was_impossible': True, 'reason': 'User and/or item is unknown.'}),\n",
       " Prediction(uid=227461, iid=28, r_ui=3.0, est=3.6046285714285715, details={'was_impossible': True, 'reason': 'User and/or item is unknown.'}),\n",
       " Prediction(uid=2275537, iid=18, r_ui=4.0, est=3.0465002613707184, details={'actual_k': 1, 'was_impossible': False}),\n",
       " Prediction(uid=310204, iid=18, r_ui=4.0, est=3.6046285714285715, details={'was_impossible': True, 'reason': 'User and/or item is unknown.'}),\n",
       " Prediction(uid=553632, iid=3, r_ui=2.0, est=3.6046285714285715, details={'was_impossible': True, 'reason': 'User and/or item is unknown.'}),\n",
       " Prediction(uid=1325452, iid=30, r_ui=4.0, est=3.6046285714285715, details={'was_impossible': True, 'reason': 'User and/or item is unknown.'}),\n",
       " Prediction(uid=2497321, iid=28, r_ui=3.0, est=3.6046285714285715, details={'was_impossible': True, 'reason': 'User and/or item is unknown.'}),\n",
       " Prediction(uid=2463555, iid=28, r_ui=3.0, est=3.6046285714285715, details={'was_impossible': True, 'reason': 'User and/or item is unknown.'}),\n",
       " Prediction(uid=581199, iid=3, r_ui=4.0, est=3.9223578575964937, details={'actual_k': 1, 'was_impossible': False}),\n",
       " Prediction(uid=1941862, iid=28, r_ui=3.0, est=3.6046285714285715, details={'was_impossible': True, 'reason': 'User and/or item is unknown.'}),\n",
       " Prediction(uid=2092448, iid=16, r_ui=3.0, est=3.6046285714285715, details={'was_impossible': True, 'reason': 'User and/or item is unknown.'}),\n",
       " Prediction(uid=1382339, iid=18, r_ui=5.0, est=3.6046285714285715, details={'was_impossible': True, 'reason': 'User and/or item is unknown.'}),\n",
       " Prediction(uid=1783806, iid=18, r_ui=4.0, est=3.6046285714285715, details={'was_impossible': True, 'reason': 'User and/or item is unknown.'}),\n",
       " Prediction(uid=915726, iid=8, r_ui=5.0, est=2.377818266757513, details={'actual_k': 1, 'was_impossible': False}),\n",
       " Prediction(uid=219755, iid=26, r_ui=4.0, est=3.6046285714285715, details={'was_impossible': True, 'reason': 'User and/or item is unknown.'}),\n",
       " Prediction(uid=2421030, iid=28, r_ui=5.0, est=3.6046285714285715, details={'was_impossible': True, 'reason': 'User and/or item is unknown.'}),\n",
       " Prediction(uid=268186, iid=30, r_ui=5.0, est=3.6046285714285715, details={'was_impossible': True, 'reason': 'User and/or item is unknown.'}),\n",
       " Prediction(uid=134703, iid=18, r_ui=3.0, est=3.6046285714285715, details={'was_impossible': True, 'reason': 'User and/or item is unknown.'}),\n",
       " Prediction(uid=825100, iid=30, r_ui=4.0, est=3.6046285714285715, details={'was_impossible': True, 'reason': 'User and/or item is unknown.'}),\n",
       " Prediction(uid=1594342, iid=30, r_ui=3.0, est=4.913787581976923, details={'actual_k': 1, 'was_impossible': False}),\n",
       " Prediction(uid=2076148, iid=28, r_ui=4.0, est=3.6046285714285715, details={'was_impossible': True, 'reason': 'User and/or item is unknown.'}),\n",
       " Prediction(uid=1535269, iid=28, r_ui=3.0, est=4.0674987692489655, details={'actual_k': 2, 'was_impossible': False}),\n",
       " Prediction(uid=304887, iid=8, r_ui=1.0, est=3.13935443823712, details={'actual_k': 0, 'was_impossible': False}),\n",
       " Prediction(uid=1247208, iid=28, r_ui=4.0, est=5, details={'actual_k': 1, 'was_impossible': False}),\n",
       " Prediction(uid=2478643, iid=8, r_ui=4.0, est=4.377818266757513, details={'actual_k': 1, 'was_impossible': False}),\n",
       " Prediction(uid=86879, iid=30, r_ui=4.0, est=3.9242017336137933, details={'actual_k': 2, 'was_impossible': False}),\n",
       " Prediction(uid=2008767, iid=28, r_ui=5.0, est=3.6046285714285715, details={'was_impossible': True, 'reason': 'User and/or item is unknown.'}),\n",
       " Prediction(uid=1599017, iid=30, r_ui=3.0, est=3.6046285714285715, details={'was_impossible': True, 'reason': 'User and/or item is unknown.'}),\n",
       " Prediction(uid=2158782, iid=28, r_ui=3.0, est=3.0862124180230777, details={'actual_k': 1, 'was_impossible': False}),\n",
       " Prediction(uid=15402, iid=28, r_ui=3.0, est=2.0397121566523593, details={'actual_k': 1, 'was_impossible': False}),\n",
       " Prediction(uid=1505434, iid=28, r_ui=4.0, est=4.445123884098188, details={'actual_k': 2, 'was_impossible': False}),\n",
       " Prediction(uid=1642347, iid=30, r_ui=4.0, est=3.6046285714285715, details={'was_impossible': True, 'reason': 'User and/or item is unknown.'}),\n",
       " Prediction(uid=315541, iid=18, r_ui=4.0, est=3.6046285714285715, details={'was_impossible': True, 'reason': 'User and/or item is unknown.'}),\n",
       " Prediction(uid=508640, iid=30, r_ui=4.0, est=3.6046285714285715, details={'was_impossible': True, 'reason': 'User and/or item is unknown.'}),\n",
       " Prediction(uid=1997020, iid=26, r_ui=3.0, est=3.6046285714285715, details={'was_impossible': True, 'reason': 'User and/or item is unknown.'}),\n",
       " Prediction(uid=50845, iid=30, r_ui=3.0, est=3.6046285714285715, details={'was_impossible': True, 'reason': 'User and/or item is unknown.'}),\n",
       " Prediction(uid=2367426, iid=30, r_ui=4.0, est=3.6046285714285715, details={'was_impossible': True, 'reason': 'User and/or item is unknown.'}),\n",
       " Prediction(uid=630008, iid=30, r_ui=5.0, est=3.9137875819769223, details={'actual_k': 1, 'was_impossible': False}),\n",
       " Prediction(uid=2412878, iid=18, r_ui=3.0, est=3.6046285714285715, details={'was_impossible': True, 'reason': 'User and/or item is unknown.'}),\n",
       " Prediction(uid=999456, iid=30, r_ui=2.0, est=3.6046285714285715, details={'was_impossible': True, 'reason': 'User and/or item is unknown.'}),\n",
       " Prediction(uid=1014001, iid=30, r_ui=4.0, est=3.6046285714285715, details={'was_impossible': True, 'reason': 'User and/or item is unknown.'}),\n",
       " Prediction(uid=1798581, iid=30, r_ui=4.0, est=3.6046285714285715, details={'was_impossible': True, 'reason': 'User and/or item is unknown.'}),\n",
       " Prediction(uid=2212095, iid=30, r_ui=4.0, est=3.6046285714285715, details={'was_impossible': True, 'reason': 'User and/or item is unknown.'}),\n",
       " Prediction(uid=1922286, iid=30, r_ui=3.0, est=3.9137875819769223, details={'actual_k': 1, 'was_impossible': False}),\n",
       " Prediction(uid=1765967, iid=28, r_ui=4.0, est=3.6046285714285715, details={'was_impossible': True, 'reason': 'User and/or item is unknown.'}),\n",
       " Prediction(uid=2064796, iid=8, r_ui=4.0, est=3.13935443823712, details={'actual_k': 0, 'was_impossible': False}),\n",
       " Prediction(uid=1186210, iid=28, r_ui=2.0, est=3.6046285714285715, details={'was_impossible': True, 'reason': 'User and/or item is unknown.'}),\n",
       " Prediction(uid=1192953, iid=30, r_ui=3.0, est=3.6046285714285715, details={'was_impossible': True, 'reason': 'User and/or item is unknown.'}),\n",
       " Prediction(uid=853256, iid=28, r_ui=5.0, est=3.6046285714285715, details={'was_impossible': True, 'reason': 'User and/or item is unknown.'}),\n",
       " Prediction(uid=1940143, iid=18, r_ui=4.0, est=3.6046285714285715, details={'was_impossible': True, 'reason': 'User and/or item is unknown.'}),\n",
       " Prediction(uid=899054, iid=28, r_ui=3.0, est=3.6046285714285715, details={'was_impossible': True, 'reason': 'User and/or item is unknown.'}),\n",
       " Prediction(uid=545670, iid=30, r_ui=4.0, est=3.9534997386292816, details={'actual_k': 1, 'was_impossible': False}),\n",
       " Prediction(uid=2301856, iid=28, r_ui=4.0, est=2.728175831008836, details={'actual_k': 1, 'was_impossible': False}),\n",
       " Prediction(uid=27061, iid=18, r_ui=5.0, est=3.6046285714285715, details={'was_impossible': True, 'reason': 'User and/or item is unknown.'}),\n",
       " Prediction(uid=157805, iid=28, r_ui=2.0, est=3.6046285714285715, details={'was_impossible': True, 'reason': 'User and/or item is unknown.'}),\n",
       " Prediction(uid=1323848, iid=30, r_ui=3.0, est=3.6046285714285715, details={'was_impossible': True, 'reason': 'User and/or item is unknown.'}),\n",
       " Prediction(uid=2062055, iid=28, r_ui=3.0, est=3.6046285714285715, details={'was_impossible': True, 'reason': 'User and/or item is unknown.'}),\n",
       " Prediction(uid=2331728, iid=3, r_ui=3.0, est=4.576305339619838, details={'actual_k': 2, 'was_impossible': False}),\n",
       " Prediction(uid=441200, iid=28, r_ui=4.0, est=4.086212418023077, details={'actual_k': 1, 'was_impossible': False}),\n",
       " Prediction(uid=2223717, iid=26, r_ui=3.0, est=3.6046285714285715, details={'was_impossible': True, 'reason': 'User and/or item is unknown.'}),\n",
       " Prediction(uid=907097, iid=28, r_ui=3.0, est=3.0862124180230777, details={'actual_k': 1, 'was_impossible': False}),\n",
       " Prediction(uid=983980, iid=28, r_ui=3.0, est=3.6046285714285715, details={'was_impossible': True, 'reason': 'User and/or item is unknown.'}),\n",
       " Prediction(uid=1232914, iid=28, r_ui=4.0, est=3.6046285714285715, details={'was_impossible': True, 'reason': 'User and/or item is unknown.'}),\n",
       " Prediction(uid=1790280, iid=30, r_ui=4.0, est=3.6046285714285715, details={'was_impossible': True, 'reason': 'User and/or item is unknown.'}),\n",
       " Prediction(uid=402437, iid=18, r_ui=5.0, est=3.6046285714285715, details={'was_impossible': True, 'reason': 'User and/or item is unknown.'}),\n",
       " Prediction(uid=1723455, iid=28, r_ui=3.0, est=3.6046285714285715, details={'was_impossible': True, 'reason': 'User and/or item is unknown.'}),\n",
       " Prediction(uid=2555117, iid=28, r_ui=3.0, est=3.6046285714285715, details={'was_impossible': True, 'reason': 'User and/or item is unknown.'}),\n",
       " Prediction(uid=606249, iid=30, r_ui=3.0, est=3.6046285714285715, details={'was_impossible': True, 'reason': 'User and/or item is unknown.'}),\n",
       " Prediction(uid=1004550, iid=30, r_ui=2.0, est=3.6046285714285715, details={'was_impossible': True, 'reason': 'User and/or item is unknown.'}),\n",
       " Prediction(uid=495542, iid=30, r_ui=1.0, est=2.9137875819769223, details={'actual_k': 1, 'was_impossible': False}),\n",
       " Prediction(uid=123750, iid=30, r_ui=5.0, est=3.6046285714285715, details={'was_impossible': True, 'reason': 'User and/or item is unknown.'}),\n",
       " Prediction(uid=620557, iid=28, r_ui=4.0, est=4.086212418023077, details={'actual_k': 1, 'was_impossible': False}),\n",
       " Prediction(uid=1261541, iid=30, r_ui=3.0, est=3.6046285714285715, details={'was_impossible': True, 'reason': 'User and/or item is unknown.'}),\n",
       " Prediction(uid=2138757, iid=30, r_ui=4.0, est=3.9137875819769223, details={'actual_k': 1, 'was_impossible': False}),\n",
       " Prediction(uid=2480306, iid=30, r_ui=5.0, est=3.6046285714285715, details={'was_impossible': True, 'reason': 'User and/or item is unknown.'}),\n",
       " Prediction(uid=1789990, iid=30, r_ui=5.0, est=3.6046285714285715, details={'was_impossible': True, 'reason': 'User and/or item is unknown.'}),\n",
       " Prediction(uid=2557710, iid=30, r_ui=4.0, est=2.9597240526722883, details={'actual_k': 1, 'was_impossible': False}),\n",
       " Prediction(uid=125868, iid=30, r_ui=3.0, est=3.6046285714285715, details={'was_impossible': True, 'reason': 'User and/or item is unknown.'}),\n",
       " Prediction(uid=781370, iid=28, r_ui=5.0, est=3.6046285714285715, details={'was_impossible': True, 'reason': 'User and/or item is unknown.'}),\n",
       " Prediction(uid=1460653, iid=30, r_ui=3.0, est=3.6046285714285715, details={'was_impossible': True, 'reason': 'User and/or item is unknown.'}),\n",
       " Prediction(uid=1545733, iid=8, r_ui=3.0, est=3.6046285714285715, details={'was_impossible': True, 'reason': 'User and/or item is unknown.'}),\n",
       " Prediction(uid=858362, iid=26, r_ui=3.0, est=3.6575985333621768, details={'actual_k': 3, 'was_impossible': False}),\n",
       " Prediction(uid=230112, iid=28, r_ui=1.0, est=3.6046285714285715, details={'was_impossible': True, 'reason': 'User and/or item is unknown.'}),\n",
       " Prediction(uid=1218011, iid=16, r_ui=3.0, est=3.6046285714285715, details={'was_impossible': True, 'reason': 'User and/or item is unknown.'}),\n",
       " Prediction(uid=1242406, iid=18, r_ui=4.0, est=3.6046285714285715, details={'was_impossible': True, 'reason': 'User and/or item is unknown.'}),\n",
       " Prediction(uid=2455173, iid=30, r_ui=3.0, est=3.6046285714285715, details={'was_impossible': True, 'reason': 'User and/or item is unknown.'}),\n",
       " Prediction(uid=706638, iid=28, r_ui=5.0, est=3.6046285714285715, details={'was_impossible': True, 'reason': 'User and/or item is unknown.'}),\n",
       " Prediction(uid=827257, iid=30, r_ui=4.0, est=3.9137875819769223, details={'actual_k': 1, 'was_impossible': False}),\n",
       " Prediction(uid=2411401, iid=28, r_ui=4.0, est=3.6046285714285715, details={'was_impossible': True, 'reason': 'User and/or item is unknown.'}),\n",
       " Prediction(uid=2586648, iid=30, r_ui=3.0, est=3.6046285714285715, details={'was_impossible': True, 'reason': 'User and/or item is unknown.'}),\n",
       " Prediction(uid=2060998, iid=16, r_ui=3.0, est=3.6046285714285715, details={'was_impossible': True, 'reason': 'User and/or item is unknown.'}),\n",
       " Prediction(uid=403918, iid=17, r_ui=4.0, est=4.102866162029036, details={'actual_k': 1, 'was_impossible': False}),\n",
       " Prediction(uid=632842, iid=17, r_ui=3.0, est=3.6046285714285715, details={'was_impossible': True, 'reason': 'User and/or item is unknown.'}),\n",
       " Prediction(uid=348585, iid=28, r_ui=5.0, est=5, details={'actual_k': 1, 'was_impossible': False}),\n",
       " Prediction(uid=1846583, iid=28, r_ui=1.0, est=3.6046285714285715, details={'was_impossible': True, 'reason': 'User and/or item is unknown.'}),\n",
       " Prediction(uid=749593, iid=28, r_ui=5.0, est=3.6046285714285715, details={'was_impossible': True, 'reason': 'User and/or item is unknown.'}),\n",
       " Prediction(uid=606271, iid=30, r_ui=3.0, est=3.9534997386292816, details={'actual_k': 1, 'was_impossible': False}),\n",
       " Prediction(uid=2588888, iid=30, r_ui=3.0, est=3.6046285714285715, details={'was_impossible': True, 'reason': 'User and/or item is unknown.'}),\n",
       " Prediction(uid=1791334, iid=17, r_ui=3.0, est=3.6046285714285715, details={'was_impossible': True, 'reason': 'User and/or item is unknown.'}),\n",
       " Prediction(uid=2256674, iid=30, r_ui=4.0, est=3.6046285714285715, details={'was_impossible': True, 'reason': 'User and/or item is unknown.'}),\n",
       " Prediction(uid=344171, iid=8, r_ui=1.0, est=3.6046285714285715, details={'was_impossible': True, 'reason': 'User and/or item is unknown.'}),\n",
       " Prediction(uid=2284803, iid=30, r_ui=3.0, est=3.6046285714285715, details={'was_impossible': True, 'reason': 'User and/or item is unknown.'}),\n",
       " Prediction(uid=2001447, iid=28, r_ui=5.0, est=3.6046285714285715, details={'was_impossible': True, 'reason': 'User and/or item is unknown.'}),\n",
       " Prediction(uid=531782, iid=18, r_ui=5.0, est=3.6046285714285715, details={'was_impossible': True, 'reason': 'User and/or item is unknown.'}),\n",
       " Prediction(uid=1943174, iid=16, r_ui=2.0, est=3.6046285714285715, details={'was_impossible': True, 'reason': 'User and/or item is unknown.'}),\n",
       " Prediction(uid=957303, iid=8, r_ui=5.0, est=3.6046285714285715, details={'was_impossible': True, 'reason': 'User and/or item is unknown.'}),\n",
       " Prediction(uid=12876, iid=30, r_ui=5.0, est=3.6046285714285715, details={'was_impossible': True, 'reason': 'User and/or item is unknown.'}),\n",
       " Prediction(uid=2372021, iid=30, r_ui=4.0, est=3.9534997386292816, details={'actual_k': 1, 'was_impossible': False}),\n",
       " Prediction(uid=754814, iid=30, r_ui=4.0, est=3.6046285714285715, details={'was_impossible': True, 'reason': 'User and/or item is unknown.'}),\n",
       " Prediction(uid=2027713, iid=16, r_ui=5.0, est=1.9337180588860101, details={'actual_k': 1, 'was_impossible': False}),\n",
       " Prediction(uid=1474733, iid=28, r_ui=5.0, est=3.6046285714285715, details={'was_impossible': True, 'reason': 'User and/or item is unknown.'}),\n",
       " Prediction(uid=327438, iid=28, r_ui=4.0, est=3.6046285714285715, details={'was_impossible': True, 'reason': 'User and/or item is unknown.'}),\n",
       " Prediction(uid=1415233, iid=30, r_ui=3.0, est=3.6046285714285715, details={'was_impossible': True, 'reason': 'User and/or item is unknown.'}),\n",
       " Prediction(uid=1689922, iid=18, r_ui=3.0, est=4.622181733242487, details={'actual_k': 1, 'was_impossible': False}),\n",
       " Prediction(uid=1320413, iid=17, r_ui=2.0, est=2.1890785800521133, details={'actual_k': 1, 'was_impossible': False}),\n",
       " Prediction(uid=821329, iid=30, r_ui=3.0, est=3.6046285714285715, details={'was_impossible': True, 'reason': 'User and/or item is unknown.'}),\n",
       " Prediction(uid=285031, iid=30, r_ui=4.0, est=4.913787581976923, details={'actual_k': 1, 'was_impossible': False}),\n",
       " Prediction(uid=570159, iid=8, r_ui=5.0, est=3.13935443823712, details={'actual_k': 0, 'was_impossible': False}),\n",
       " Prediction(uid=271465, iid=18, r_ui=5.0, est=4.960287843347641, details={'actual_k': 1, 'was_impossible': False}),\n",
       " Prediction(uid=1878483, iid=30, r_ui=5.0, est=3.6046285714285715, details={'was_impossible': True, 'reason': 'User and/or item is unknown.'}),\n",
       " Prediction(uid=1345597, iid=16, r_ui=3.0, est=3.6046285714285715, details={'was_impossible': True, 'reason': 'User and/or item is unknown.'}),\n",
       " Prediction(uid=198936, iid=30, r_ui=4.0, est=4.913787581976923, details={'actual_k': 1, 'was_impossible': False}),\n",
       " Prediction(uid=1396516, iid=17, r_ui=2.0, est=2.1890785800521133, details={'actual_k': 1, 'was_impossible': False}),\n",
       " Prediction(uid=537788, iid=18, r_ui=4.0, est=3.6046285714285715, details={'was_impossible': True, 'reason': 'User and/or item is unknown.'}),\n",
       " Prediction(uid=1866583, iid=30, r_ui=3.0, est=3.6046285714285715, details={'was_impossible': True, 'reason': 'User and/or item is unknown.'}),\n",
       " Prediction(uid=279687, iid=28, r_ui=3.0, est=4.086212418023077, details={'actual_k': 1, 'was_impossible': False}),\n",
       " Prediction(uid=1640400, iid=17, r_ui=3.0, est=2.1890785800521133, details={'actual_k': 1, 'was_impossible': False}),\n",
       " Prediction(uid=196173, iid=30, r_ui=4.0, est=3.6046285714285715, details={'was_impossible': True, 'reason': 'User and/or item is unknown.'}),\n",
       " Prediction(uid=2510739, iid=28, r_ui=4.0, est=3.6046285714285715, details={'was_impossible': True, 'reason': 'User and/or item is unknown.'}),\n",
       " Prediction(uid=1400154, iid=8, r_ui=4.0, est=3.13935443823712, details={'actual_k': 0, 'was_impossible': False}),\n",
       " Prediction(uid=1403909, iid=30, r_ui=4.0, est=3.6046285714285715, details={'was_impossible': True, 'reason': 'User and/or item is unknown.'}),\n",
       " Prediction(uid=2500255, iid=30, r_ui=5.0, est=4.913787581976923, details={'actual_k': 1, 'was_impossible': False}),\n",
       " Prediction(uid=1843135, iid=28, r_ui=3.0, est=3.0862124180230777, details={'actual_k': 1, 'was_impossible': False}),\n",
       " Prediction(uid=788852, iid=18, r_ui=5.0, est=3.6046285714285715, details={'was_impossible': True, 'reason': 'User and/or item is unknown.'}),\n",
       " Prediction(uid=1028857, iid=8, r_ui=1.0, est=3.13935443823712, details={'actual_k': 0, 'was_impossible': False}),\n",
       " Prediction(uid=930384, iid=30, r_ui=3.0, est=3.6046285714285715, details={'was_impossible': True, 'reason': 'User and/or item is unknown.'}),\n",
       " Prediction(uid=1401549, iid=30, r_ui=4.0, est=1.9137875819769226, details={'actual_k': 1, 'was_impossible': False}),\n",
       " Prediction(uid=2595084, iid=18, r_ui=4.0, est=3.6046285714285715, details={'was_impossible': True, 'reason': 'User and/or item is unknown.'}),\n",
       " Prediction(uid=385049, iid=30, r_ui=3.0, est=3.6046285714285715, details={'was_impossible': True, 'reason': 'User and/or item is unknown.'}),\n",
       " Prediction(uid=1025764, iid=18, r_ui=3.0, est=2.9661628361965997, details={'actual_k': 2, 'was_impossible': False}),\n",
       " Prediction(uid=2035541, iid=26, r_ui=3.0, est=3.6046285714285715, details={'was_impossible': True, 'reason': 'User and/or item is unknown.'}),\n",
       " Prediction(uid=1705164, iid=18, r_ui=2.0, est=1.9602878433476407, details={'actual_k': 1, 'was_impossible': False}),\n",
       " Prediction(uid=1195757, iid=28, r_ui=4.0, est=3.0862124180230777, details={'actual_k': 1, 'was_impossible': False}),\n",
       " Prediction(uid=527924, iid=28, r_ui=4.0, est=3.6046285714285715, details={'was_impossible': True, 'reason': 'User and/or item is unknown.'}),\n",
       " Prediction(uid=639477, iid=28, r_ui=4.0, est=3.6046285714285715, details={'was_impossible': True, 'reason': 'User and/or item is unknown.'}),\n",
       " Prediction(uid=2614232, iid=18, r_ui=5.0, est=3.6046285714285715, details={'was_impossible': True, 'reason': 'User and/or item is unknown.'}),\n",
       " Prediction(uid=701864, iid=28, r_ui=4.0, est=3.6046285714285715, details={'was_impossible': True, 'reason': 'User and/or item is unknown.'}),\n",
       " Prediction(uid=18309, iid=28, r_ui=3.0, est=3.6046285714285715, details={'was_impossible': True, 'reason': 'User and/or item is unknown.'}),\n",
       " Prediction(uid=840276, iid=8, r_ui=3.0, est=3.6046285714285715, details={'was_impossible': True, 'reason': 'User and/or item is unknown.'}),\n",
       " Prediction(uid=225525, iid=30, r_ui=5.0, est=3.6046285714285715, details={'was_impossible': True, 'reason': 'User and/or item is unknown.'}),\n",
       " Prediction(uid=2237922, iid=26, r_ui=3.0, est=1.8511973672755984, details={'actual_k': 1, 'was_impossible': False}),\n",
       " Prediction(uid=831494, iid=8, r_ui=2.0, est=3.13935443823712, details={'actual_k': 0, 'was_impossible': False}),\n",
       " Prediction(uid=153541, iid=18, r_ui=4.0, est=2.9602878433476407, details={'actual_k': 1, 'was_impossible': False}),\n",
       " Prediction(uid=147778, iid=28, r_ui=4.0, est=3.8971338379709644, details={'actual_k': 1, 'was_impossible': False}),\n",
       " Prediction(uid=270861, iid=28, r_ui=3.0, est=3.6046285714285715, details={'was_impossible': True, 'reason': 'User and/or item is unknown.'}),\n",
       " Prediction(uid=372815, iid=28, r_ui=4.0, est=3.6046285714285715, details={'was_impossible': True, 'reason': 'User and/or item is unknown.'}),\n",
       " Prediction(uid=1566773, iid=28, r_ui=4.0, est=3.8012483281319662, details={'actual_k': 0, 'was_impossible': False}),\n",
       " Prediction(uid=2128766, iid=8, r_ui=3.0, est=3.6046285714285715, details={'was_impossible': True, 'reason': 'User and/or item is unknown.'}),\n",
       " Prediction(uid=330866, iid=30, r_ui=4.0, est=4.913787581976923, details={'actual_k': 1, 'was_impossible': False}),\n",
       " Prediction(uid=2192809, iid=30, r_ui=4.0, est=3.6046285714285715, details={'was_impossible': True, 'reason': 'User and/or item is unknown.'}),\n",
       " Prediction(uid=1743025, iid=30, r_ui=4.0, est=3.6046285714285715, details={'was_impossible': True, 'reason': 'User and/or item is unknown.'}),\n",
       " Prediction(uid=1146000, iid=18, r_ui=3.0, est=1.688463674356477, details={'actual_k': 1, 'was_impossible': False}),\n",
       " Prediction(uid=423000, iid=30, r_ui=5.0, est=3.6046285714285715, details={'was_impossible': True, 'reason': 'User and/or item is unknown.'}),\n",
       " Prediction(uid=2098406, iid=28, r_ui=4.0, est=3.6046285714285715, details={'was_impossible': True, 'reason': 'User and/or item is unknown.'}),\n",
       " Prediction(uid=2246146, iid=8, r_ui=3.0, est=3.6046285714285715, details={'was_impossible': True, 'reason': 'User and/or item is unknown.'}),\n",
       " Prediction(uid=633010, iid=28, r_ui=3.0, est=5, details={'actual_k': 1, 'was_impossible': False}),\n",
       " Prediction(uid=2469808, iid=30, r_ui=3.0, est=3.6046285714285715, details={'was_impossible': True, 'reason': 'User and/or item is unknown.'}),\n",
       " Prediction(uid=391398, iid=28, r_ui=4.0, est=3.0862124180230777, details={'actual_k': 1, 'was_impossible': False}),\n",
       " Prediction(uid=1814739, iid=28, r_ui=4.0, est=3.6046285714285715, details={'was_impossible': True, 'reason': 'User and/or item is unknown.'}),\n",
       " Prediction(uid=1273501, iid=17, r_ui=3.0, est=3.6046285714285715, details={'was_impossible': True, 'reason': 'User and/or item is unknown.'}),\n",
       " Prediction(uid=2573212, iid=18, r_ui=4.0, est=3.3983661559474294, details={'actual_k': 2, 'was_impossible': False}),\n",
       " Prediction(uid=1351377, iid=17, r_ui=3.0, est=3.6046285714285715, details={'was_impossible': True, 'reason': 'User and/or item is unknown.'}),\n",
       " Prediction(uid=1752270, iid=16, r_ui=3.0, est=3.6046285714285715, details={'was_impossible': True, 'reason': 'User and/or item is unknown.'}),\n",
       " Prediction(uid=700301, iid=30, r_ui=4.0, est=3.6046285714285715, details={'was_impossible': True, 'reason': 'User and/or item is unknown.'}),\n",
       " Prediction(uid=1817216, iid=30, r_ui=4.0, est=2.749629926501543, details={'actual_k': 2, 'was_impossible': False}),\n",
       " Prediction(uid=2566956, iid=30, r_ui=5.0, est=3.6046285714285715, details={'was_impossible': True, 'reason': 'User and/or item is unknown.'}),\n",
       " Prediction(uid=214699, iid=8, r_ui=1.0, est=3.13935443823712, details={'actual_k': 0, 'was_impossible': False}),\n",
       " Prediction(uid=643182, iid=30, r_ui=5.0, est=4.959724052672288, details={'actual_k': 1, 'was_impossible': False}),\n",
       " Prediction(uid=238914, iid=28, r_ui=2.0, est=3.6046285714285715, details={'was_impossible': True, 'reason': 'User and/or item is unknown.'}),\n",
       " Prediction(uid=1256349, iid=8, r_ui=4.0, est=3.6046285714285715, details={'was_impossible': True, 'reason': 'User and/or item is unknown.'}),\n",
       " Prediction(uid=2187301, iid=30, r_ui=5.0, est=3.6046285714285715, details={'was_impossible': True, 'reason': 'User and/or item is unknown.'}),\n",
       " Prediction(uid=557562, iid=8, r_ui=1.0, est=3.6046285714285715, details={'was_impossible': True, 'reason': 'User and/or item is unknown.'}),\n",
       " Prediction(uid=759761, iid=28, r_ui=4.0, est=3.0862124180230777, details={'actual_k': 1, 'was_impossible': False}),\n",
       " Prediction(uid=2524045, iid=26, r_ui=3.0, est=3.6046285714285715, details={'was_impossible': True, 'reason': 'User and/or item is unknown.'}),\n",
       " Prediction(uid=1932976, iid=28, r_ui=5.0, est=3.0862124180230777, details={'actual_k': 1, 'was_impossible': False}),\n",
       " Prediction(uid=1981790, iid=30, r_ui=4.0, est=3.6046285714285715, details={'was_impossible': True, 'reason': 'User and/or item is unknown.'}),\n",
       " Prediction(uid=1793431, iid=30, r_ui=4.0, est=3.6046285714285715, details={'was_impossible': True, 'reason': 'User and/or item is unknown.'}),\n",
       " Prediction(uid=1333, iid=8, r_ui=3.0, est=3.4450632514284303, details={'actual_k': 3, 'was_impossible': False}),\n",
       " Prediction(uid=1025483, iid=30, r_ui=3.0, est=3.9137875819769223, details={'actual_k': 1, 'was_impossible': False}),\n",
       " Prediction(uid=1002780, iid=18, r_ui=3.0, est=3.761536171479607, details={'actual_k': 0, 'was_impossible': False}),\n",
       " Prediction(uid=2644762, iid=28, r_ui=4.0, est=3.0862124180230777, details={'actual_k': 1, 'was_impossible': False}),\n",
       " Prediction(uid=511883, iid=16, r_ui=2.0, est=2.311536325643523, details={'actual_k': 1, 'was_impossible': False}),\n",
       " Prediction(uid=2432644, iid=17, r_ui=3.0, est=3.6046285714285715, details={'was_impossible': True, 'reason': 'User and/or item is unknown.'}),\n",
       " Prediction(uid=1000678, iid=30, r_ui=3.0, est=3.6046285714285715, details={'was_impossible': True, 'reason': 'User and/or item is unknown.'}),\n",
       " Prediction(uid=669101, iid=28, r_ui=3.0, est=3.6046285714285715, details={'was_impossible': True, 'reason': 'User and/or item is unknown.'}),\n",
       " Prediction(uid=1136945, iid=8, r_ui=4.0, est=3.377818266757513, details={'actual_k': 1, 'was_impossible': False}),\n",
       " Prediction(uid=593525, iid=28, r_ui=3.0, est=1.086212418023078, details={'actual_k': 1, 'was_impossible': False}),\n",
       " Prediction(uid=1642866, iid=30, r_ui=4.0, est=3.6046285714285715, details={'was_impossible': True, 'reason': 'User and/or item is unknown.'}),\n",
       " Prediction(uid=1997148, iid=8, r_ui=4.0, est=3.6046285714285715, details={'was_impossible': True, 'reason': 'User and/or item is unknown.'}),\n",
       " Prediction(uid=1234398, iid=28, r_ui=4.0, est=4.039712156652359, details={'actual_k': 1, 'was_impossible': False}),\n",
       " Prediction(uid=947779, iid=8, r_ui=1.0, est=3.6046285714285715, details={'was_impossible': True, 'reason': 'User and/or item is unknown.'}),\n",
       " Prediction(uid=2358526, iid=30, r_ui=3.0, est=3.6046285714285715, details={'was_impossible': True, 'reason': 'User and/or item is unknown.'}),\n",
       " Prediction(uid=1696371, iid=30, r_ui=3.0, est=3.6046285714285715, details={'was_impossible': True, 'reason': 'User and/or item is unknown.'}),\n",
       " Prediction(uid=1167841, iid=30, r_ui=4.0, est=3.6046285714285715, details={'was_impossible': True, 'reason': 'User and/or item is unknown.'}),\n",
       " Prediction(uid=439914, iid=28, r_ui=3.0, est=5, details={'actual_k': 1, 'was_impossible': False}),\n",
       " Prediction(uid=465640, iid=28, r_ui=4.0, est=3.6046285714285715, details={'was_impossible': True, 'reason': 'User and/or item is unknown.'}),\n",
       " Prediction(uid=2327743, iid=8, r_ui=2.0, est=3.13935443823712, details={'actual_k': 0, 'was_impossible': False}),\n",
       " Prediction(uid=1490148, iid=17, r_ui=4.0, est=4.189078580052113, details={'actual_k': 1, 'was_impossible': False}),\n",
       " Prediction(uid=2544973, iid=28, r_ui=3.0, est=3.6046285714285715, details={'was_impossible': True, 'reason': 'User and/or item is unknown.'}),\n",
       " Prediction(uid=1290993, iid=18, r_ui=4.0, est=2.9602878433476407, details={'actual_k': 1, 'was_impossible': False}),\n",
       " Prediction(uid=729912, iid=8, r_ui=4.0, est=3.6046285714285715, details={'was_impossible': True, 'reason': 'User and/or item is unknown.'}),\n",
       " Prediction(uid=827322, iid=8, r_ui=1.0, est=3.6046285714285715, details={'was_impossible': True, 'reason': 'User and/or item is unknown.'}),\n",
       " Prediction(uid=2641516, iid=28, r_ui=3.0, est=3.6046285714285715, details={'was_impossible': True, 'reason': 'User and/or item is unknown.'}),\n",
       " Prediction(uid=2345015, iid=28, r_ui=3.0, est=3.8012483281319662, details={'actual_k': 0, 'was_impossible': False}),\n",
       " Prediction(uid=2200054, iid=30, r_ui=4.0, est=3.6046285714285715, details={'was_impossible': True, 'reason': 'User and/or item is unknown.'}),\n",
       " Prediction(uid=2470709, iid=30, r_ui=3.0, est=3.6046285714285715, details={'was_impossible': True, 'reason': 'User and/or item is unknown.'}),\n",
       " Prediction(uid=2552319, iid=3, r_ui=3.0, est=3.9223578575964937, details={'actual_k': 1, 'was_impossible': False}),\n",
       " Prediction(uid=235185, iid=26, r_ui=3.0, est=3.250795665982367, details={'actual_k': 2, 'was_impossible': False}),\n",
       " Prediction(uid=2411840, iid=28, r_ui=2.0, est=4.086212418023077, details={'actual_k': 1, 'was_impossible': False}),\n",
       " Prediction(uid=474286, iid=18, r_ui=2.0, est=3.6046285714285715, details={'was_impossible': True, 'reason': 'User and/or item is unknown.'}),\n",
       " Prediction(uid=1404024, iid=30, r_ui=4.0, est=3.6046285714285715, details={'was_impossible': True, 'reason': 'User and/or item is unknown.'}),\n",
       " Prediction(uid=2637979, iid=8, r_ui=4.0, est=3.13935443823712, details={'actual_k': 0, 'was_impossible': False}),\n",
       " Prediction(uid=266850, iid=28, r_ui=5.0, est=3.6046285714285715, details={'was_impossible': True, 'reason': 'User and/or item is unknown.'}),\n",
       " Prediction(uid=1868691, iid=28, r_ui=5.0, est=3.6046285714285715, details={'was_impossible': True, 'reason': 'User and/or item is unknown.'}),\n",
       " Prediction(uid=614078, iid=30, r_ui=5.0, est=3.6046285714285715, details={'was_impossible': True, 'reason': 'User and/or item is unknown.'}),\n",
       " Prediction(uid=1079152, iid=28, r_ui=4.0, est=3.6046285714285715, details={'was_impossible': True, 'reason': 'User and/or item is unknown.'}),\n",
       " Prediction(uid=657641, iid=30, r_ui=4.0, est=2.9534997386292816, details={'actual_k': 1, 'was_impossible': False}),\n",
       " Prediction(uid=2549073, iid=28, r_ui=4.0, est=3.6046285714285715, details={'was_impossible': True, 'reason': 'User and/or item is unknown.'}),\n",
       " Prediction(uid=1656761, iid=17, r_ui=3.0, est=2.4749139287385367, details={'actual_k': 2, 'was_impossible': False}),\n",
       " Prediction(uid=1225246, iid=28, r_ui=5.0, est=3.6046285714285715, details={'was_impossible': True, 'reason': 'User and/or item is unknown.'}),\n",
       " Prediction(uid=805028, iid=28, r_ui=4.0, est=3.6046285714285715, details={'was_impossible': True, 'reason': 'User and/or item is unknown.'}),\n",
       " Prediction(uid=122946, iid=28, r_ui=4.0, est=3.6046285714285715, details={'was_impossible': True, 'reason': 'User and/or item is unknown.'}),\n",
       " Prediction(uid=2560735, iid=28, r_ui=4.0, est=4.086212418023077, details={'actual_k': 1, 'was_impossible': False}),\n",
       " Prediction(uid=2318767, iid=30, r_ui=1.0, est=3.6046285714285715, details={'was_impossible': True, 'reason': 'User and/or item is unknown.'}),\n",
       " Prediction(uid=2517621, iid=18, r_ui=5.0, est=2.0465002613707184, details={'actual_k': 1, 'was_impossible': False}),\n",
       " Prediction(uid=10251, iid=28, r_ui=4.0, est=3.8012483281319662, details={'actual_k': 0, 'was_impossible': False}),\n",
       " Prediction(uid=707854, iid=3, r_ui=5.0, est=3.6046285714285715, details={'was_impossible': True, 'reason': 'User and/or item is unknown.'}),\n",
       " Prediction(uid=1952860, iid=30, r_ui=5.0, est=4.913787581976923, details={'actual_k': 1, 'was_impossible': False}),\n",
       " Prediction(uid=667426, iid=30, r_ui=5.0, est=3.6046285714285715, details={'was_impossible': True, 'reason': 'User and/or item is unknown.'}),\n",
       " Prediction(uid=2462751, iid=28, r_ui=4.0, est=3.6046285714285715, details={'was_impossible': True, 'reason': 'User and/or item is unknown.'}),\n",
       " Prediction(uid=2396927, iid=30, r_ui=4.0, est=3.6046285714285715, details={'was_impossible': True, 'reason': 'User and/or item is unknown.'}),\n",
       " Prediction(uid=507635, iid=30, r_ui=4.0, est=3.6046285714285715, details={'was_impossible': True, 'reason': 'User and/or item is unknown.'}),\n",
       " Prediction(uid=363163, iid=8, r_ui=5.0, est=4.377818266757513, details={'actual_k': 1, 'was_impossible': False}),\n",
       " Prediction(uid=27585, iid=30, r_ui=3.0, est=3.6046285714285715, details={'was_impossible': True, 'reason': 'User and/or item is unknown.'}),\n",
       " Prediction(uid=1453384, iid=28, r_ui=4.0, est=3.0862124180230777, details={'actual_k': 1, 'was_impossible': False}),\n",
       " Prediction(uid=1087516, iid=30, r_ui=4.0, est=3.6046285714285715, details={'was_impossible': True, 'reason': 'User and/or item is unknown.'}),\n",
       " Prediction(uid=1301205, iid=30, r_ui=2.0, est=3.6046285714285715, details={'was_impossible': True, 'reason': 'User and/or item is unknown.'}),\n",
       " Prediction(uid=231009, iid=18, r_ui=3.0, est=3.6046285714285715, details={'was_impossible': True, 'reason': 'User and/or item is unknown.'}),\n",
       " Prediction(uid=842359, iid=26, r_ui=5.0, est=2.954063529304634, details={'actual_k': 1, 'was_impossible': False}),\n",
       " Prediction(uid=1329920, iid=28, r_ui=3.0, est=4.086212418023077, details={'actual_k': 1, 'was_impossible': False}),\n",
       " Prediction(uid=2206179, iid=28, r_ui=4.0, est=3.6046285714285715, details={'was_impossible': True, 'reason': 'User and/or item is unknown.'}),\n",
       " Prediction(uid=1017919, iid=30, r_ui=4.0, est=3.6046285714285715, details={'was_impossible': True, 'reason': 'User and/or item is unknown.'}),\n",
       " Prediction(uid=1598023, iid=17, r_ui=1.0, est=3.6046285714285715, details={'was_impossible': True, 'reason': 'User and/or item is unknown.'}),\n",
       " Prediction(uid=284367, iid=8, r_ui=3.0, est=3.6046285714285715, details={'was_impossible': True, 'reason': 'User and/or item is unknown.'}),\n",
       " Prediction(uid=2191129, iid=30, r_ui=4.0, est=3.6046285714285715, details={'was_impossible': True, 'reason': 'User and/or item is unknown.'}),\n",
       " Prediction(uid=11594, iid=28, r_ui=1.0, est=3.6046285714285715, details={'was_impossible': True, 'reason': 'User and/or item is unknown.'}),\n",
       " Prediction(uid=2356288, iid=30, r_ui=4.0, est=3.6046285714285715, details={'was_impossible': True, 'reason': 'User and/or item is unknown.'}),\n",
       " Prediction(uid=386474, iid=30, r_ui=3.0, est=3.6046285714285715, details={'was_impossible': True, 'reason': 'User and/or item is unknown.'}),\n",
       " Prediction(uid=1078397, iid=8, r_ui=4.0, est=3.13935443823712, details={'actual_k': 0, 'was_impossible': False}),\n",
       " Prediction(uid=1747954, iid=26, r_ui=2.0, est=3.6046285714285715, details={'was_impossible': True, 'reason': 'User and/or item is unknown.'}),\n",
       " Prediction(uid=519760, iid=30, r_ui=5.0, est=3.9137875819769223, details={'actual_k': 1, 'was_impossible': False}),\n",
       " Prediction(uid=134328, iid=30, r_ui=4.0, est=4.913787581976923, details={'actual_k': 1, 'was_impossible': False}),\n",
       " Prediction(uid=2305823, iid=28, r_ui=4.0, est=3.6046285714285715, details={'was_impossible': True, 'reason': 'User and/or item is unknown.'}),\n",
       " Prediction(uid=796136, iid=28, r_ui=5.0, est=3.6046285714285715, details={'was_impossible': True, 'reason': 'User and/or item is unknown.'}),\n",
       " Prediction(uid=1456547, iid=26, r_ui=3.0, est=3.6046285714285715, details={'was_impossible': True, 'reason': 'User and/or item is unknown.'}),\n",
       " Prediction(uid=2136521, iid=28, r_ui=4.0, est=3.6046285714285715, details={'was_impossible': True, 'reason': 'User and/or item is unknown.'}),\n",
       " Prediction(uid=1379487, iid=17, r_ui=3.0, est=3.6046285714285715, details={'was_impossible': True, 'reason': 'User and/or item is unknown.'}),\n",
       " Prediction(uid=1583838, iid=8, r_ui=3.0, est=3.13935443823712, details={'actual_k': 0, 'was_impossible': False}),\n",
       " Prediction(uid=1366573, iid=30, r_ui=3.0, est=3.7150359101088886, details={'actual_k': 0, 'was_impossible': False}),\n",
       " Prediction(uid=1135038, iid=18, r_ui=2.0, est=2.8371370320348475, details={'actual_k': 2, 'was_impossible': False}),\n",
       " Prediction(uid=2360874, iid=30, r_ui=5.0, est=3.6046285714285715, details={'was_impossible': True, 'reason': 'User and/or item is unknown.'}),\n",
       " Prediction(uid=2356260, iid=26, r_ui=4.0, est=3.6046285714285715, details={'was_impossible': True, 'reason': 'User and/or item is unknown.'}),\n",
       " Prediction(uid=1816495, iid=28, r_ui=1.0, est=3.6046285714285715, details={'was_impossible': True, 'reason': 'User and/or item is unknown.'}),\n",
       " Prediction(uid=2134784, iid=28, r_ui=3.0, est=3.6046285714285715, details={'was_impossible': True, 'reason': 'User and/or item is unknown.'}),\n",
       " Prediction(uid=264581, iid=30, r_ui=4.0, est=3.6046285714285715, details={'was_impossible': True, 'reason': 'User and/or item is unknown.'}),\n",
       " Prediction(uid=851339, iid=17, r_ui=3.0, est=3.1890785800521133, details={'actual_k': 1, 'was_impossible': False}),\n",
       " Prediction(uid=1334401, iid=28, r_ui=3.0, est=4.039712156652359, details={'actual_k': 1, 'was_impossible': False}),\n",
       " Prediction(uid=2035541, iid=16, r_ui=4.0, est=3.6046285714285715, details={'was_impossible': True, 'reason': 'User and/or item is unknown.'}),\n",
       " Prediction(uid=1570571, iid=28, r_ui=5.0, est=3.6046285714285715, details={'was_impossible': True, 'reason': 'User and/or item is unknown.'}),\n",
       " Prediction(uid=1087381, iid=28, r_ui=1.0, est=3.6046285714285715, details={'was_impossible': True, 'reason': 'User and/or item is unknown.'}),\n",
       " Prediction(uid=739759, iid=30, r_ui=5.0, est=3.6046285714285715, details={'was_impossible': True, 'reason': 'User and/or item is unknown.'}),\n",
       " Prediction(uid=1782168, iid=17, r_ui=4.0, est=3.6046285714285715, details={'was_impossible': True, 'reason': 'User and/or item is unknown.'}),\n",
       " Prediction(uid=78271, iid=28, r_ui=4.0, est=3.6046285714285715, details={'was_impossible': True, 'reason': 'User and/or item is unknown.'}),\n",
       " Prediction(uid=1630740, iid=28, r_ui=3.0, est=3.6046285714285715, details={'was_impossible': True, 'reason': 'User and/or item is unknown.'}),\n",
       " Prediction(uid=900816, iid=30, r_ui=3.0, est=3.6046285714285715, details={'was_impossible': True, 'reason': 'User and/or item is unknown.'}),\n",
       " Prediction(uid=2498201, iid=17, r_ui=4.0, est=3.6046285714285715, details={'was_impossible': True, 'reason': 'User and/or item is unknown.'}),\n",
       " Prediction(uid=69183, iid=28, r_ui=3.0, est=4.086212418023077, details={'actual_k': 1, 'was_impossible': False}),\n",
       " Prediction(uid=1726376, iid=28, r_ui=4.0, est=3.6046285714285715, details={'was_impossible': True, 'reason': 'User and/or item is unknown.'}),\n",
       " Prediction(uid=86022, iid=28, r_ui=5.0, est=3.6046285714285715, details={'was_impossible': True, 'reason': 'User and/or item is unknown.'}),\n",
       " Prediction(uid=1900484, iid=30, r_ui=5.0, est=3.9534997386292816, details={'actual_k': 1, 'was_impossible': False}),\n",
       " Prediction(uid=1939552, iid=8, r_ui=3.0, est=3.6046285714285715, details={'was_impossible': True, 'reason': 'User and/or item is unknown.'}),\n",
       " Prediction(uid=2213534, iid=26, r_ui=2.0, est=2.0402759473277117, details={'actual_k': 1, 'was_impossible': False}),\n",
       " Prediction(uid=2334416, iid=28, r_ui=4.0, est=3.6046285714285715, details={'was_impossible': True, 'reason': 'User and/or item is unknown.'}),\n",
       " Prediction(uid=2011697, iid=30, r_ui=5.0, est=3.6046285714285715, details={'was_impossible': True, 'reason': 'User and/or item is unknown.'}),\n",
       " Prediction(uid=274493, iid=28, r_ui=5.0, est=3.6046285714285715, details={'was_impossible': True, 'reason': 'User and/or item is unknown.'}),\n",
       " Prediction(uid=868109, iid=28, r_ui=5.0, est=3.6046285714285715, details={'was_impossible': True, 'reason': 'User and/or item is unknown.'}),\n",
       " Prediction(uid=851441, iid=8, r_ui=3.0, est=3.6046285714285715, details={'was_impossible': True, 'reason': 'User and/or item is unknown.'}),\n",
       " Prediction(uid=1143536, iid=30, r_ui=1.0, est=3.7150359101088886, details={'actual_k': 0, 'was_impossible': False}),\n",
       " Prediction(uid=401047, iid=8, r_ui=2.0, est=3.6046285714285715, details={'was_impossible': True, 'reason': 'User and/or item is unknown.'}),\n",
       " Prediction(uid=2033811, iid=16, r_ui=2.0, est=3.3097307432274254, details={'actual_k': 2, 'was_impossible': False}),\n",
       " Prediction(uid=960953, iid=30, r_ui=1.0, est=3.6046285714285715, details={'was_impossible': True, 'reason': 'User and/or item is unknown.'}),\n",
       " Prediction(uid=918708, iid=18, r_ui=5.0, est=3.472899866150764, details={'actual_k': 2, 'was_impossible': False}),\n",
       " Prediction(uid=2082270, iid=8, r_ui=1.0, est=3.6046285714285715, details={'was_impossible': True, 'reason': 'User and/or item is unknown.'}),\n",
       " Prediction(uid=1870025, iid=28, r_ui=4.0, est=3.6046285714285715, details={'was_impossible': True, 'reason': 'User and/or item is unknown.'}),\n",
       " Prediction(uid=177017, iid=28, r_ui=3.0, est=3.6046285714285715, details={'was_impossible': True, 'reason': 'User and/or item is unknown.'}),\n",
       " Prediction(uid=1877958, iid=8, r_ui=2.0, est=3.6046285714285715, details={'was_impossible': True, 'reason': 'User and/or item is unknown.'}),\n",
       " Prediction(uid=865622, iid=16, r_ui=2.0, est=2.3580365870142415, details={'actual_k': 1, 'was_impossible': False}),\n",
       " Prediction(uid=2550717, iid=28, r_ui=3.0, est=5, details={'actual_k': 1, 'was_impossible': False}),\n",
       " Prediction(uid=1730227, iid=28, r_ui=5.0, est=3.6046285714285715, details={'was_impossible': True, 'reason': 'User and/or item is unknown.'}),\n",
       " Prediction(uid=429061, iid=26, r_ui=3.0, est=3.6046285714285715, details={'was_impossible': True, 'reason': 'User and/or item is unknown.'}),\n",
       " Prediction(uid=2317420, iid=28, r_ui=2.0, est=4.086212418023077, details={'actual_k': 1, 'was_impossible': False}),\n",
       " Prediction(uid=2083744, iid=17, r_ui=5.0, est=3.6046285714285715, details={'was_impossible': True, 'reason': 'User and/or item is unknown.'}),\n",
       " Prediction(uid=54333, iid=17, r_ui=3.0, est=4.189078580052113, details={'actual_k': 1, 'was_impossible': False}),\n",
       " Prediction(uid=1492285, iid=30, r_ui=5.0, est=3.6046285714285715, details={'was_impossible': True, 'reason': 'User and/or item is unknown.'}),\n",
       " Prediction(uid=404156, iid=8, r_ui=3.0, est=3.6046285714285715, details={'was_impossible': True, 'reason': 'User and/or item is unknown.'}),\n",
       " Prediction(uid=629942, iid=28, r_ui=2.0, est=3.6046285714285715, details={'was_impossible': True, 'reason': 'User and/or item is unknown.'}),\n",
       " Prediction(uid=1802192, iid=30, r_ui=5.0, est=3.6046285714285715, details={'was_impossible': True, 'reason': 'User and/or item is unknown.'}),\n",
       " Prediction(uid=269482, iid=30, r_ui=2.0, est=3.6046285714285715, details={'was_impossible': True, 'reason': 'User and/or item is unknown.'}),\n",
       " Prediction(uid=1743642, iid=26, r_ui=3.0, est=3.6046285714285715, details={'was_impossible': True, 'reason': 'User and/or item is unknown.'}),\n",
       " Prediction(uid=1428178, iid=30, r_ui=4.0, est=3.6046285714285715, details={'was_impossible': True, 'reason': 'User and/or item is unknown.'}),\n",
       " Prediction(uid=895683, iid=30, r_ui=4.0, est=3.6046285714285715, details={'was_impossible': True, 'reason': 'User and/or item is unknown.'}),\n",
       " Prediction(uid=2537739, iid=30, r_ui=4.0, est=3.6046285714285715, details={'was_impossible': True, 'reason': 'User and/or item is unknown.'}),\n",
       " Prediction(uid=245953, iid=28, r_ui=2.0, est=3.6046285714285715, details={'was_impossible': True, 'reason': 'User and/or item is unknown.'}),\n",
       " Prediction(uid=1270101, iid=28, r_ui=4.0, est=3.6046285714285715, details={'was_impossible': True, 'reason': 'User and/or item is unknown.'}),\n",
       " Prediction(uid=1744860, iid=30, r_ui=3.0, est=3.6046285714285715, details={'was_impossible': True, 'reason': 'User and/or item is unknown.'}),\n",
       " Prediction(uid=945561, iid=30, r_ui=3.0, est=3.6046285714285715, details={'was_impossible': True, 'reason': 'User and/or item is unknown.'}),\n",
       " Prediction(uid=1001878, iid=30, r_ui=4.0, est=3.6046285714285715, details={'was_impossible': True, 'reason': 'User and/or item is unknown.'}),\n",
       " Prediction(uid=2539525, iid=17, r_ui=3.0, est=3.6046285714285715, details={'was_impossible': True, 'reason': 'User and/or item is unknown.'}),\n",
       " Prediction(uid=111615, iid=28, r_ui=3.0, est=2.0397121566523593, details={'actual_k': 1, 'was_impossible': False}),\n",
       " Prediction(uid=1641798, iid=18, r_ui=4.0, est=4.960287843347641, details={'actual_k': 1, 'was_impossible': False}),\n",
       " Prediction(uid=863900, iid=30, r_ui=4.0, est=3.6046285714285715, details={'was_impossible': True, 'reason': 'User and/or item is unknown.'}),\n",
       " Prediction(uid=1325888, iid=8, r_ui=4.0, est=3.6046285714285715, details={'was_impossible': True, 'reason': 'User and/or item is unknown.'}),\n",
       " Prediction(uid=1699969, iid=28, r_ui=3.0, est=3.6046285714285715, details={'was_impossible': True, 'reason': 'User and/or item is unknown.'}),\n",
       " Prediction(uid=1111662, iid=28, r_ui=4.0, est=3.6046285714285715, details={'was_impossible': True, 'reason': 'User and/or item is unknown.'}),\n",
       " Prediction(uid=364208, iid=26, r_ui=3.0, est=3.6046285714285715, details={'was_impossible': True, 'reason': 'User and/or item is unknown.'}),\n",
       " Prediction(uid=316050, iid=28, r_ui=3.0, est=3.0862124180230777, details={'actual_k': 1, 'was_impossible': False}),\n",
       " Prediction(uid=1657293, iid=28, r_ui=3.0, est=3.6046285714285715, details={'was_impossible': True, 'reason': 'User and/or item is unknown.'}),\n",
       " Prediction(uid=2224884, iid=8, r_ui=4.0, est=3.6046285714285715, details={'was_impossible': True, 'reason': 'User and/or item is unknown.'}),\n",
       " Prediction(uid=1346977, iid=30, r_ui=5.0, est=3.6046285714285715, details={'was_impossible': True, 'reason': 'User and/or item is unknown.'}),\n",
       " Prediction(uid=1865573, iid=18, r_ui=4.0, est=3.6046285714285715, details={'was_impossible': True, 'reason': 'User and/or item is unknown.'}),\n",
       " Prediction(uid=2230259, iid=30, r_ui=2.0, est=3.6046285714285715, details={'was_impossible': True, 'reason': 'User and/or item is unknown.'}),\n",
       " Prediction(uid=1175796, iid=28, r_ui=5.0, est=2.0862124180230777, details={'actual_k': 1, 'was_impossible': False}),\n",
       " Prediction(uid=2469477, iid=28, r_ui=4.0, est=5, details={'actual_k': 1, 'was_impossible': False}),\n",
       " Prediction(uid=1822126, iid=30, r_ui=4.0, est=3.6046285714285715, details={'was_impossible': True, 'reason': 'User and/or item is unknown.'}),\n",
       " Prediction(uid=986953, iid=30, r_ui=5.0, est=3.6046285714285715, details={'was_impossible': True, 'reason': 'User and/or item is unknown.'}),\n",
       " Prediction(uid=514774, iid=28, r_ui=4.0, est=3.6046285714285715, details={'was_impossible': True, 'reason': 'User and/or item is unknown.'}),\n",
       " Prediction(uid=1621703, iid=30, r_ui=4.0, est=3.6046285714285715, details={'was_impossible': True, 'reason': 'User and/or item is unknown.'}),\n",
       " Prediction(uid=734508, iid=30, r_ui=3.0, est=3.6046285714285715, details={'was_impossible': True, 'reason': 'User and/or item is unknown.'}),\n",
       " Prediction(uid=1359770, iid=28, r_ui=5.0, est=5, details={'actual_k': 1, 'was_impossible': False}),\n",
       " Prediction(uid=1662714, iid=8, r_ui=2.0, est=2.377818266757513, details={'actual_k': 1, 'was_impossible': False}),\n",
       " Prediction(uid=2580300, iid=28, r_ui=3.0, est=3.6046285714285715, details={'was_impossible': True, 'reason': 'User and/or item is unknown.'}),\n",
       " Prediction(uid=769235, iid=28, r_ui=5.0, est=3.6046285714285715, details={'was_impossible': True, 'reason': 'User and/or item is unknown.'}),\n",
       " Prediction(uid=1943087, iid=30, r_ui=5.0, est=3.9137875819769223, details={'actual_k': 1, 'was_impossible': False}),\n",
       " Prediction(uid=2497340, iid=17, r_ui=3.0, est=3.6046285714285715, details={'was_impossible': True, 'reason': 'User and/or item is unknown.'}),\n",
       " Prediction(uid=202811, iid=28, r_ui=2.0, est=3.6046285714285715, details={'was_impossible': True, 'reason': 'User and/or item is unknown.'}),\n",
       " Prediction(uid=1006406, iid=28, r_ui=3.0, est=3.045936470695366, details={'actual_k': 1, 'was_impossible': False}),\n",
       " Prediction(uid=2282528, iid=30, r_ui=4.0, est=3.7150359101088886, details={'actual_k': 0, 'was_impossible': False}),\n",
       " Prediction(uid=170378, iid=28, r_ui=4.0, est=3.6046285714285715, details={'was_impossible': True, 'reason': 'User and/or item is unknown.'}),\n",
       " Prediction(uid=412604, iid=28, r_ui=2.0, est=2.728175831008836, details={'actual_k': 1, 'was_impossible': False}),\n",
       " Prediction(uid=819271, iid=28, r_ui=4.0, est=3.6046285714285715, details={'was_impossible': True, 'reason': 'User and/or item is unknown.'}),\n",
       " Prediction(uid=770229, iid=30, r_ui=4.0, est=3.6046285714285715, details={'was_impossible': True, 'reason': 'User and/or item is unknown.'}),\n",
       " Prediction(uid=1050496, iid=28, r_ui=4.0, est=4.086212418023077, details={'actual_k': 1, 'was_impossible': False}),\n",
       " Prediction(uid=1097256, iid=18, r_ui=4.0, est=2.9602878433476407, details={'actual_k': 1, 'was_impossible': False}),\n",
       " Prediction(uid=108484, iid=17, r_ui=2.0, est=1.1028661620290354, details={'actual_k': 1, 'was_impossible': False}),\n",
       " Prediction(uid=2568209, iid=30, r_ui=5.0, est=3.7150359101088886, details={'actual_k': 0, 'was_impossible': False}),\n",
       " Prediction(uid=1392942, iid=28, r_ui=5.0, est=3.6046285714285715, details={'was_impossible': True, 'reason': 'User and/or item is unknown.'}),\n",
       " Prediction(uid=833567, iid=26, r_ui=4.0, est=3.6046285714285715, details={'was_impossible': True, 'reason': 'User and/or item is unknown.'}),\n",
       " Prediction(uid=1951811, iid=30, r_ui=3.0, est=3.6046285714285715, details={'was_impossible': True, 'reason': 'User and/or item is unknown.'}),\n",
       " Prediction(uid=240527, iid=8, r_ui=4.0, est=3.6046285714285715, details={'was_impossible': True, 'reason': 'User and/or item is unknown.'}),\n",
       " Prediction(uid=2053602, iid=28, r_ui=3.0, est=3.6046285714285715, details={'was_impossible': True, 'reason': 'User and/or item is unknown.'}),\n",
       " Prediction(uid=1697186, iid=8, r_ui=2.0, est=4.235239948076118, details={'actual_k': 1, 'was_impossible': False}),\n",
       " Prediction(uid=1982849, iid=30, r_ui=5.0, est=3.6046285714285715, details={'was_impossible': True, 'reason': 'User and/or item is unknown.'}),\n",
       " Prediction(uid=2392967, iid=30, r_ui=4.0, est=3.6046285714285715, details={'was_impossible': True, 'reason': 'User and/or item is unknown.'}),\n",
       " Prediction(uid=155316, iid=8, r_ui=4.0, est=3.6046285714285715, details={'was_impossible': True, 'reason': 'User and/or item is unknown.'}),\n",
       " Prediction(uid=2152838, iid=18, r_ui=4.0, est=4.4998270440984305, details={'actual_k': 3, 'was_impossible': False}),\n",
       " Prediction(uid=1283709, iid=28, r_ui=4.0, est=3.6046285714285715, details={'was_impossible': True, 'reason': 'User and/or item is unknown.'}),\n",
       " Prediction(uid=201573, iid=30, r_ui=3.0, est=3.6046285714285715, details={'was_impossible': True, 'reason': 'User and/or item is unknown.'}),\n",
       " Prediction(uid=1668051, iid=30, r_ui=3.0, est=3.9534997386292816, details={'actual_k': 1, 'was_impossible': False}),\n",
       " Prediction(uid=1000840, iid=18, r_ui=5.0, est=3.6046285714285715, details={'was_impossible': True, 'reason': 'User and/or item is unknown.'}),\n",
       " Prediction(uid=1714541, iid=8, r_ui=4.0, est=3.13935443823712, details={'actual_k': 0, 'was_impossible': False}),\n",
       " Prediction(uid=2538479, iid=28, r_ui=4.0, est=3.6046285714285715, details={'was_impossible': True, 'reason': 'User and/or item is unknown.'}),\n",
       " Prediction(uid=1366152, iid=28, r_ui=3.0, est=3.8971338379709644, details={'actual_k': 1, 'was_impossible': False}),\n",
       " Prediction(uid=1082716, iid=30, r_ui=3.0, est=4.913787581976923, details={'actual_k': 1, 'was_impossible': False}),\n",
       " Prediction(uid=2290963, iid=28, r_ui=4.0, est=3.6046285714285715, details={'was_impossible': True, 'reason': 'User and/or item is unknown.'}),\n",
       " Prediction(uid=1355247, iid=17, r_ui=3.0, est=3.6046285714285715, details={'was_impossible': True, 'reason': 'User and/or item is unknown.'}),\n",
       " Prediction(uid=526149, iid=16, r_ui=3.0, est=3.271824168991164, details={'actual_k': 1, 'was_impossible': False}),\n",
       " Prediction(uid=1716938, iid=17, r_ui=3.0, est=3.6046285714285715, details={'was_impossible': True, 'reason': 'User and/or item is unknown.'}),\n",
       " Prediction(uid=2288531, iid=28, r_ui=3.0, est=3.6046285714285715, details={'was_impossible': True, 'reason': 'User and/or item is unknown.'}),\n",
       " Prediction(uid=1658806, iid=30, r_ui=3.0, est=3.6046285714285715, details={'was_impossible': True, 'reason': 'User and/or item is unknown.'}),\n",
       " Prediction(uid=2134238, iid=8, r_ui=1.0, est=3.6046285714285715, details={'was_impossible': True, 'reason': 'User and/or item is unknown.'}),\n",
       " Prediction(uid=2551806, iid=30, r_ui=4.0, est=5, details={'actual_k': 1, 'was_impossible': False}),\n",
       " Prediction(uid=1217980, iid=28, r_ui=4.0, est=3.6046285714285715, details={'was_impossible': True, 'reason': 'User and/or item is unknown.'}),\n",
       " Prediction(uid=1811045, iid=8, r_ui=3.0, est=3.13935443823712, details={'actual_k': 0, 'was_impossible': False}),\n",
       " Prediction(uid=2318597, iid=30, r_ui=3.0, est=3.6046285714285715, details={'was_impossible': True, 'reason': 'User and/or item is unknown.'}),\n",
       " Prediction(uid=803556, iid=8, r_ui=2.0, est=3.6046285714285715, details={'was_impossible': True, 'reason': 'User and/or item is unknown.'}),\n",
       " Prediction(uid=1448588, iid=28, r_ui=2.0, est=3.6046285714285715, details={'was_impossible': True, 'reason': 'User and/or item is unknown.'}),\n",
       " Prediction(uid=746609, iid=28, r_ui=5.0, est=3.6046285714285715, details={'was_impossible': True, 'reason': 'User and/or item is unknown.'}),\n",
       " Prediction(uid=2441351, iid=30, r_ui=5.0, est=4.913787581976923, details={'actual_k': 1, 'was_impossible': False}),\n",
       " Prediction(uid=1287892, iid=28, r_ui=3.0, est=3.067498769248965, details={'actual_k': 2, 'was_impossible': False}),\n",
       " Prediction(uid=2128219, iid=28, r_ui=4.0, est=5, details={'actual_k': 1, 'was_impossible': False}),\n",
       " Prediction(uid=2217572, iid=30, r_ui=5.0, est=3.6046285714285715, details={'was_impossible': True, 'reason': 'User and/or item is unknown.'}),\n",
       " Prediction(uid=2160694, iid=28, r_ui=4.0, est=3.6046285714285715, details={'was_impossible': True, 'reason': 'User and/or item is unknown.'}),\n",
       " Prediction(uid=1666862, iid=30, r_ui=5.0, est=3.6046285714285715, details={'was_impossible': True, 'reason': 'User and/or item is unknown.'}),\n",
       " Prediction(uid=2236127, iid=28, r_ui=4.0, est=3.6046285714285715, details={'was_impossible': True, 'reason': 'User and/or item is unknown.'}),\n",
       " Prediction(uid=134182, iid=16, r_ui=3.0, est=1.311536325643523, details={'actual_k': 1, 'was_impossible': False}),\n",
       " Prediction(uid=1109711, iid=28, r_ui=4.0, est=3.6046285714285715, details={'was_impossible': True, 'reason': 'User and/or item is unknown.'}),\n",
       " Prediction(uid=1298147, iid=28, r_ui=4.0, est=4.897133837970964, details={'actual_k': 1, 'was_impossible': False}),\n",
       " Prediction(uid=2534208, iid=8, r_ui=4.0, est=3.13935443823712, details={'actual_k': 0, 'was_impossible': False}),\n",
       " Prediction(uid=1828429, iid=28, r_ui=5.0, est=4.039712156652359, details={'actual_k': 1, 'was_impossible': False}),\n",
       " Prediction(uid=159768, iid=28, r_ui=3.0, est=2.0862124180230777, details={'actual_k': 1, 'was_impossible': False}),\n",
       " Prediction(uid=582541, iid=30, r_ui=1.0, est=3.6046285714285715, details={'was_impossible': True, 'reason': 'User and/or item is unknown.'}),\n",
       " Prediction(uid=2235284, iid=30, r_ui=3.0, est=3.6046285714285715, details={'was_impossible': True, 'reason': 'User and/or item is unknown.'}),\n",
       " Prediction(uid=1849338, iid=17, r_ui=3.0, est=3.6046285714285715, details={'was_impossible': True, 'reason': 'User and/or item is unknown.'}),\n",
       " Prediction(uid=1513550, iid=28, r_ui=3.0, est=3.728175831008836, details={'actual_k': 1, 'was_impossible': False}),\n",
       " Prediction(uid=386619, iid=18, r_ui=5.0, est=3.0465002613707184, details={'actual_k': 1, 'was_impossible': False}),\n",
       " Prediction(uid=243182, iid=30, r_ui=4.0, est=3.7150359101088886, details={'actual_k': 0, 'was_impossible': False}),\n",
       " Prediction(uid=655072, iid=18, r_ui=4.0, est=3.6046285714285715, details={'was_impossible': True, 'reason': 'User and/or item is unknown.'}),\n",
       " Prediction(uid=2552805, iid=18, r_ui=5.0, est=3.6046285714285715, details={'was_impossible': True, 'reason': 'User and/or item is unknown.'}),\n",
       " Prediction(uid=523699, iid=28, r_ui=2.0, est=3.6046285714285715, details={'was_impossible': True, 'reason': 'User and/or item is unknown.'}),\n",
       " Prediction(uid=1889913, iid=3, r_ui=5.0, est=3.6046285714285715, details={'was_impossible': True, 'reason': 'User and/or item is unknown.'}),\n",
       " Prediction(uid=1946170, iid=30, r_ui=1.0, est=3.6046285714285715, details={'was_impossible': True, 'reason': 'User and/or item is unknown.'}),\n",
       " Prediction(uid=1691090, iid=26, r_ui=2.0, est=3.0402759473277117, details={'actual_k': 1, 'was_impossible': False}),\n",
       " Prediction(uid=1148233, iid=30, r_ui=3.0, est=3.6046285714285715, details={'was_impossible': True, 'reason': 'User and/or item is unknown.'}),\n",
       " Prediction(uid=1440917, iid=17, r_ui=4.0, est=4.102866162029036, details={'actual_k': 1, 'was_impossible': False}),\n",
       " Prediction(uid=621815, iid=28, r_ui=2.0, est=4.086212418023077, details={'actual_k': 1, 'was_impossible': False}),\n",
       " Prediction(uid=1350616, iid=28, r_ui=3.0, est=3.6046285714285715, details={'was_impossible': True, 'reason': 'User and/or item is unknown.'}),\n",
       " Prediction(uid=981733, iid=3, r_ui=4.0, est=3.6046285714285715, details={'was_impossible': True, 'reason': 'User and/or item is unknown.'}),\n",
       " Prediction(uid=443271, iid=30, r_ui=4.0, est=3.6046285714285715, details={'was_impossible': True, 'reason': 'User and/or item is unknown.'}),\n",
       " Prediction(uid=2080766, iid=30, r_ui=5.0, est=3.7150359101088886, details={'actual_k': 0, 'was_impossible': False}),\n",
       " Prediction(uid=240121, iid=30, r_ui=5.0, est=3.9534997386292816, details={'actual_k': 1, 'was_impossible': False}),\n",
       " Prediction(uid=682418, iid=17, r_ui=3.0, est=2.1890785800521133, details={'actual_k': 1, 'was_impossible': False}),\n",
       " Prediction(uid=481813, iid=28, r_ui=4.0, est=3.6046285714285715, details={'was_impossible': True, 'reason': 'User and/or item is unknown.'}),\n",
       " Prediction(uid=1985312, iid=8, r_ui=4.0, est=3.13935443823712, details={'actual_k': 0, 'was_impossible': False}),\n",
       " Prediction(uid=213226, iid=28, r_ui=4.0, est=5, details={'actual_k': 1, 'was_impossible': False}),\n",
       " Prediction(uid=1855958, iid=28, r_ui=4.0, est=3.6046285714285715, details={'was_impossible': True, 'reason': 'User and/or item is unknown.'}),\n",
       " Prediction(uid=1010655, iid=30, r_ui=3.0, est=4.913787581976923, details={'actual_k': 1, 'was_impossible': False}),\n",
       " Prediction(uid=1653464, iid=30, r_ui=3.0, est=2.924201733613793, details={'actual_k': 2, 'was_impossible': False}),\n",
       " Prediction(uid=996561, iid=28, r_ui=5.0, est=3.6046285714285715, details={'was_impossible': True, 'reason': 'User and/or item is unknown.'}),\n",
       " Prediction(uid=1663295, iid=26, r_ui=3.0, est=3.6046285714285715, details={'was_impossible': True, 'reason': 'User and/or item is unknown.'}),\n",
       " Prediction(uid=962626, iid=30, r_ui=4.0, est=3.6046285714285715, details={'was_impossible': True, 'reason': 'User and/or item is unknown.'}),\n",
       " Prediction(uid=139212, iid=18, r_ui=3.0, est=2.9900708482716, details={'actual_k': 2, 'was_impossible': False}),\n",
       " Prediction(uid=839115, iid=8, r_ui=4.0, est=3.6046285714285715, details={'was_impossible': True, 'reason': 'User and/or item is unknown.'}),\n",
       " Prediction(uid=1839373, iid=18, r_ui=3.0, est=3.0465002613707184, details={'actual_k': 1, 'was_impossible': False}),\n",
       " Prediction(uid=1727816, iid=26, r_ui=3.0, est=2.954063529304634, details={'actual_k': 1, 'was_impossible': False}),\n",
       " Prediction(uid=125282, iid=30, r_ui=1.0, est=3.6046285714285715, details={'was_impossible': True, 'reason': 'User and/or item is unknown.'}),\n",
       " Prediction(uid=101554, iid=3, r_ui=2.0, est=1.8758575962257755, details={'actual_k': 1, 'was_impossible': False}),\n",
       " Prediction(uid=976527, iid=8, r_ui=1.0, est=3.13935443823712, details={'actual_k': 0, 'was_impossible': False}),\n",
       " Prediction(uid=2394732, iid=30, r_ui=4.0, est=2.9137875819769223, details={'actual_k': 1, 'was_impossible': False}),\n",
       " Prediction(uid=399971, iid=18, r_ui=5.0, est=2.9602878433476407, details={'actual_k': 1, 'was_impossible': False}),\n",
       " Prediction(uid=1001129, iid=26, r_ui=2.0, est=2.1680918437691914, details={'actual_k': 2, 'was_impossible': False}),\n",
       " Prediction(uid=36104, iid=26, r_ui=4.0, est=3.0402759473277117, details={'actual_k': 1, 'was_impossible': False}),\n",
       " Prediction(uid=227076, iid=30, r_ui=4.0, est=3.6046285714285715, details={'was_impossible': True, 'reason': 'User and/or item is unknown.'}),\n",
       " Prediction(uid=407675, iid=3, r_ui=3.0, est=2.4980393294682623, details={'actual_k': 1, 'was_impossible': False}),\n",
       " Prediction(uid=1672089, iid=28, r_ui=2.0, est=3.6046285714285715, details={'was_impossible': True, 'reason': 'User and/or item is unknown.'}),\n",
       " Prediction(uid=1250191, iid=30, r_ui=3.0, est=3.6046285714285715, details={'was_impossible': True, 'reason': 'User and/or item is unknown.'}),\n",
       " Prediction(uid=2613213, iid=30, r_ui=4.0, est=3.6046285714285715, details={'was_impossible': True, 'reason': 'User and/or item is unknown.'}),\n",
       " Prediction(uid=311831, iid=28, r_ui=3.0, est=3.6046285714285715, details={'was_impossible': True, 'reason': 'User and/or item is unknown.'}),\n",
       " Prediction(uid=303006, iid=30, r_ui=3.0, est=3.6046285714285715, details={'was_impossible': True, 'reason': 'User and/or item is unknown.'}),\n",
       " Prediction(uid=1043919, iid=30, r_ui=2.0, est=3.6046285714285715, details={'was_impossible': True, 'reason': 'User and/or item is unknown.'}),\n",
       " Prediction(uid=2190131, iid=28, r_ui=5.0, est=3.6046285714285715, details={'was_impossible': True, 'reason': 'User and/or item is unknown.'}),\n",
       " Prediction(uid=2117607, iid=8, r_ui=2.0, est=3.6046285714285715, details={'was_impossible': True, 'reason': 'User and/or item is unknown.'}),\n",
       " Prediction(uid=1204995, iid=30, r_ui=4.0, est=3.0776421424035063, details={'actual_k': 1, 'was_impossible': False}),\n",
       " Prediction(uid=850190, iid=30, r_ui=3.0, est=3.9597240526722883, details={'actual_k': 1, 'was_impossible': False}),\n",
       " Prediction(uid=1793225, iid=30, r_ui=3.0, est=3.6046285714285715, details={'was_impossible': True, 'reason': 'User and/or item is unknown.'}),\n",
       " Prediction(uid=228772, iid=30, r_ui=5.0, est=3.6046285714285715, details={'was_impossible': True, 'reason': 'User and/or item is unknown.'}),\n",
       " Prediction(uid=1856385, iid=30, r_ui=4.0, est=3.6046285714285715, details={'was_impossible': True, 'reason': 'User and/or item is unknown.'}),\n",
       " Prediction(uid=882703, iid=26, r_ui=4.0, est=3.6046285714285715, details={'was_impossible': True, 'reason': 'User and/or item is unknown.'}),\n",
       " Prediction(uid=415039, iid=28, r_ui=2.0, est=4.728175831008836, details={'actual_k': 1, 'was_impossible': False}),\n",
       " Prediction(uid=1946590, iid=8, r_ui=3.0, est=3.13935443823712, details={'actual_k': 0, 'was_impossible': False}),\n",
       " Prediction(uid=739277, iid=8, r_ui=2.0, est=3.6046285714285715, details={'was_impossible': True, 'reason': 'User and/or item is unknown.'}),\n",
       " Prediction(uid=754117, iid=28, r_ui=4.0, est=3.6046285714285715, details={'was_impossible': True, 'reason': 'User and/or item is unknown.'}),\n",
       " Prediction(uid=2643787, iid=18, r_ui=3.0, est=3.6046285714285715, details={'was_impossible': True, 'reason': 'User and/or item is unknown.'}),\n",
       " Prediction(uid=1385643, iid=30, r_ui=5.0, est=3.6046285714285715, details={'was_impossible': True, 'reason': 'User and/or item is unknown.'}),\n",
       " Prediction(uid=1281187, iid=30, r_ui=5.0, est=3.6046285714285715, details={'was_impossible': True, 'reason': 'User and/or item is unknown.'}),\n",
       " Prediction(uid=594581, iid=30, r_ui=4.0, est=3.6046285714285715, details={'was_impossible': True, 'reason': 'User and/or item is unknown.'}),\n",
       " Prediction(uid=1803175, iid=30, r_ui=4.0, est=3.6046285714285715, details={'was_impossible': True, 'reason': 'User and/or item is unknown.'}),\n",
       " Prediction(uid=1740380, iid=28, r_ui=5.0, est=3.6046285714285715, details={'was_impossible': True, 'reason': 'User and/or item is unknown.'}),\n",
       " Prediction(uid=1611284, iid=17, r_ui=3.0, est=3.6046285714285715, details={'was_impossible': True, 'reason': 'User and/or item is unknown.'}),\n",
       " Prediction(uid=1003143, iid=30, r_ui=4.0, est=3.405096661687594, details={'actual_k': 2, 'was_impossible': False}),\n",
       " Prediction(uid=2258828, iid=28, r_ui=3.0, est=5, details={'actual_k': 1, 'was_impossible': False}),\n",
       " Prediction(uid=1521697, iid=28, r_ui=4.0, est=3.6046285714285715, details={'was_impossible': True, 'reason': 'User and/or item is unknown.'}),\n",
       " Prediction(uid=2471500, iid=17, r_ui=3.0, est=2.7224560453591082, details={'actual_k': 2, 'was_impossible': False}),\n",
       " Prediction(uid=901019, iid=28, r_ui=3.0, est=3.6046285714285715, details={'was_impossible': True, 'reason': 'User and/or item is unknown.'}),\n",
       " Prediction(uid=1694632, iid=28, r_ui=5.0, est=3.0862124180230777, details={'actual_k': 1, 'was_impossible': False}),\n",
       " Prediction(uid=154203, iid=30, r_ui=4.0, est=3.6046285714285715, details={'was_impossible': True, 'reason': 'User and/or item is unknown.'}),\n",
       " Prediction(uid=1840149, iid=30, r_ui=4.0, est=3.6046285714285715, details={'was_impossible': True, 'reason': 'User and/or item is unknown.'}),\n",
       " Prediction(uid=745885, iid=30, r_ui=2.0, est=3.6046285714285715, details={'was_impossible': True, 'reason': 'User and/or item is unknown.'}),\n",
       " Prediction(uid=1237169, iid=30, r_ui=3.0, est=4.913787581976923, details={'actual_k': 1, 'was_impossible': False}),\n",
       " Prediction(uid=1931952, iid=28, r_ui=5.0, est=3.6046285714285715, details={'was_impossible': True, 'reason': 'User and/or item is unknown.'}),\n",
       " Prediction(uid=906484, iid=30, r_ui=2.0, est=3.6046285714285715, details={'was_impossible': True, 'reason': 'User and/or item is unknown.'}),\n",
       " Prediction(uid=618427, iid=28, r_ui=3.0, est=3.6046285714285715, details={'was_impossible': True, 'reason': 'User and/or item is unknown.'}),\n",
       " Prediction(uid=274662, iid=30, r_ui=4.0, est=3.8109214199478867, details={'actual_k': 1, 'was_impossible': False}),\n",
       " Prediction(uid=172344, iid=28, r_ui=5.0, est=3.6046285714285715, details={'was_impossible': True, 'reason': 'User and/or item is unknown.'}),\n",
       " Prediction(uid=2594516, iid=28, r_ui=3.0, est=3.8012483281319662, details={'actual_k': 0, 'was_impossible': False}),\n",
       " Prediction(uid=1650843, iid=30, r_ui=4.0, est=3.7150359101088886, details={'actual_k': 0, 'was_impossible': False}),\n",
       " Prediction(uid=96089, iid=26, r_ui=3.0, est=3.6046285714285715, details={'was_impossible': True, 'reason': 'User and/or item is unknown.'}),\n",
       " Prediction(uid=1501327, iid=28, r_ui=4.0, est=3.6046285714285715, details={'was_impossible': True, 'reason': 'User and/or item is unknown.'}),\n",
       " Prediction(uid=824527, iid=30, r_ui=4.0, est=3.6046285714285715, details={'was_impossible': True, 'reason': 'User and/or item is unknown.'}),\n",
       " Prediction(uid=805031, iid=8, r_ui=5.0, est=3.13935443823712, details={'actual_k': 0, 'was_impossible': False}),\n",
       " Prediction(uid=2489799, iid=28, r_ui=3.0, est=3.6747354975234416, details={'actual_k': 2, 'was_impossible': False}),\n",
       " Prediction(uid=234606, iid=30, r_ui=4.0, est=2.9137875819769223, details={'actual_k': 1, 'was_impossible': False}),\n",
       " Prediction(uid=478193, iid=30, r_ui=3.0, est=3.6046285714285715, details={'was_impossible': True, 'reason': 'User and/or item is unknown.'}),\n",
       " Prediction(uid=1957994, iid=30, r_ui=3.0, est=3.6046285714285715, details={'was_impossible': True, 'reason': 'User and/or item is unknown.'}),\n",
       " Prediction(uid=307005, iid=28, r_ui=5.0, est=3.6046285714285715, details={'was_impossible': True, 'reason': 'User and/or item is unknown.'}),\n",
       " Prediction(uid=2596061, iid=30, r_ui=3.0, est=3.6046285714285715, details={'was_impossible': True, 'reason': 'User and/or item is unknown.'}),\n",
       " Prediction(uid=297269, iid=8, r_ui=5.0, est=3.6046285714285715, details={'was_impossible': True, 'reason': 'User and/or item is unknown.'}),\n",
       " Prediction(uid=410245, iid=28, r_ui=4.0, est=3.6046285714285715, details={'was_impossible': True, 'reason': 'User and/or item is unknown.'}),\n",
       " Prediction(uid=1031692, iid=8, r_ui=2.0, est=3.6046285714285715, details={'was_impossible': True, 'reason': 'User and/or item is unknown.'}),\n",
       " Prediction(uid=529676, iid=8, r_ui=2.0, est=3.6046285714285715, details={'was_impossible': True, 'reason': 'User and/or item is unknown.'}),\n",
       " Prediction(uid=2510217, iid=18, r_ui=4.0, est=3.6046285714285715, details={'was_impossible': True, 'reason': 'User and/or item is unknown.'}),\n",
       " Prediction(uid=1746430, iid=28, r_ui=2.0, est=3.6046285714285715, details={'was_impossible': True, 'reason': 'User and/or item is unknown.'}),\n",
       " Prediction(uid=1912415, iid=26, r_ui=4.0, est=3.6046285714285715, details={'was_impossible': True, 'reason': 'User and/or item is unknown.'}),\n",
       " Prediction(uid=2245901, iid=30, r_ui=4.0, est=3.7150359101088886, details={'actual_k': 0, 'was_impossible': False}),\n",
       " Prediction(uid=1696428, iid=28, r_ui=4.0, est=3.6046285714285715, details={'was_impossible': True, 'reason': 'User and/or item is unknown.'}),\n",
       " Prediction(uid=966158, iid=28, r_ui=4.0, est=3.6046285714285715, details={'was_impossible': True, 'reason': 'User and/or item is unknown.'}),\n",
       " Prediction(uid=640687, iid=28, r_ui=4.0, est=3.6046285714285715, details={'was_impossible': True, 'reason': 'User and/or item is unknown.'}),\n",
       " Prediction(uid=1401310, iid=18, r_ui=4.0, est=4.046500261370719, details={'actual_k': 1, 'was_impossible': False}),\n",
       " Prediction(uid=2553443, iid=30, r_ui=4.0, est=3.6046285714285715, details={'was_impossible': True, 'reason': 'User and/or item is unknown.'}),\n",
       " Prediction(uid=1351564, iid=8, r_ui=2.0, est=3.13935443823712, details={'actual_k': 0, 'was_impossible': False}),\n",
       " Prediction(uid=2445267, iid=28, r_ui=4.0, est=3.6046285714285715, details={'was_impossible': True, 'reason': 'User and/or item is unknown.'}),\n",
       " Prediction(uid=633253, iid=28, r_ui=4.0, est=5, details={'actual_k': 1, 'was_impossible': False}),\n",
       " Prediction(uid=1526906, iid=28, r_ui=4.0, est=3.6046285714285715, details={'was_impossible': True, 'reason': 'User and/or item is unknown.'}),\n",
       " Prediction(uid=1704775, iid=30, r_ui=5.0, est=3.6046285714285715, details={'was_impossible': True, 'reason': 'User and/or item is unknown.'}),\n",
       " Prediction(uid=546753, iid=28, r_ui=5.0, est=4.086212418023077, details={'actual_k': 1, 'was_impossible': False}),\n",
       " Prediction(uid=1255241, iid=16, r_ui=2.0, est=3.6046285714285715, details={'was_impossible': True, 'reason': 'User and/or item is unknown.'}),\n",
       " Prediction(uid=774018, iid=30, r_ui=2.0, est=1, details={'actual_k': 1, 'was_impossible': False}),\n",
       " Prediction(uid=1101078, iid=18, r_ui=5.0, est=3.6046285714285715, details={'was_impossible': True, 'reason': 'User and/or item is unknown.'}),\n",
       " Prediction(uid=2083947, iid=28, r_ui=5.0, est=3.0397121566523593, details={'actual_k': 1, 'was_impossible': False}),\n",
       " Prediction(uid=544571, iid=28, r_ui=4.0, est=5, details={'actual_k': 1, 'was_impossible': False}),\n",
       " Prediction(uid=1087303, iid=30, r_ui=3.0, est=3.6046285714285715, details={'was_impossible': True, 'reason': 'User and/or item is unknown.'}),\n",
       " Prediction(uid=934235, iid=30, r_ui=4.0, est=2.9597240526722883, details={'actual_k': 1, 'was_impossible': False}),\n",
       " Prediction(uid=323263, iid=30, r_ui=4.0, est=3.7150359101088886, details={'actual_k': 0, 'was_impossible': False}),\n",
       " Prediction(uid=661613, iid=18, r_ui=4.0, est=3.6046285714285715, details={'was_impossible': True, 'reason': 'User and/or item is unknown.'}),\n",
       " Prediction(uid=2517183, iid=30, r_ui=5.0, est=3.6046285714285715, details={'was_impossible': True, 'reason': 'User and/or item is unknown.'}),\n",
       " Prediction(uid=1838010, iid=18, r_ui=5.0, est=4.960287843347641, details={'actual_k': 1, 'was_impossible': False}),\n",
       " Prediction(uid=2445315, iid=28, r_ui=4.0, est=3.6046285714285715, details={'was_impossible': True, 'reason': 'User and/or item is unknown.'}),\n",
       " Prediction(uid=1114857, iid=30, r_ui=4.0, est=3.9597240526722883, details={'actual_k': 1, 'was_impossible': False}),\n",
       " Prediction(uid=1817678, iid=28, r_ui=5.0, est=5, details={'actual_k': 1, 'was_impossible': False}),\n",
       " Prediction(uid=1628597, iid=28, r_ui=4.0, est=3.6046285714285715, details={'was_impossible': True, 'reason': 'User and/or item is unknown.'}),\n",
       " Prediction(uid=489121, iid=28, r_ui=3.0, est=3.6046285714285715, details={'was_impossible': True, 'reason': 'User and/or item is unknown.'}),\n",
       " Prediction(uid=975592, iid=28, r_ui=4.0, est=3.398950982614724, details={'actual_k': 4, 'was_impossible': False}),\n",
       " Prediction(uid=1106518, iid=30, r_ui=3.0, est=3.6046285714285715, details={'was_impossible': True, 'reason': 'User and/or item is unknown.'}),\n",
       " Prediction(uid=576535, iid=18, r_ui=3.0, est=3.6046285714285715, details={'was_impossible': True, 'reason': 'User and/or item is unknown.'}),\n",
       " Prediction(uid=416214, iid=30, r_ui=4.0, est=1.9534997386292816, details={'actual_k': 1, 'was_impossible': False}),\n",
       " Prediction(uid=2341939, iid=30, r_ui=4.0, est=3.6046285714285715, details={'was_impossible': True, 'reason': 'User and/or item is unknown.'}),\n",
       " Prediction(uid=1203442, iid=18, r_ui=3.0, est=3.6046285714285715, details={'was_impossible': True, 'reason': 'User and/or item is unknown.'}),\n",
       " Prediction(uid=892305, iid=17, r_ui=3.0, est=3.6046285714285715, details={'was_impossible': True, 'reason': 'User and/or item is unknown.'}),\n",
       " Prediction(uid=214959, iid=28, r_ui=5.0, est=3.6046285714285715, details={'was_impossible': True, 'reason': 'User and/or item is unknown.'}),\n",
       " Prediction(uid=1453873, iid=30, r_ui=3.0, est=4.913787581976923, details={'actual_k': 1, 'was_impossible': False}),\n",
       " Prediction(uid=1736289, iid=18, r_ui=4.0, est=3.6046285714285715, details={'was_impossible': True, 'reason': 'User and/or item is unknown.'}),\n",
       " Prediction(uid=916862, iid=28, r_ui=3.0, est=3.0397121566523593, details={'actual_k': 1, 'was_impossible': False}),\n",
       " Prediction(uid=347885, iid=26, r_ui=2.0, est=2.328688138240837, details={'actual_k': 3, 'was_impossible': False}),\n",
       " Prediction(uid=1810064, iid=26, r_ui=1.0, est=3.6046285714285715, details={'was_impossible': True, 'reason': 'User and/or item is unknown.'}),\n",
       " Prediction(uid=1382654, iid=8, r_ui=4.0, est=3.6046285714285715, details={'was_impossible': True, 'reason': 'User and/or item is unknown.'}),\n",
       " Prediction(uid=94821, iid=28, r_ui=3.0, est=3.6046285714285715, details={'was_impossible': True, 'reason': 'User and/or item is unknown.'}),\n",
       " Prediction(uid=2562093, iid=8, r_ui=3.0, est=3.6046285714285715, details={'was_impossible': True, 'reason': 'User and/or item is unknown.'}),\n",
       " Prediction(uid=1927580, iid=18, r_ui=5.0, est=3.6046285714285715, details={'was_impossible': True, 'reason': 'User and/or item is unknown.'}),\n",
       " Prediction(uid=2065126, iid=28, r_ui=5.0, est=5, details={'actual_k': 1, 'was_impossible': False}),\n",
       " Prediction(uid=185001, iid=28, r_ui=3.0, est=5, details={'actual_k': 1, 'was_impossible': False}),\n",
       " Prediction(uid=150141, iid=30, r_ui=4.0, est=2.9137875819769223, details={'actual_k': 1, 'was_impossible': False}),\n",
       " Prediction(uid=2303437, iid=28, r_ui=4.0, est=3.6046285714285715, details={'was_impossible': True, 'reason': 'User and/or item is unknown.'}),\n",
       " Prediction(uid=1600196, iid=18, r_ui=3.0, est=3.6046285714285715, details={'was_impossible': True, 'reason': 'User and/or item is unknown.'}),\n",
       " Prediction(uid=671446, iid=16, r_ui=2.0, est=3.6046285714285715, details={'was_impossible': True, 'reason': 'User and/or item is unknown.'}),\n",
       " Prediction(uid=659246, iid=28, r_ui=4.0, est=4.086212418023077, details={'actual_k': 1, 'was_impossible': False}),\n",
       " Prediction(uid=2463081, iid=30, r_ui=3.0, est=3.9137875819769223, details={'actual_k': 1, 'was_impossible': False}),\n",
       " Prediction(uid=1835515, iid=8, r_ui=3.0, est=3.6046285714285715, details={'was_impossible': True, 'reason': 'User and/or item is unknown.'}),\n",
       " Prediction(uid=402547, iid=28, r_ui=2.0, est=2.728175831008836, details={'actual_k': 1, 'was_impossible': False}),\n",
       " Prediction(uid=670950, iid=18, r_ui=5.0, est=3.6046285714285715, details={'was_impossible': True, 'reason': 'User and/or item is unknown.'}),\n",
       " Prediction(uid=901555, iid=8, r_ui=5.0, est=3.13935443823712, details={'actual_k': 0, 'was_impossible': False}),\n",
       " Prediction(uid=2580254, iid=28, r_ui=4.0, est=3.6046285714285715, details={'was_impossible': True, 'reason': 'User and/or item is unknown.'}),\n",
       " Prediction(uid=2052271, iid=28, r_ui=4.0, est=3.6046285714285715, details={'was_impossible': True, 'reason': 'User and/or item is unknown.'}),\n",
       " Prediction(uid=2489908, iid=30, r_ui=3.0, est=2.9534997386292816, details={'actual_k': 1, 'was_impossible': False}),\n",
       " Prediction(uid=761371, iid=28, r_ui=3.0, est=3.3593236927589913, details={'actual_k': 2, 'was_impossible': False}),\n",
       " Prediction(uid=615914, iid=8, r_ui=3.0, est=3.6046285714285715, details={'was_impossible': True, 'reason': 'User and/or item is unknown.'}),\n",
       " Prediction(uid=2387740, iid=28, r_ui=3.0, est=3.6046285714285715, details={'was_impossible': True, 'reason': 'User and/or item is unknown.'}),\n",
       " Prediction(uid=352571, iid=8, r_ui=5.0, est=3.6046285714285715, details={'was_impossible': True, 'reason': 'User and/or item is unknown.'}),\n",
       " Prediction(uid=2470742, iid=30, r_ui=5.0, est=3.6046285714285715, details={'was_impossible': True, 'reason': 'User and/or item is unknown.'}),\n",
       " Prediction(uid=74059, iid=18, r_ui=2.0, est=3.6046285714285715, details={'was_impossible': True, 'reason': 'User and/or item is unknown.'}),\n",
       " Prediction(uid=1810693, iid=28, r_ui=1.0, est=3.6046285714285715, details={'was_impossible': True, 'reason': 'User and/or item is unknown.'}),\n",
       " Prediction(uid=1334149, iid=18, r_ui=5.0, est=3.6046285714285715, details={'was_impossible': True, 'reason': 'User and/or item is unknown.'}),\n",
       " Prediction(uid=1186427, iid=28, r_ui=5.0, est=3.8971338379709644, details={'actual_k': 1, 'was_impossible': False}),\n",
       " Prediction(uid=491513, iid=26, r_ui=3.0, est=3.117918089731218, details={'actual_k': 1, 'was_impossible': False}),\n",
       " Prediction(uid=858298, iid=8, r_ui=3.0, est=3.6046285714285715, details={'was_impossible': True, 'reason': 'User and/or item is unknown.'}),\n",
       " Prediction(uid=799817, iid=28, r_ui=4.0, est=4.086212418023077, details={'actual_k': 1, 'was_impossible': False}),\n",
       " Prediction(uid=1897496, iid=8, r_ui=3.0, est=3.13935443823712, details={'actual_k': 0, 'was_impossible': False}),\n",
       " Prediction(uid=940806, iid=28, r_ui=5.0, est=3.6046285714285715, details={'was_impossible': True, 'reason': 'User and/or item is unknown.'}),\n",
       " Prediction(uid=1805978, iid=30, r_ui=4.0, est=3.6046285714285715, details={'was_impossible': True, 'reason': 'User and/or item is unknown.'}),\n",
       " Prediction(uid=2083271, iid=28, r_ui=5.0, est=3.6046285714285715, details={'was_impossible': True, 'reason': 'User and/or item is unknown.'}),\n",
       " ...]"
      ]
     },
     "execution_count": 110,
     "metadata": {},
     "output_type": "execute_result"
    }
   ],
   "source": [
    "test_pred = algo.test(testset)\n",
    "test_pred"
   ]
  },
  {
   "cell_type": "code",
   "execution_count": 111,
   "metadata": {},
   "outputs": [
    {
     "name": "stdout",
     "output_type": "stream",
     "text": [
      "Item-based Model : Test Set\n",
      "RMSE: 1.0878\n"
     ]
    },
    {
     "data": {
      "text/plain": [
       "1.0877887190365283"
      ]
     },
     "execution_count": 111,
     "metadata": {},
     "output_type": "execute_result"
    }
   ],
   "source": [
    "print(\"Item-based Model : Test Set\")\n",
    "accuracy.rmse(test_pred, verbose=True)"
   ]
  },
  {
   "cell_type": "markdown",
   "metadata": {
    "_cell_guid": "25d88f52-36a2-4c62-bdc5-fee174b1aab7",
    "_uuid": "f24caa335865e13f5e0feb47bfb0b47996c69570"
   },
   "source": [
    "## Collaborative Filtering (Item-Item Approach )"
   ]
  },
  {
   "cell_type": "markdown",
   "metadata": {
    "_cell_guid": "d1220239-a049-4543-9ab6-89e1d00d6cdd",
    "_uuid": "4d4082f49c67f7406af44d9125ddab4c16ca967e"
   },
   "source": [
    "Here we find similarities between items to make suggestions/recommendations for the user. For that we would blend the idea of correlation and we use \"Pearson's R\""
   ]
  },
  {
   "cell_type": "code",
   "execution_count": 112,
   "metadata": {
    "_cell_guid": "200cf4e8-59d6-459d-a0e5-5c9452bc8ad0",
    "_uuid": "531e21998a34956e35f3e0a839e18d528faa6709"
   },
   "outputs": [],
   "source": [
    "def recommend(movie_title, min_count):\n",
    "    print(\"For movie ({})\".format(movie_title))\n",
    "    print(\"- Top 10 movies recommended based on Pearsons'R correlation - \")\n",
    "    i = int(df_title.index[df_title['Name'] == movie_title][0])\n",
    "    target = df_p[i]\n",
    "    similar_to_target = df_p.corrwith(target)\n",
    "    corr_target = pd.DataFrame(similar_to_target, columns = ['PearsonR'])\n",
    "    corr_target.dropna(inplace = True)\n",
    "    corr_target = corr_target.sort_values('PearsonR', ascending = False)\n",
    "    corr_target.index = corr_target.index.map(int)\n",
    "    corr_target = corr_target.join(df_title).join(df_movie_summary)[['PearsonR', 'Name', 'count', 'mean']]\n",
    "    print(corr_target[corr_target['count']>min_count][:10].to_string(index=False))"
   ]
  },
  {
   "cell_type": "code",
   "execution_count": 113,
   "metadata": {
    "_cell_guid": "9691bc55-4bde-4580-ae43-f9698e46ab81",
    "_uuid": "903cb1f6529d9d93deb557b5ac7eeba4b42d8a53"
   },
   "outputs": [
    {
     "name": "stdout",
     "output_type": "stream",
     "text": [
      "For movie (Forrest Gump)\n",
      "- Top 10 movies recommended based on Pearsons'R correlation - \n",
      " PearsonR                                 Name   count      mean\n",
      " 1.000000                         Forrest Gump  181508  4.299910\n",
      " 0.349910                             Rain Man  122158  4.125280\n",
      " 0.346576                       The Green Mile  181426  4.306941\n",
      " 0.336935                            Cast Away   87658  3.750781\n",
      " 0.335988  Dances With Wolves: Special Edition   70799  3.943968\n",
      " 0.323751                       Mrs. Doubtfire   68615  3.665248\n",
      " 0.321019                  Saving Private Ryan  131175  4.295087\n",
      " 0.319629                        Jerry Maguire   99460  3.804193\n",
      " 0.316388                                Ghost  135431  3.649246\n",
      " 0.314385                                  Big  114043  3.892444\n"
     ]
    }
   ],
   "source": [
    "recommend(\"Forrest Gump\", 0)"
   ]
  },
  {
   "cell_type": "markdown",
   "metadata": {
    "_cell_guid": "c4f1cfbe-0c57-46b5-97d4-1f9466862802",
    "_uuid": "3646da79d856c2895001832bedb3bf5236a84166"
   },
   "source": [
    "Here we can see that when we try to recommend movies based on 'Forrest Gump', we could see more movies of TOM HANKS. This suggest that our model is working pretty fine"
   ]
  },
  {
   "cell_type": "code",
   "execution_count": 114,
   "metadata": {
    "_cell_guid": "9fc24be5-1037-4208-b1ca-07e2e9f8c4a7",
    "_uuid": "8586765d4b658bea95997f4418b7ae14c2c6be3d",
    "scrolled": true
   },
   "outputs": [
    {
     "name": "stdout",
     "output_type": "stream",
     "text": [
      "For movie (Lord of the Rings: The Fellowship of the Ring)\n",
      "- Top 10 movies recommended based on Pearsons'R correlation - \n",
      " PearsonR                                                                 Name   count      mean\n",
      " 1.000000                        Lord of the Rings: The Fellowship of the Ring  149866  4.434708\n",
      " 0.809049                                    Lord of the Rings: The Two Towers  151245  4.460676\n",
      " 0.756614                            Lord of the Rings: The Return of the King  134284  4.545121\n",
      " 0.691485  The Lord of the Rings: The Fellowship of the Ring: Extended Edition   73422  4.716611\n",
      " 0.657337                  Lord of the Rings: The Two Towers: Extended Edition   74912  4.702611\n",
      " 0.631096          Lord of the Rings: The Return of the King: Extended Edition   73335  4.723270\n",
      " 0.454500                    Lord of the Rings: The Two Towers: Bonus Material    2127  4.213916\n",
      " 0.298714         National Geographic: Beyond the Movie: The Lord of the Rings    2816  3.393821\n",
      " 0.278131                                                          Gundam Wing    2410  3.372199\n",
      " 0.263959                                                         Samurai Jack    2427  3.890400\n"
     ]
    }
   ],
   "source": [
    "recommend(\"Lord of the Rings: The Fellowship of the Ring\", 0)"
   ]
  },
  {
   "cell_type": "markdown",
   "metadata": {
    "_cell_guid": "c4f1cfbe-0c57-46b5-97d4-1f9466862802",
    "_uuid": "3646da79d856c2895001832bedb3bf5236a84166"
   },
   "source": [
    "Again outhere, we requested recommendations considering \"Lord of the Rings: The Fellowship of the Ring\" and its sequel is been displayed atfirst, Another good sign."
   ]
  },
  {
   "cell_type": "code",
   "execution_count": 117,
   "metadata": {
    "scrolled": true
   },
   "outputs": [
    {
     "name": "stdout",
     "output_type": "stream",
     "text": [
      "For movie (Casino Royale)\n",
      "- Top 10 movies recommended based on Pearsons'R correlation - \n",
      " PearsonR                                        Name  count      mean\n",
      " 1.000000                               Casino Royale   3222  2.891993\n",
      " 0.598991                                    The Deal   2061  2.727317\n",
      " 0.592919                               Touch of Pink   2866  3.492673\n",
      " 0.573458                                  Foxy Brown   1951  3.303434\n",
      " 0.568798                                       Belly   2072  3.524131\n",
      " 0.567210  Amandla! A Revolution in Four Part Harmony   2235  3.551678\n",
      " 0.563610                         Outlaw Star: Vol. 2   2083  4.122420\n",
      " 0.563555                           Disappearing Acts   3019  3.525340\n",
      " 0.548718                  I Can Do Bad All By Myself   3637  3.741545\n",
      " 0.535827                                      Blast!   2124  3.020245\n"
     ]
    }
   ],
   "source": [
    "recommend('Casino Royale',0)"
   ]
  },
  {
   "cell_type": "code",
   "execution_count": 118,
   "metadata": {},
   "outputs": [
    {
     "name": "stdout",
     "output_type": "stream",
     "text": [
      "For movie (Spider-Man 2)\n",
      "- Top 10 movies recommended based on Pearsons'R correlation - \n",
      " PearsonR                                                   Name   count      mean\n",
      " 1.000000                                           Spider-Man 2  136461  3.905768\n",
      " 0.586785                                             Spider-Man  132142  3.871517\n",
      " 0.378049                                       X2: X-Men United   98720  3.932202\n",
      " 0.363778                                          Batman Begins   54922  4.236699\n",
      " 0.352700                           Batman & Mr. Freeze: Subzero    3024  3.130952\n",
      " 0.351001                                                  X-Men   99304  3.891223\n",
      " 0.335885                        Dragon Ball Z: Super Android 13    2426  3.428689\n",
      " 0.321205  Batman: The Animated Series: Tales of the Dark Knight    2432  3.583059\n",
      " 0.314322                                                      I  155714  3.716461\n",
      " 0.312837                                        The Incredibles  133457  4.308871\n"
     ]
    }
   ],
   "source": [
    "recommend('Spider-Man 2',0)"
   ]
  },
  {
   "cell_type": "markdown",
   "metadata": {
    "_cell_guid": "e9ba141d-cec5-4104-935e-f0492ce099df",
    "_uuid": "08abd9eabd6c0999751f5cab879e9976517e61d8"
   },
   "source": [
    "Thank You... :-)\n"
   ]
  },
  {
   "cell_type": "code",
   "execution_count": null,
   "metadata": {},
   "outputs": [],
   "source": []
  }
 ],
 "metadata": {
  "kernelspec": {
   "display_name": "Python 3",
   "language": "python",
   "name": "python3"
  },
  "language_info": {
   "codemirror_mode": {
    "name": "ipython",
    "version": 3
   },
   "file_extension": ".py",
   "mimetype": "text/x-python",
   "name": "python",
   "nbconvert_exporter": "python",
   "pygments_lexer": "ipython3",
   "version": "3.7.9"
  }
 },
 "nbformat": 4,
 "nbformat_minor": 4
}
